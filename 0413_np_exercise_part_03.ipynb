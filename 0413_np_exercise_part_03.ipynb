{
 "cells": [
  {
   "cell_type": "markdown",
   "id": "ce900027",
   "metadata": {},
   "source": [
    "# Random Shuffling"
   ]
  },
  {
   "cell_type": "markdown",
   "id": "6b0e848e",
   "metadata": {},
   "source": [
    "## suffling a vector"
   ]
  },
  {
   "cell_type": "code",
   "execution_count": 1,
   "id": "c30bebb5",
   "metadata": {},
   "outputs": [
    {
     "name": "stdout",
     "output_type": "stream",
     "text": [
      "[0 1 2 3 4 5 6 7 8 9]\n",
      "[9 6 2 3 7 4 5 8 1 0]\n"
     ]
    }
   ],
   "source": [
    "import numpy as np\n",
    "a = np.arange(10)\n",
    "np.random.shuffle(a) # return 값이 없음. \n",
    "print(a) # 이렇게 두 줄로 만들어주기 \n"
   ]
  },
  {
   "cell_type": "markdown",
   "id": "3cb67b5e",
   "metadata": {},
   "source": [
    "## shuffling a matrix"
   ]
  },
  {
   "cell_type": "code",
   "execution_count": 3,
   "id": "c604fabd",
   "metadata": {},
   "outputs": [
    {
     "name": "stdout",
     "output_type": "stream",
     "text": [
      "[[ 0  1  2]\n",
      " [ 3  4  5]\n",
      " [ 6  7  8]\n",
      " [ 9 10 11]\n",
      " [12 13 14]]\n",
      "[[ 3  4  5]\n",
      " [12 13 14]\n",
      " [ 9 10 11]\n",
      " [ 6  7  8]\n",
      " [ 0  1  2]]\n"
     ]
    }
   ],
   "source": [
    "import numpy as np\n",
    "M = np.arange(15).reshape(5,-1)\n",
    "print(M)\n",
    "\n",
    "np.random.shuffle(M) # 가장 바깥쪽 차원부터 shuffling, 여기서는 row\n",
    "print(M)"
   ]
  },
  {
   "cell_type": "code",
   "execution_count": 5,
   "id": "86f0c6ef",
   "metadata": {},
   "outputs": [
    {
     "name": "stdout",
     "output_type": "stream",
     "text": [
      "[[ 0  1  2]\n",
      " [ 3  4  5]\n",
      " [ 6  7  8]\n",
      " [ 9 10 11]\n",
      " [12 13 14]]\n",
      "[[ 0  1  2]\n",
      " [ 3  4  5]\n",
      " [ 6  7  8]\n",
      " [ 9 10 11]\n",
      " [12 13 14]]\n",
      "[[ 0  2  1]\n",
      " [ 3  5  4]\n",
      " [ 6  8  7]\n",
      " [ 9 11 10]\n",
      " [12 14 13]]\n"
     ]
    }
   ],
   "source": [
    "import numpy as np\n",
    "# row-wise\n",
    "M = np.arange(15).reshape(5,-1)\n",
    "print(M)\n",
    "\n",
    "# column-wise로 shuffling을 해주고 싶을 때\n",
    "N = np.arange(15).reshape(5,-1)\n",
    "print(N)\n",
    "N = N.T  # transpose\n",
    "np.random.shuffle(N) # shuffling\n",
    "N = N.T # transpose again\n",
    "print(N)\n"
   ]
  },
  {
   "cell_type": "markdown",
   "id": "6b6b6e39",
   "metadata": {},
   "source": [
    "## shuffling a matrix"
   ]
  },
  {
   "cell_type": "code",
   "execution_count": 17,
   "id": "601b3a59",
   "metadata": {},
   "outputs": [
    {
     "name": "stdout",
     "output_type": "stream",
     "text": [
      "\u001b[32mbefore shuffling\u001b[0m\n",
      "[ 0.    1.11  2.22  3.33  4.44  5.56  6.67  7.78  8.89 10.  ]\n",
      "[  0.    11.11  22.22  33.33  44.44  55.56  66.67  77.78  88.89 100.  ]\n",
      "\u001b[31mafter shuffling\u001b[0m\n",
      "[ 5.56  3.33  0.    8.89 10.    4.44  2.22  1.11  7.78  6.67]\n",
      "[ 55.56  33.33   0.    88.89 100.    44.44  22.22  11.11  77.78  66.67]\n"
     ]
    }
   ],
   "source": [
    "import numpy as np\n",
    "from termcolor import colored\n",
    "np.set_printoptions(precision=2)\n",
    "\n",
    "N = 10\n",
    "a = np.linspace(0,10,N)\n",
    "b = np.linspace(0,100,N)\n",
    "print(colored('before shuffling', 'green'))\n",
    "print(a)\n",
    "print(b)\n",
    "\n",
    "indices = np.arange(N)\n",
    "np.random.shuffle(indices)\n",
    "a_shuffle = a[indices] # 같은 위치로 random shuffling\n",
    "b_shuffle = b[indices] # 같은 위치로 random shuffling\n",
    "\n",
    "print(colored('after shuffling', 'red')) \n",
    "print(a_shuffle)\n",
    "print(b_shuffle)"
   ]
  },
  {
   "cell_type": "markdown",
   "id": "cb953009",
   "metadata": {},
   "source": [
    "## shuffling X,Y data"
   ]
  },
  {
   "cell_type": "code",
   "execution_count": 25,
   "id": "58821412",
   "metadata": {},
   "outputs": [
    {
     "name": "stdout",
     "output_type": "stream",
     "text": [
      "\u001b[32mbefore shuffling\u001b[0m\n",
      "(5, 6) \n",
      " [[ 0.97 -0.5   2.01  0.64 -2.09 -0.03]\n",
      " [-0.86 -0.75  0.01 -0.78 -1.03  1.69]\n",
      " [ 1.02  0.7  -0.64 -0.72  0.4  -1.32]\n",
      " [ 0.57  0.28  1.56 -1.21 -1.36  0.59]\n",
      " [ 0.67 -0.2   0.8  -1.46  0.07 -0.54]]\n",
      "(5,) \n",
      " [45 27 91 30 65]\n",
      "\u001b[31mafter shuffling\u001b[0m\n",
      "(5, 6) \n",
      " [[ 0.57  0.28  1.56 -1.21 -1.36  0.59]\n",
      " [ 0.67 -0.2   0.8  -1.46  0.07 -0.54]\n",
      " [-0.86 -0.75  0.01 -0.78 -1.03  1.69]\n",
      " [ 1.02  0.7  -0.64 -0.72  0.4  -1.32]\n",
      " [ 0.97 -0.5   2.01  0.64 -2.09 -0.03]]\n",
      "(5,) \n",
      " [30 65 27 91 45]\n"
     ]
    }
   ],
   "source": [
    "import numpy as np\n",
    "from termcolor import colored\n",
    "\n",
    "N, n_feature = 5, 6\n",
    "n_class = 100\n",
    "\n",
    "x_data = np.random.normal(0,1,(N, n_feature))\n",
    "y_data = np.random.randint(0, n_class, N)\n",
    "print(colored('before shuffling', 'green'))\n",
    "print(x_data.shape,'\\n', x_data)\n",
    "print(y_data.shape, '\\n', y_data)\n",
    "\n",
    "indices=np.arange(N)\n",
    "np.random.shuffle(indices)\n",
    "x_data = x_data[indices]\n",
    "y_data = y_data[indices]\n",
    "\n",
    "print(colored('after shuffling', 'red'))\n",
    "print(x_data.shape,'\\n', x_data)\n",
    "print(y_data.shape, '\\n', y_data)"
   ]
  },
  {
   "cell_type": "markdown",
   "id": "e2ed410b",
   "metadata": {},
   "source": [
    "## shuffling and getting minibatches"
   ]
  },
  {
   "cell_type": "code",
   "execution_count": 27,
   "id": "4df2ab0d",
   "metadata": {},
   "outputs": [
    {
     "name": "stdout",
     "output_type": "stream",
     "text": [
      "iter :  0\n",
      "X/Y :  (32, 5) (32,)\n",
      "iter :  1\n",
      "X/Y :  (32, 5) (32,)\n",
      "iter :  2\n",
      "X/Y :  (32, 5) (32,)\n",
      "iter :  3\n",
      "X/Y :  (32, 5) (32,)\n",
      "iter :  4\n",
      "X/Y :  (32, 5) (32,)\n",
      "iter :  5\n",
      "X/Y :  (32, 5) (32,)\n",
      "iter :  6\n",
      "X/Y :  (32, 5) (32,)\n",
      "iter :  7\n",
      "X/Y :  (32, 5) (32,)\n"
     ]
    }
   ],
   "source": [
    "import numpy as np\n",
    "\n",
    "N, n_feature = 200, 5\n",
    "n_class = 100\n",
    "batch_size = 32\n",
    "iters = 8\n",
    "\n",
    "x_data = np.random.normal(0,1,(N, n_feature))\n",
    "y_data = np.random.randint(0, n_class, N)\n",
    "\n",
    "for iter_ in range(iters):\n",
    "    indices = np.arange(N)\n",
    "    np.random.shuffle(indices)\n",
    "    batch_indices = indices[:batch_size] # 200개 중에서 앞에 32개만 가져옴\n",
    "    \n",
    "    x_batch = x_data[batch_indices]\n",
    "    y_batch = y_data[batch_indices]\n",
    "    \n",
    "    print('iter : ', iter_)\n",
    "    print('X/Y : ', x_batch.shape, y_batch.shape)\n",
    "    \n",
    "    \n",
    "\"\"\"\n",
    "indices를 반복문 돌릴때마다 가져옴\n",
    "중복 가능\n",
    "\"\"\""
   ]
  },
  {
   "cell_type": "code",
   "execution_count": 28,
   "id": "4a842dc5",
   "metadata": {},
   "outputs": [
    {
     "name": "stdout",
     "output_type": "stream",
     "text": [
      "iter :  0\n",
      "X/Y :  (32, 5) (32,)\n",
      "iter :  1\n",
      "X/Y :  (32, 5) (32,)\n",
      "iter :  2\n",
      "X/Y :  (32, 5) (32,)\n",
      "iter :  3\n",
      "X/Y :  (32, 5) (32,)\n",
      "iter :  4\n",
      "X/Y :  (32, 5) (32,)\n",
      "iter :  5\n",
      "X/Y :  (32, 5) (32,)\n",
      "iter :  6\n",
      "X/Y :  (8, 5) (8,)\n",
      "iter :  7\n",
      "X/Y :  (0, 5) (0,)\n"
     ]
    }
   ],
   "source": [
    "import numpy as np\n",
    "\n",
    "N, n_feature = 200, 5\n",
    "n_class = 100\n",
    "batch_size = 32\n",
    "iters = 8\n",
    "\n",
    "x_data = np.random.normal(0,1,(N, n_feature))\n",
    "y_data = np.random.randint(0, n_class, N)\n",
    "\n",
    "\n",
    "indices = np.arange(N)\n",
    "np.random.shuffle(indices)\n",
    "for iter_ in range(iters):\n",
    "    batch_indices = indices[iter_*batch_size : (iter_+1)*batch_size]\n",
    "    \n",
    "    x_batch = x_data[batch_indices]\n",
    "    y_batch = y_data[batch_indices]\n",
    "    \n",
    "    print('iter : ', iter_)\n",
    "    print('X/Y : ', x_batch.shape, y_batch.shape)\n",
    "    \n",
    "\"\"\"\n",
    "달라진 점: 하나의 mini batch씩 가져옴 \n",
    "무조건 데이터 셋을 다 보게 됨. \n",
    "중복 x\n",
    "\"\"\""
   ]
  },
  {
   "cell_type": "code",
   "execution_count": null,
   "id": "3a6adc41",
   "metadata": {},
   "outputs": [],
   "source": []
  },
  {
   "cell_type": "markdown",
   "id": "5fa75603",
   "metadata": {},
   "source": [
    "# One-hot Encoding/Decoding"
   ]
  },
  {
   "cell_type": "markdown",
   "id": "86e0ae54",
   "metadata": {},
   "source": [
    "## One-hot Encoding with one sample"
   ]
  },
  {
   "cell_type": "code",
   "execution_count": 48,
   "id": "d06dfe16",
   "metadata": {},
   "outputs": [
    {
     "name": "stdout",
     "output_type": "stream",
     "text": [
      "before one hot encoding : [4]\n",
      "after encoding :\n",
      "[0. 0. 0. 0. 1.]\n",
      "before one hot encoding : [2]\n",
      "after encoding :\n",
      "[0. 0. 1. 0. 0.]\n",
      "before one hot encoding : [1]\n",
      "after encoding :\n",
      "[0. 1. 0. 0. 0.]\n",
      "before one hot encoding : [1]\n",
      "after encoding :\n",
      "[0. 1. 0. 0. 0.]\n",
      "before one hot encoding : [4]\n",
      "after encoding :\n",
      "[0. 0. 0. 0. 1.]\n"
     ]
    }
   ],
   "source": [
    "\"\"\"label 자체가 인덱스가 됨\"\"\"\n",
    "import numpy as np\n",
    "n_class = 5\n",
    "\n",
    "for _ in range(5):\n",
    "    label = np.random.randint(0,n_class, 1)\n",
    "    print(f\"before one hot encoding : {label}\")\n",
    "    \n",
    "    label_enc = np.zeros(n_class)\n",
    "    label_enc[label] = 1 # label 자체가 index가 됨. \n",
    "    print(f'after encoding :\\n{label_enc}')"
   ]
  },
  {
   "cell_type": "markdown",
   "id": "0402da49",
   "metadata": {},
   "source": [
    "## one-hot decoding with one sample"
   ]
  },
  {
   "cell_type": "code",
   "execution_count": 68,
   "id": "9c92a85d",
   "metadata": {},
   "outputs": [
    {
     "name": "stdout",
     "output_type": "stream",
     "text": [
      "before one-hot decoding : [0. 0. 0. 0. 1.]\n",
      "label(method.1) : [4]\n",
      "label(method.2) : [4]\n",
      "label(method3) : [4]\n"
     ]
    }
   ],
   "source": [
    "import numpy as np\n",
    "n_class = 5\n",
    "\n",
    "label = np.random.randint(0, n_class, 1)\n",
    "label_enc = np.zeros((n_class, ))\n",
    "label_enc[label] = 1\n",
    "\n",
    "print(f\"before one-hot decoding : {label_enc}\")\n",
    "\n",
    "# method.1\n",
    "label = np.nonzero(label_enc)[0] # 내가 가진 인덱스를 다시 찾음.\n",
    "print(f\"label(method.1) : {label}\")\n",
    "\n",
    "# method.2\n",
    "label = np.where(label_enc == 1)[0] # 1인 부분을 찾기\n",
    "print(f\"label(method.2) : {label}\")\n",
    "\n",
    "# method.3\n",
    "label = np.argmax(label_enc).flatten() # flatten 하면 vector로 변환 가능. \n",
    "print(f\"label(method3) : {label}\")"
   ]
  },
  {
   "cell_type": "markdown",
   "id": "72154005",
   "metadata": {},
   "source": [
    "## one-hot encoding with n samples"
   ]
  },
  {
   "cell_type": "markdown",
   "id": "f17832de",
   "metadata": {},
   "source": [
    "***선생님 설명***"
   ]
  },
  {
   "cell_type": "code",
   "execution_count": 107,
   "id": "2d6e353e",
   "metadata": {},
   "outputs": [
    {
     "name": "stdout",
     "output_type": "stream",
     "text": [
      "before one hot encoding : [2 4 1 2 4 4 2 1 1 1]\n"
     ]
    },
    {
     "data": {
      "text/plain": [
       "array([[0, 0, 1, 0, 0],\n",
       "       [0, 0, 0, 0, 1],\n",
       "       [0, 1, 0, 0, 0],\n",
       "       [0, 0, 1, 0, 0],\n",
       "       [0, 0, 0, 0, 1],\n",
       "       [0, 0, 0, 0, 1],\n",
       "       [0, 0, 1, 0, 0],\n",
       "       [0, 1, 0, 0, 0],\n",
       "       [0, 1, 0, 0, 0],\n",
       "       [0, 1, 0, 0, 0]])"
      ]
     },
     "execution_count": 107,
     "metadata": {},
     "output_type": "execute_result"
    }
   ],
   "source": [
    "import numpy as np\n",
    "import warnings\n",
    "warnings.filterwarnings('ignore')\n",
    "N, n_class = 10, 5\n",
    "\n",
    "labels = np.random.randint(0, n_class, (N, ))\n",
    "print(f\"before one hot encoding : {labels}\")\n",
    "\n",
    "\"\"\"\n",
    "0을 미리 깔아놓고\n",
    "인덱싱을 통해 위치를 찾아서 1을 깔아줌.\n",
    "\"\"\"\n",
    "labels_enc = np.zeros((N, n_class), dtype=np.int)\n",
    "labels_enc[np.arange(N), labels] = 1 # for loop 필요 없음. \n",
    "labels_enc"
   ]
  },
  {
   "cell_type": "code",
   "execution_count": 119,
   "id": "bb71579d",
   "metadata": {},
   "outputs": [
    {
     "name": "stdout",
     "output_type": "stream",
     "text": [
      "before decoding :\n",
      "[[0 1 0 0 0]\n",
      " [1 0 0 0 0]\n",
      " [0 0 1 0 0]\n",
      " [1 0 0 0 0]\n",
      " [0 0 0 0 1]\n",
      " [0 1 0 0 0]\n",
      " [0 0 0 0 1]\n",
      " [0 0 1 0 0]\n",
      " [1 0 0 0 0]\n",
      " [0 0 1 0 0]]\n",
      "labels(method.1) : [1 0 2 0 4 1 4 2 0 2]\n",
      "labels(method.2) : [1 0 2 0 4 1 4 2 0 2]\n",
      "labels(method.3) : [1 0 2 0 4 1 4 2 0 2]\n"
     ]
    }
   ],
   "source": [
    "import numpy as np\n",
    "import warnings\n",
    "warnings.filterwarnings('ignore')\n",
    "N, n_class = 10, 5\n",
    "\n",
    "labels = np.random.randint(0, n_class, (N, ))\n",
    "labels_enc = np.zeros((N, n_class), dtype=np.int)\n",
    "labels_enc[np.arange(N), labels] = 1 # for loop 필요 없음. \n",
    "print(f'before decoding :\\n{labels_enc}')\n",
    "\n",
    "# method.1\n",
    "labels = np.nonzero(labels_enc)[1]\n",
    "print(f\"labels(method.1) : {labels}\")\n",
    "\n",
    "# method.2\n",
    "labels = np.where(labels_enc == 1)[1]\n",
    "print(f'labels(method.2) : {labels}')\n",
    "\n",
    "# method.3\n",
    "labels = np.argmax(labels_enc, axis=1)\n",
    "print(f\"labels(method.3) : {labels}\")"
   ]
  },
  {
   "cell_type": "code",
   "execution_count": null,
   "id": "ebaa2afb",
   "metadata": {},
   "outputs": [],
   "source": []
  },
  {
   "cell_type": "code",
   "execution_count": null,
   "id": "01ee0f54",
   "metadata": {},
   "outputs": [],
   "source": []
  },
  {
   "cell_type": "code",
   "execution_count": 120,
   "id": "65318e20",
   "metadata": {},
   "outputs": [
    {
     "name": "stdout",
     "output_type": "stream",
     "text": [
      "Reinitialized existing Git repository in /Users/wonbinchoi/current_studying/for_better_np/.git/\n",
      "[master f0753b5] 0413 numpy exercise part 3 added\n",
      " 6 files changed, 1575 insertions(+), 318 deletions(-)\n",
      " create mode 100644 .ipynb_checkpoints/0413_np_exercise_part_03-checkpoint.ipynb\n",
      " create mode 100644 0413_np_exercise_part_03.ipynb\n",
      "Enumerating objects: 10, done.\n",
      "Counting objects: 100% (10/10), done.\n",
      "Delta compression using up to 8 threads\n",
      "Compressing objects: 100% (7/7), done.\n",
      "Writing objects: 100% (7/7), 8.69 KiB | 4.34 MiB/s, done.\n",
      "Total 7 (delta 4), reused 0 (delta 0), pack-reused 0\n",
      "remote: Resolving deltas: 100% (4/4), completed with 3 local objects.\u001b[K\n",
      "To https://github.com/owenchoi96/for_better_np.git\n",
      "   78d7428..f0753b5  master -> master\n"
     ]
    }
   ],
   "source": [
    "!git init\n",
    "!git add .\n",
    "!git commit -m \"0413 numpy exercise part 3 added\"\n",
    "!git push origin master"
   ]
  },
  {
   "cell_type": "code",
   "execution_count": null,
   "id": "0a955239",
   "metadata": {},
   "outputs": [],
   "source": []
  },
  {
   "cell_type": "code",
   "execution_count": null,
   "id": "11891284",
   "metadata": {},
   "outputs": [],
   "source": []
  },
  {
   "cell_type": "code",
   "execution_count": null,
   "id": "103b68d4",
   "metadata": {},
   "outputs": [],
   "source": []
  },
  {
   "cell_type": "code",
   "execution_count": null,
   "id": "c8fbc072",
   "metadata": {},
   "outputs": [],
   "source": []
  },
  {
   "cell_type": "code",
   "execution_count": null,
   "id": "2eac3935",
   "metadata": {},
   "outputs": [],
   "source": []
  },
  {
   "cell_type": "code",
   "execution_count": null,
   "id": "d138b561",
   "metadata": {},
   "outputs": [],
   "source": []
  },
  {
   "cell_type": "code",
   "execution_count": null,
   "id": "26d28d12",
   "metadata": {},
   "outputs": [],
   "source": []
  },
  {
   "cell_type": "code",
   "execution_count": null,
   "id": "2014b8e5",
   "metadata": {},
   "outputs": [],
   "source": []
  },
  {
   "cell_type": "code",
   "execution_count": null,
   "id": "545c7a5f",
   "metadata": {},
   "outputs": [],
   "source": []
  },
  {
   "cell_type": "code",
   "execution_count": null,
   "id": "fc3bf7ea",
   "metadata": {},
   "outputs": [],
   "source": []
  }
 ],
 "metadata": {
  "kernelspec": {
   "display_name": "Python 3 (ipykernel)",
   "language": "python",
   "name": "python3"
  },
  "language_info": {
   "codemirror_mode": {
    "name": "ipython",
    "version": 3
   },
   "file_extension": ".py",
   "mimetype": "text/x-python",
   "name": "python",
   "nbconvert_exporter": "python",
   "pygments_lexer": "ipython3",
   "version": "3.9.16"
  },
  "toc": {
   "base_numbering": 1,
   "nav_menu": {},
   "number_sections": true,
   "sideBar": true,
   "skip_h1_title": false,
   "title_cell": "Table of Contents",
   "title_sidebar": "Contents",
   "toc_cell": false,
   "toc_position": {},
   "toc_section_display": true,
   "toc_window_display": false
  },
  "varInspector": {
   "cols": {
    "lenName": 16,
    "lenType": 16,
    "lenVar": 40
   },
   "kernels_config": {
    "python": {
     "delete_cmd_postfix": "",
     "delete_cmd_prefix": "del ",
     "library": "var_list.py",
     "varRefreshCmd": "print(var_dic_list())"
    },
    "r": {
     "delete_cmd_postfix": ") ",
     "delete_cmd_prefix": "rm(",
     "library": "var_list.r",
     "varRefreshCmd": "cat(var_dic_list()) "
    }
   },
   "types_to_exclude": [
    "module",
    "function",
    "builtin_function_or_method",
    "instance",
    "_Feature"
   ],
   "window_display": false
  }
 },
 "nbformat": 4,
 "nbformat_minor": 5
}
