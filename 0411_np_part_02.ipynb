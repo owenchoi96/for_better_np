{
 "cells": [
  {
   "cell_type": "markdown",
   "id": "34d50fbf",
   "metadata": {},
   "source": [
    "# ndarray의 인덱싱과 슬라이싱"
   ]
  },
  {
   "cell_type": "markdown",
   "id": "776723ef",
   "metadata": {},
   "source": [
    "## 행렬 ndarray의 인덱싱과 슬라이싱"
   ]
  },
  {
   "cell_type": "code",
   "execution_count": 7,
   "id": "c3b06a7d",
   "metadata": {},
   "outputs": [
    {
     "name": "stdout",
     "output_type": "stream",
     "text": [
      "[0, 1, 2]\n",
      "[3, 4, 5]\n",
      "[5, 6, 7] \n",
      "\n",
      "0 1 2\n",
      "3 4 5\n",
      "5 6 7\n"
     ]
    }
   ],
   "source": [
    "a = [[0,1,2], [3,4,5], [5,6,7]]\n",
    "print(a[0])\n",
    "print(a[1])\n",
    "print(a[2], '\\n')\n",
    "\n",
    "print(a[0][0], a[0][1], a[0][2])\n",
    "print(a[1][0], a[1][1], a[1][2])\n",
    "print(a[2][0], a[2][1], a[2][2])"
   ]
  },
  {
   "cell_type": "code",
   "execution_count": 12,
   "id": "67c306e7",
   "metadata": {},
   "outputs": [
    {
     "name": "stdout",
     "output_type": "stream",
     "text": [
      "[[ 0  1  2  3]\n",
      " [ 4  5  6  7]\n",
      " [ 8  9 10 11]] \n",
      "\n",
      "a[0] :  [0 1 2 3]\n",
      "a[1] :  [4 5 6 7]\n",
      "a[2] :  [ 8  9 10 11]\n"
     ]
    }
   ],
   "source": [
    "import numpy as np\n",
    "a = np.arange(12).reshape(3,4) # 3개의 ndarray를 가지고 있다. \n",
    "print(a, '\\n')\n",
    "\n",
    "print('a[0] : ', a[0])\n",
    "print('a[1] : ', a[1])\n",
    "print('a[2] : ', a[2])"
   ]
  },
  {
   "cell_type": "code",
   "execution_count": 15,
   "id": "a68727dd",
   "metadata": {},
   "outputs": [
    {
     "name": "stdout",
     "output_type": "stream",
     "text": [
      "[[0 1 2]\n",
      " [3 4 5]\n",
      " [6 7 8]] \n",
      "\n",
      "0 1 2\n",
      "3 4 5\n",
      "6 7 8\n"
     ]
    }
   ],
   "source": [
    "a = np.arange(9).reshape(3,3)\n",
    "print(a, '\\n')\n",
    "print(a[0,0], a[0,1], a[0,2])\n",
    "print(a[1,0], a[1,1], a[1,2])\n",
    "print(a[2,0], a[2,1], a[2,2])"
   ]
  },
  {
   "cell_type": "code",
   "execution_count": 17,
   "id": "904098f7",
   "metadata": {},
   "outputs": [
    {
     "name": "stdout",
     "output_type": "stream",
     "text": [
      "[[ 0  1  2  3]\n",
      " [ 4  5  6  7]\n",
      " [ 8  9 10 11]] \n",
      "\n",
      "[1 2 3]\n",
      "[4 5 6]\n"
     ]
    }
   ],
   "source": [
    "a = np.arange(12).reshape(3,4)  \n",
    "print(a, '\\n')\n",
    "\n",
    "print(a[0, 1:])\n",
    "print(a[1, :3])"
   ]
  },
  {
   "cell_type": "code",
   "execution_count": 18,
   "id": "c723aeea",
   "metadata": {},
   "outputs": [
    {
     "name": "stdout",
     "output_type": "stream",
     "text": [
      "[[ 0  1  2  3]\n",
      " [ 4  5  6  7]\n",
      " [ 8  9 10 11]] \n",
      "\n",
      "[4 8]\n",
      "[1 5 9]\n",
      "[ 6 10]\n"
     ]
    }
   ],
   "source": [
    "a = np.arange(12).reshape(3,4)  \n",
    "print(a, '\\n')\n",
    "\n",
    "print(a[1:, 0])\n",
    "print(a[:3, 1])\n",
    "print(a[1:3, 2])"
   ]
  },
  {
   "cell_type": "code",
   "execution_count": 25,
   "id": "9fb3fc80",
   "metadata": {},
   "outputs": [
    {
     "name": "stdout",
     "output_type": "stream",
     "text": [
      "[[ 5  6]\n",
      " [ 9 10]]\n",
      "\n",
      " [[0 1 2]\n",
      " [4 5 6]]\n",
      "\n",
      " [[ 6  7]\n",
      " [10 11]\n",
      " [14 15]]\n"
     ]
    }
   ],
   "source": [
    "a = np.arange(16).reshape(4,4)\n",
    "print(a[1:3, 1:3])\n",
    "print('\\n', a[:2, :3])\n",
    "print('\\n',a[1:, 2:])"
   ]
  },
  {
   "cell_type": "code",
   "execution_count": 32,
   "id": "feabd944",
   "metadata": {},
   "outputs": [
    {
     "name": "stdout",
     "output_type": "stream",
     "text": [
      "horizontal_flip\n",
      "[[2 1 0]\n",
      " [5 4 3]\n",
      " [8 7 6]] \n",
      "\n",
      "vertical_flip\n",
      "[[6 7 8]\n",
      " [3 4 5]\n",
      " [0 1 2]] \n",
      "\n",
      "rotation\n",
      "[[8 7 6]\n",
      " [5 4 3]\n",
      " [2 1 0]]\n"
     ]
    }
   ],
   "source": [
    "image = np.arange(9).reshape(3,3)\n",
    "horizontal_flip = image[:, ::-1] # 180도 방향으로 뒤집기 (좌우 반전)\n",
    "print('horizontal_flip')\n",
    "print(horizontal_flip, '\\n')\n",
    "\n",
    "vertical_flip = image[::-1, :] # 90도 회전\n",
    "print('vertical_flip')\n",
    "print(vertical_flip, '\\n')\n",
    "\n",
    "rotation = image[::-1,::-1] # 360도 회전\n",
    "print('rotation')\n",
    "print(rotation)"
   ]
  },
  {
   "cell_type": "code",
   "execution_count": 37,
   "id": "26853ca8",
   "metadata": {},
   "outputs": [
    {
     "name": "stdout",
     "output_type": "stream",
     "text": [
      "[[ 0  1  2  3]\n",
      " [ 4  5  6  7]\n",
      " [ 8  9 10 11]\n",
      " [12 13 14 15]] \n",
      "\n",
      "[0 1 2 3]\n",
      "[0 1 2 3]\n"
     ]
    }
   ],
   "source": [
    "import numpy as np\n",
    "a = np.arange(16).reshape(4,4)\n",
    "print(a, '\\n')\n",
    "print(a[0, :])\n",
    "print(a[0, ...]) # 뒤따르는 모든 행렬에 대해 가져오세요. (점은 3개만)"
   ]
  },
  {
   "cell_type": "markdown",
   "id": "89e350fa",
   "metadata": {},
   "source": [
    "## (3차원) 텐서에 대한 인덱싱 & 슬라이싱"
   ]
  },
  {
   "cell_type": "code",
   "execution_count": 48,
   "id": "9269e69d",
   "metadata": {
    "scrolled": true
   },
   "outputs": [
    {
     "name": "stdout",
     "output_type": "stream",
     "text": [
      "[[[ 0  1  2]\n",
      "  [ 3  4  5]\n",
      "  [ 6  7  8]]\n",
      "\n",
      " [[ 9 10 11]\n",
      "  [12 13 14]\n",
      "  [15 16 17]]\n",
      "\n",
      " [[18 19 20]\n",
      "  [21 22 23]\n",
      "  [24 25 26]]] \n",
      "\n",
      "a[0] :\n",
      " [[0 1 2]\n",
      " [3 4 5]\n",
      " [6 7 8]]\n",
      "a[1] :\n",
      " [[ 9 10 11]\n",
      " [12 13 14]\n",
      " [15 16 17]]\n",
      "a[2] :\n",
      " [[18 19 20]\n",
      " [21 22 23]\n",
      " [24 25 26]]\n"
     ]
    }
   ],
   "source": [
    "a = np.arange(27).reshape(3,3,3)\n",
    "print(a, '\\n')\n",
    "\n",
    "print('a[0] :\\n', a[0])\n",
    "print('a[1] :\\n', a[1])\n",
    "print('a[2] :\\n', a[2])\n",
    "\n",
    "\"\"\"밑에 continued\"\"\""
   ]
  },
  {
   "cell_type": "code",
   "execution_count": 51,
   "id": "6e701f61",
   "metadata": {},
   "outputs": [
    {
     "name": "stdout",
     "output_type": "stream",
     "text": [
      "[0 1 2]\n",
      "[3 4 5]\n",
      "[6 7 8] \n",
      "\n",
      "[ 9 10 11]\n",
      "[12 13 14]\n",
      "[15 16 17] \n",
      "\n",
      "[18 19 20]\n",
      "[21 22 23]\n",
      "[24 25 26] \n",
      "\n"
     ]
    }
   ],
   "source": [
    "print(a[0,0])\n",
    "print(a[0,1])\n",
    "print(a[0,2], '\\n')\n",
    "\n",
    "print(a[1,0])\n",
    "print(a[1,1])\n",
    "print(a[1,2], '\\n')\n",
    "\n",
    "print(a[2,0])\n",
    "print(a[2,1])\n",
    "print(a[2,2], '\\n')"
   ]
  },
  {
   "cell_type": "code",
   "execution_count": 55,
   "id": "674c6395",
   "metadata": {},
   "outputs": [
    {
     "name": "stdout",
     "output_type": "stream",
     "text": [
      "[[0 1]\n",
      " [3 4]]\n",
      "[[ 9 10 11]\n",
      " [12 13 14]]\n",
      "[[22 23]\n",
      " [25 26]]\n"
     ]
    }
   ],
   "source": [
    "# 3차원 이미지에 대하여~\n",
    "print(a[0, :2, :2])\n",
    "print(a[1, :2, :])\n",
    "print(a[2, -2:, -2:])"
   ]
  },
  {
   "cell_type": "code",
   "execution_count": 62,
   "id": "e607879e",
   "metadata": {},
   "outputs": [
    {
     "name": "stdout",
     "output_type": "stream",
     "text": [
      "image set:  (32, 100, 200)\n",
      "(100, 200)\n",
      "(100, 200)\n",
      "(32, 100)\n",
      "(32, 100)\n",
      "(100,)\n",
      "(100,)\n"
     ]
    }
   ],
   "source": [
    "images = np.random.normal(size=(32,100,200))\n",
    "print('image set: ', images.shape)\n",
    "image0 = images[0, :, :]\n",
    "print(image0.shape)\n",
    "image0 = images[0, ...]\n",
    "print(image0.shape)\n",
    "col0 = images[:, :, 0]\n",
    "print(col0.shape)\n",
    "col0 = images[..., 0]\n",
    "print(col0.shape)\n",
    "image0_col0 = images[0, :, 0]\n",
    "print(image0_col0.shape)\n",
    "image0_col_ = images[0, ..., 0]\n",
    "print(image0_col0.shape)"
   ]
  },
  {
   "cell_type": "code",
   "execution_count": 74,
   "id": "b6dd3997",
   "metadata": {
    "scrolled": true
   },
   "outputs": [
    {
     "name": "stdout",
     "output_type": "stream",
     "text": [
      "[[[ 0  1  2]\n",
      "  [ 3  4  5]]\n",
      "\n",
      " [[ 9 10 11]\n",
      "  [12 13 14]]\n",
      "\n",
      " [[18 19 20]\n",
      "  [21 22 23]]]\n",
      "------------------------------\n",
      "[[[ 0  1  2]\n",
      "  [ 3  4  5]]\n",
      "\n",
      " [[ 9 10 11]\n",
      "  [12 13 14]]\n",
      "\n",
      " [[18 19 20]\n",
      "  [21 22 23]]]\n",
      "##############################\n",
      "[[ 0  9 18]\n",
      " [ 3 12 21]\n",
      " [ 6 15 24]]\n",
      "[[ 0  9 18]\n",
      " [ 3 12 21]\n",
      " [ 6 15 24]]\n",
      "##############################\n",
      "[[[13 14]\n",
      "  [16 17]]\n",
      "\n",
      " [[22 23]\n",
      "  [25 26]]]\n"
     ]
    }
   ],
   "source": [
    "# exercises_01\n",
    "tensors = np.arange(27).reshape(3,3,3)\n",
    "print(tensors[:, :2, :])\n",
    "print('-'*30)\n",
    "print(tensors[..., :2, :])\n",
    "\n",
    "# exercises_02\n",
    "print('#'*30)\n",
    "print(tensors[:, :, 0].T) # 첫번째 컬럼 모두 가져와라. \n",
    "print(tensors[..., 0].T)\n",
    "\n",
    "print('#'*30)\n",
    "print(tensors[1:, -2:, -2:]) # 첫번째 채널부터 끝까지 \n"
   ]
  },
  {
   "cell_type": "code",
   "execution_count": 79,
   "id": "c0edc8cc",
   "metadata": {},
   "outputs": [
    {
     "name": "stdout",
     "output_type": "stream",
     "text": [
      "(500, 300) (500, 300) (500, 300) \n",
      "\n",
      "(500, 300)\n",
      "(500, 300)\n",
      "(500, 300)\n"
     ]
    }
   ],
   "source": [
    "import numpy as np\n",
    "image = np.random.normal(size=(3,500,300))\n",
    "image_r = image[0]\n",
    "image_g = image[1]\n",
    "image_b = image[2]\n",
    "\n",
    "print(image_r.shape, image_g.shape, image_b.shape, '\\n')\n",
    "\n",
    "# tuple unpacking\n",
    "# why? --> 3개의 값을 가지기 때문에\n",
    "image_r, image_g, image_b = image\n",
    "print(image_r.shape)\n",
    "print(image_g.shape)\n",
    "print(image_b.shape)"
   ]
  },
  {
   "cell_type": "code",
   "execution_count": 87,
   "id": "07344a21",
   "metadata": {},
   "outputs": [
    {
     "name": "stdout",
     "output_type": "stream",
     "text": [
      "(3, 100, 100) (3, 100, 100)\n",
      "(3, 100, 100) (3, 100)\n"
     ]
    }
   ],
   "source": [
    "image = np.random.normal(size=(3,500,300))\n",
    "top_left = image[:, :100, :100]\n",
    "top_right = image[: ,:100, -100:]\n",
    "bottom_right = image[:, -100:, -100]\n",
    "bottom_left = image[:, -100:, :100]\n",
    "\n",
    "print(top_left.shape, top_right.shape)\n",
    "print(bottom_left.shape, bottom_right.shape)"
   ]
  },
  {
   "cell_type": "markdown",
   "id": "81d1f006",
   "metadata": {},
   "source": [
    "## int ndarray"
   ]
  },
  {
   "cell_type": "code",
   "execution_count": 93,
   "id": "02865296",
   "metadata": {},
   "outputs": [
    {
     "data": {
      "text/plain": [
       "array([0, 3, 4])"
      ]
     },
     "execution_count": 93,
     "metadata": {},
     "output_type": "execute_result"
    }
   ],
   "source": [
    "import numpy as np\n",
    "a = np.arange(10)\n",
    "indices = np.array([0,3,4])\n",
    "a[indices] # 0,3,4만 뽑아오고 싶을 때 (불규칙적인 index를 가져오고 싶을 때)"
   ]
  },
  {
   "cell_type": "code",
   "execution_count": 94,
   "id": "568754bf",
   "metadata": {},
   "outputs": [
    {
     "data": {
      "text/plain": [
       "array([0, 0, 5, 5])"
      ]
     },
     "execution_count": 94,
     "metadata": {},
     "output_type": "execute_result"
    }
   ],
   "source": [
    "indices = np.array([0,0,5,5])\n",
    "a[indices] # 중복된 index도 가져올 수 있음. "
   ]
  },
  {
   "cell_type": "code",
   "execution_count": 96,
   "id": "0e47ee86",
   "metadata": {},
   "outputs": [
    {
     "data": {
      "text/plain": [
       "array([[1, 2, 3],\n",
       "       [5, 8, 9]])"
      ]
     },
     "execution_count": 96,
     "metadata": {},
     "output_type": "execute_result"
    }
   ],
   "source": [
    "indices = np.array([[1,2,3], [5,8,9]]) # indices 자체가 (2,3)\n",
    "a[indices] # 그 이후에 값을 뽑아와서 각각에 넣어줌. "
   ]
  },
  {
   "cell_type": "code",
   "execution_count": 101,
   "id": "765a0950",
   "metadata": {},
   "outputs": [
    {
     "name": "stdout",
     "output_type": "stream",
     "text": [
      "[ 0 13  2 16 19 16 16 12  0  1]\n",
      "[[[0 5 3 9]\n",
      "  [6 5 6 8]\n",
      "  [2 4 1 3]]\n",
      "\n",
      " [[7 0 5 1]\n",
      "  [5 4 6 1]\n",
      "  [8 1 2 7]]]\n",
      "--------------indexing ----------------------------------\n",
      "[[[ 0 16 16  1]\n",
      "  [16 16 16  0]\n",
      "  [ 2 19 13 16]]\n",
      "\n",
      " [[12  0 16 13]\n",
      "  [16 19 16 13]\n",
      "  [ 0 13  2 12]]]\n"
     ]
    }
   ],
   "source": [
    "# 확장\n",
    "a = np.random.randint(0,20, (10,)) # (10, )\n",
    "print(a)\n",
    "indices = np.random.randint(0,10, size=(2,3,4)) #(2, 3, 4)\n",
    "print(indices)\n",
    "print('--------------indexing ----------------------------------')\n",
    "print(a[indices]) (2, 3, 4)"
   ]
  },
  {
   "cell_type": "code",
   "execution_count": 106,
   "id": "84fa8ffc",
   "metadata": {},
   "outputs": [
    {
     "name": "stdout",
     "output_type": "stream",
     "text": [
      "[[ 0  1  2  3]\n",
      " [ 4  5  6  7]\n",
      " [ 8  9 10 11]] \n",
      "\n",
      "a[0] :  [0 1 2 3]\n",
      "a[1] :  [4 5 6 7]\n",
      "a[2] :  [ 8  9 10 11]\n",
      "=============== indexed ==================\n",
      "indices :  [0 2] \n",
      "\n",
      "[[ 0  1  2  3]\n",
      " [ 8  9 10 11]]\n"
     ]
    }
   ],
   "source": [
    "import numpy as np\n",
    "a = np.arange(12).reshape(3,4) # (3, 4)\n",
    "print(a, '\\n')\n",
    "\n",
    "print('a[0] : ', a[0])\n",
    "print('a[1] : ', a[1])\n",
    "print('a[2] : ', a[2])\n",
    "\n",
    "print('=============== indexed ==================')\n",
    "indices = np.array([0,2]) # (2, )\n",
    "print('indices : ', indices, '\\n')\n",
    "print(a[indices]) # (2, 4)"
   ]
  },
  {
   "cell_type": "code",
   "execution_count": 107,
   "id": "c60d7d5b",
   "metadata": {},
   "outputs": [
    {
     "data": {
      "text/plain": [
       "array([[ 0,  1,  2,  3],\n",
       "       [ 0,  1,  2,  3],\n",
       "       [ 4,  5,  6,  7],\n",
       "       [ 4,  5,  6,  7],\n",
       "       [ 8,  9, 10, 11],\n",
       "       [ 8,  9, 10, 11]])"
      ]
     },
     "execution_count": 107,
     "metadata": {},
     "output_type": "execute_result"
    }
   ],
   "source": [
    "indices = np.array([0,0,1,1,2,2]) # (6, )\n",
    "a[indices] # (6, 4)"
   ]
  },
  {
   "cell_type": "code",
   "execution_count": 111,
   "id": "f0c95895",
   "metadata": {},
   "outputs": [
    {
     "name": "stdout",
     "output_type": "stream",
     "text": [
      "[[ 0  1  2  3]\n",
      " [ 4  5  6  7]\n",
      " [ 8  9 10 11]] \n",
      "\n",
      "indices : \n",
      "[[ 0  1  2]\n",
      " [-3 -2 -1]]\n",
      "=========== indexed =========\n",
      "[[[ 0  1  2  3]\n",
      "  [ 4  5  6  7]\n",
      "  [ 8  9 10 11]]\n",
      "\n",
      " [[ 0  1  2  3]\n",
      "  [ 4  5  6  7]\n",
      "  [ 8  9 10 11]]]\n",
      "shape :  (2, 3, 4)\n"
     ]
    }
   ],
   "source": [
    "a = np.arange(12).reshape(3,4) # (3,4)\n",
    "indices = np.array([[0,1,2], [-3,-2,-1]]) # (2,3)\n",
    "print(a, '\\n')\n",
    "print(\"indices : \")\n",
    "print(indices)\n",
    "print('=========== indexed =========')\n",
    "print(a[indices])\n",
    "print('shape : ', a[indices].shape)"
   ]
  },
  {
   "cell_type": "code",
   "execution_count": 118,
   "id": "f7b38ef6",
   "metadata": {},
   "outputs": [
    {
     "name": "stdout",
     "output_type": "stream",
     "text": [
      "[[ 0  1  2  3]\n",
      " [ 4  5  6  7]\n",
      " [ 8  9 10 11]] \n",
      "\n",
      "[0]\n",
      "[6]\n"
     ]
    },
    {
     "data": {
      "text/plain": [
       "array([ 1,  6, 11])"
      ]
     },
     "execution_count": 118,
     "metadata": {},
     "output_type": "execute_result"
    }
   ],
   "source": [
    "a = np.arange(12).reshape(3,4)\n",
    "print(a, '\\n')\n",
    "indices0, indices1 = np.array([0]), np.array([0])\n",
    "print(a[indices0, indices1])\n",
    "\n",
    "indices0, indices1 = np.array([1]), np.array([2]) # 각각이 ndarray \n",
    "print(a[indices0, indices1])\n",
    "\n",
    "indices0, indices1 = np.array([0,1,2]), np.array([1,2,3])\n",
    "a[indices0, indices1] # 2개의 차원에 대해서 전부다 index를 만듬\n",
    "                      # row별로가 아니라 실제 스칼라 값에 접근"
   ]
  },
  {
   "cell_type": "code",
   "execution_count": 150,
   "id": "53aa6fa5",
   "metadata": {},
   "outputs": [
    {
     "name": "stdout",
     "output_type": "stream",
     "text": [
      "[[0 1 2]\n",
      " [0 1 2]]\n",
      "[[0 1 2]\n",
      " [1 2 3]]\n"
     ]
    },
    {
     "data": {
      "text/plain": [
       "array([[ 0,  5, 10],\n",
       "       [ 1,  6, 11]])"
      ]
     },
     "execution_count": 150,
     "metadata": {},
     "output_type": "execute_result"
    }
   ],
   "source": [
    "indices0 = np.array([[0,1,2], [0,1,2]]) # (2,3)\n",
    "indices1 = np.array([[0,1,2], [1,2,3]]) # (2,3)\n",
    "print(indices0)\n",
    "print(indices1)\n",
    "a[indices0, indices1]"
   ]
  },
  {
   "cell_type": "markdown",
   "id": "4dde9a7e",
   "metadata": {},
   "source": [
    "## boolean ndarray로 인덱싱 하기"
   ]
  },
  {
   "cell_type": "code",
   "execution_count": 151,
   "id": "daccafbf",
   "metadata": {},
   "outputs": [
    {
     "name": "stdout",
     "output_type": "stream",
     "text": [
      "[0 1 2 3 4] \n",
      "\n"
     ]
    },
    {
     "data": {
      "text/plain": [
       "array([0, 2, 4])"
      ]
     },
     "execution_count": 151,
     "metadata": {},
     "output_type": "execute_result"
    }
   ],
   "source": [
    "a = np.arange(5)\n",
    "print(a, '\\n')\n",
    "\n",
    "b_indices = np.array([True, False, True, False, True])\n",
    "a[b_indices] # shape가 같아야지 인덱싱이 가능함. "
   ]
  },
  {
   "cell_type": "code",
   "execution_count": 154,
   "id": "8f93503a",
   "metadata": {},
   "outputs": [
    {
     "name": "stdout",
     "output_type": "stream",
     "text": [
      "[12 12 18 15  3  8 16  3  6 14] \n",
      "\n"
     ]
    },
    {
     "data": {
      "text/plain": [
       "array([12, 12, 18,  8, 16,  6, 14])"
      ]
     },
     "execution_count": 154,
     "metadata": {},
     "output_type": "execute_result"
    }
   ],
   "source": [
    "a = np.random.randint(0,20, size=(10,))\n",
    "print(a, '\\n')\n",
    "b_indices = (a%2 == 0) # even numbers\n",
    "a[b_indices] # 원하는 값들만 뽑아오기 "
   ]
  },
  {
   "cell_type": "code",
   "execution_count": 156,
   "id": "e3636ca3",
   "metadata": {},
   "outputs": [
    {
     "name": "stdout",
     "output_type": "stream",
     "text": [
      "[13 11]\n"
     ]
    }
   ],
   "source": [
    "# 행렬인 경우\n",
    "matrix = np.random.randint(0,20, (2,2))\n",
    "b_indices = np.array([[True, False],\n",
    "                      [False, True]])\n",
    "print(matrix[b_indices]) # 결과가 matrix ==> vector로 나옴. "
   ]
  },
  {
   "cell_type": "code",
   "execution_count": 158,
   "id": "a0e1c0de",
   "metadata": {},
   "outputs": [
    {
     "data": {
      "text/plain": [
       "array([14, 11, 16, 19])"
      ]
     },
     "execution_count": 158,
     "metadata": {},
     "output_type": "execute_result"
    }
   ],
   "source": [
    "a = np.random.randint(0,20, (3,4))\n",
    "b_indices = (a > 10) # boolean indexing\n",
    "a[b_indices] # True인 값들만 뽑아오기 \n",
    "\"\"\"결국엔 판다스에서 boolean indexing해오는 것과 동일함. 다른게 없음. \"\"\""
   ]
  },
  {
   "cell_type": "code",
   "execution_count": 163,
   "id": "82c782fd",
   "metadata": {},
   "outputs": [
    {
     "name": "stdout",
     "output_type": "stream",
     "text": [
      "[ True False  True False]\n",
      "(array([0, 2]),)\n",
      "(array([0, 2]),)\n"
     ]
    }
   ],
   "source": [
    "a = np.array([True, False, True, False])\n",
    "nonzero = np.nonzero(a)\n",
    "where = np.where(a)\n",
    "print(a)\n",
    "print(nonzero) # 0이 아닌 부분의 인덱스를 가져옴.\n",
    "print(where)"
   ]
  },
  {
   "cell_type": "code",
   "execution_count": 166,
   "id": "91501a24",
   "metadata": {},
   "outputs": [
    {
     "name": "stdout",
     "output_type": "stream",
     "text": [
      "[[ True False]\n",
      " [ True False]]\n",
      "(array([0, 1]), array([0, 0]))\n",
      "(array([0, 1]), array([0, 0]))\n"
     ]
    }
   ],
   "source": [
    "a = np.array([[True, False],\n",
    "              [True, False]])\n",
    "nonzero = np.nonzero(a)\n",
    "where = np.where(a)\n",
    "print(a)\n",
    "print(nonzero) # integer ndarray 값을 돌려줌. \n",
    "print(where)"
   ]
  },
  {
   "cell_type": "code",
   "execution_count": 174,
   "id": "bbc06449",
   "metadata": {},
   "outputs": [
    {
     "name": "stdout",
     "output_type": "stream",
     "text": [
      "(array([0, 0, 0, 0, 0, 0]), array([0, 0, 1, 2, 3, 3]), array([0, 2, 0, 1, 0, 2]))\n",
      "(array([0, 0, 0, 0, 0, 0]), array([0, 0, 1, 2, 3, 3]), array([0, 2, 0, 1, 0, 2]))\n"
     ]
    }
   ],
   "source": [
    "a = np.array([[[True, False, True],\n",
    "               [True, False, False],\n",
    "              \n",
    "               [False, True, False],\n",
    "               [True, False, True]]])\n",
    "nonzero = np.nonzero(a)\n",
    "where = np.where(a)\n",
    "print(nonzero)\n",
    "print(where) \"\"\"integer인덱스를 돌려주는 구나! \"\"\""
   ]
  },
  {
   "cell_type": "code",
   "execution_count": 175,
   "id": "86512d41",
   "metadata": {},
   "outputs": [
    {
     "name": "stdout",
     "output_type": "stream",
     "text": [
      "[ 1 -2 -1  1 -2 -1  1  2]\n",
      "[ 1 -2 -1  1 -2 -1  1  2]\n",
      "[ 1 -2 -1  1 -2 -1  1  2]\n"
     ]
    }
   ],
   "source": [
    "a = np.random.randint(-2,3, size=(3,3))\n",
    "\n",
    "u_nonzero = a[np.nonzero(a)]\n",
    "u_where = a[np.where(a)]\n",
    "u_bool = a[a != 0] \n",
    "\n",
    "print(u_nonzero) # 인덱스를 뽑아줌.  \n",
    "print(u_where)\n",
    "print(u_bool)"
   ]
  },
  {
   "cell_type": "code",
   "execution_count": 179,
   "id": "c6fae018",
   "metadata": {},
   "outputs": [
    {
     "name": "stdout",
     "output_type": "stream",
     "text": [
      "[[ 0  2  1]\n",
      " [-2  0  1]\n",
      " [ 0  0  0]]\n",
      "[2 1 1]\n",
      "[2 1 1]\n",
      "[2 1 1]\n"
     ]
    }
   ],
   "source": [
    "a = np.random.randint(-2,3,size=(3,3))\n",
    "print(a)\n",
    "u_nonzero = a[np.nonzero(a > 0)] # 양수인 것들의 인덱스만 가져와서~ \n",
    "u_where = a[np.where(a > 0)]\n",
    "u_bool = a[a>0]\n",
    "\n",
    "print(u_nonzero)\n",
    "print(u_where)\n",
    "print(u_bool)"
   ]
  },
  {
   "cell_type": "code",
   "execution_count": null,
   "id": "d1243631",
   "metadata": {},
   "outputs": [],
   "source": []
  },
  {
   "cell_type": "markdown",
   "id": "40bed4fb",
   "metadata": {},
   "source": [
    "# API들의 axis, keepdims 인자"
   ]
  },
  {
   "cell_type": "markdown",
   "id": "76b819d0",
   "metadata": {},
   "source": [
    "## 행렬 ndarray에서의 axis, keepdims"
   ]
  },
  {
   "cell_type": "code",
   "execution_count": null,
   "id": "28064134",
   "metadata": {},
   "outputs": [],
   "source": [
    "# np.sum \n",
    "# np.cumsum\n",
    "# np.prod\n",
    "# np.cumprod\n",
    "# np.diff\n",
    "# np.mean\n",
    "# np.median\n",
    "# np.var\n",
    "# np.std\n",
    "# np.amax\n",
    "# np.argmax\n",
    "# np.amin\n",
    "# np.argmin\n",
    "# np.sort"
   ]
  },
  {
   "cell_type": "code",
   "execution_count": 183,
   "id": "c7ab0371",
   "metadata": {},
   "outputs": [
    {
     "name": "stdout",
     "output_type": "stream",
     "text": [
      "[0 1 2 3 4] \n",
      "\n",
      "10\n",
      "[[0 1 2]\n",
      " [3 4 5]]\n",
      "b sum :  15\n"
     ]
    }
   ],
   "source": [
    "# np.sum\n",
    "a = np.arange(5)\n",
    "print(a, '\\n')\n",
    "print(np.sum(a))\n",
    "\n",
    "b = np.arange(6).reshape(2,-1)\n",
    "print(b)\n",
    "print('b sum : ', b.sum())"
   ]
  },
  {
   "cell_type": "code",
   "execution_count": 186,
   "id": "5adf4705",
   "metadata": {},
   "outputs": [
    {
     "name": "stdout",
     "output_type": "stream",
     "text": [
      "[[ 0  1  2  3]\n",
      " [ 4  5  6  7]\n",
      " [ 8  9 10 11]]\n",
      "sum of all numbers :  66\n",
      "sum of axis 0 :  [12 15 18 21]\n",
      "sum of axis 1 :  [ 6 22 38]\n"
     ]
    }
   ],
   "source": [
    "a = np.arange(12).reshape(3,-1)\n",
    "print(a)\n",
    "print('sum of all numbers : ', a.sum())\n",
    "print('sum of axis 0 : ', a.sum(axis=0)) \n",
    "print('sum of axis 1 : ', a.sum(axis=1))\n",
    "\n",
    "\"\"\"\n",
    "a.shape ==> (3,4)\n",
    "axis=0을 기준으로 더할 시에는 (3,)이 사라지고 합은 (4,) 형태로 변함\n",
    "axis=1을 기준으로 더할 시에는 (,4)는 사라지고 합은 (3,) 형태로 변함 \n",
    "\"\"\""
   ]
  },
  {
   "cell_type": "code",
   "execution_count": 193,
   "id": "c185b56b",
   "metadata": {},
   "outputs": [
    {
     "name": "stdout",
     "output_type": "stream",
     "text": [
      "(4,)\n",
      "(3,)\n"
     ]
    }
   ],
   "source": [
    "a = np.arange(12).reshape(3,-1) # (3,4)\n",
    "sum_class = np.sum(a, axis=0)\n",
    "sum_student = np.sum(a, axis=1)\n",
    "print(sum_class.shape)\n",
    "print(sum_student.shape)"
   ]
  },
  {
   "cell_type": "code",
   "execution_count": 194,
   "id": "21b5627b",
   "metadata": {},
   "outputs": [
    {
     "name": "stdout",
     "output_type": "stream",
     "text": [
      "(1, 4)\n",
      "(3, 1)\n"
     ]
    }
   ],
   "source": [
    "# dimension을 떨어뜨리고 싶지 않을 때\n",
    "a = np.arange(12).reshape(3,-1)\n",
    "\n",
    "sum_class = np.sum(a, axis=0, keepdims=True)\n",
    "sum_student = np.sum(a, axis=1, keepdims=True)\n",
    "\n",
    "print(sum_class.shape)\n",
    "print(sum_student.shape)"
   ]
  },
  {
   "cell_type": "code",
   "execution_count": 201,
   "id": "be6f5650",
   "metadata": {},
   "outputs": [
    {
     "name": "stdout",
     "output_type": "stream",
     "text": [
      "(3, 4) (1, 4) (3, 1) \n",
      "\n",
      "[[42 27 66 72]\n",
      " [31 58 50 18]\n",
      " [80 64  6 71]]\n",
      "[[ -9.         -22.66666667  25.33333333  18.33333333]\n",
      " [-20.           8.33333333   9.33333333 -35.66666667]\n",
      " [ 29.          14.33333333 -34.66666667  17.33333333]]\n",
      "[[ -9.         -22.66666667  25.33333333  18.33333333]\n",
      " [-20.           8.33333333   9.33333333 -35.66666667]\n",
      " [ 29.          14.33333333 -34.66666667  17.33333333]]\n",
      "[[ -9.75 -24.75  14.25  20.25]\n",
      " [ -8.25  18.75  10.75 -21.25]\n",
      " [ 24.75   8.75 -49.25  15.75]]\n"
     ]
    },
    {
     "ename": "ValueError",
     "evalue": "operands could not be broadcast together with shapes (3,4) (3,) ",
     "output_type": "error",
     "traceback": [
      "\u001b[0;31m---------------------------------------------------------------------------\u001b[0m",
      "\u001b[0;31mValueError\u001b[0m                                Traceback (most recent call last)",
      "Cell \u001b[0;32mIn[201], line 15\u001b[0m\n\u001b[1;32m     13\u001b[0m \u001b[38;5;28mprint\u001b[39m(scores \u001b[38;5;241m-\u001b[39m mean_class_x_kd)\n\u001b[1;32m     14\u001b[0m \u001b[38;5;28mprint\u001b[39m(scores \u001b[38;5;241m-\u001b[39m mean_student)\n\u001b[0;32m---> 15\u001b[0m \u001b[38;5;28mprint\u001b[39m(\u001b[43mscores\u001b[49m\u001b[43m \u001b[49m\u001b[38;5;241;43m-\u001b[39;49m\u001b[43m \u001b[49m\u001b[43mmean_student_x_kd\u001b[49m) \u001b[38;5;66;03m# 오류 발생 ==> broadcast x\u001b[39;00m\n",
      "\u001b[0;31mValueError\u001b[0m: operands could not be broadcast together with shapes (3,4) (3,) "
     ]
    }
   ],
   "source": [
    "import numpy as np\n",
    "n_student, n_class = 3,4\n",
    "m_score, M_score = 0, 100\n",
    "scores = np.random.randint(low=m_score, high=M_score,\n",
    "                           size=(n_student, n_class))\n",
    "mean_class = np.mean(scores, axis=0, keepdims=True)\n",
    "mean_class_x_kd = np.mean(scores, axis=0, keepdims=False)\n",
    "mean_student = np.mean(scores, axis=1, keepdims=True)\n",
    "mean_student_x_kd = np.mean(scores, axis=1, keepdims=False)\n",
    "print(scores.shape, mean_class.shape, mean_student.shape, '\\n')\n",
    "print(scores)\n",
    "print(scores - mean_class)\n",
    "print(scores - mean_class_x_kd) # 얘는 broadcasting o (4, )\n",
    "print(scores - mean_student)\n",
    "print(scores - mean_student_x_kd) # 오류 발생 ==> broadcast x"
   ]
  },
  {
   "cell_type": "markdown",
   "id": "042e9352",
   "metadata": {},
   "source": [
    "## 텐서 ndarray에서의 axis, keepdims"
   ]
  },
  {
   "cell_type": "code",
   "execution_count": 212,
   "id": "b742200b",
   "metadata": {},
   "outputs": [],
   "source": [
    "# 3rd Order Tensor Case"
   ]
  },
  {
   "cell_type": "code",
   "execution_count": 217,
   "id": "b6d9d27c",
   "metadata": {},
   "outputs": [
    {
     "name": "stdout",
     "output_type": "stream",
     "text": [
      "[[12 14 16 18]\n",
      " [20 22 24 26]\n",
      " [28 30 32 34]]\n",
      "[[12 15 18 21]\n",
      " [48 51 54 57]]\n",
      "[[ 6 22 38]\n",
      " [54 70 86]]\n"
     ]
    }
   ],
   "source": [
    "tensor = np.arange(24).reshape(2,3,4)\n",
    "print(tensor.sum(axis=0)) # ==> (3,4)\n",
    "print(tensor.sum(axis=1)) # ==> (2,4)\n",
    "print(tensor.sum(axis=2)) # ==> (2,3)"
   ]
  },
  {
   "cell_type": "code",
   "execution_count": 218,
   "id": "75858bac",
   "metadata": {},
   "outputs": [
    {
     "name": "stdout",
     "output_type": "stream",
     "text": [
      "(2, 4) (2, 1, 4)\n"
     ]
    }
   ],
   "source": [
    "tensor = np.arange(2*3*4).reshape(2,3,4)\n",
    "sum_ = tensor.sum(axis=1)\n",
    "sum_k = tensor.sum(axis=1, keepdims=True)\n",
    "print(sum_.shape, sum_k.shape)"
   ]
  },
  {
   "cell_type": "code",
   "execution_count": 219,
   "id": "b4f48097",
   "metadata": {},
   "outputs": [
    {
     "name": "stdout",
     "output_type": "stream",
     "text": [
      "(2, 3) (2, 3, 1)\n"
     ]
    }
   ],
   "source": [
    "tensor = np.arange(2*3*4).reshape(2,3,4)\n",
    "sum_ = tensor.sum(axis=2)\n",
    "sum_k = tensor.sum(axis=2, keepdims=True)\n",
    "print(sum_.shape, sum_k.shape)"
   ]
  },
  {
   "cell_type": "code",
   "execution_count": 221,
   "id": "34d61a5d",
   "metadata": {},
   "outputs": [
    {
     "name": "stdout",
     "output_type": "stream",
     "text": [
      "scores: \n",
      " [[[31 62 92 85]\n",
      "  [92 80  5 89]\n",
      "  [62 60 41 84]]\n",
      "\n",
      " [[98 73 47 47]\n",
      "  [41 62 58 56]\n",
      "  [ 7 23 73 28]]\n",
      "\n",
      " [[51 44 94  4]\n",
      "  [90 22 70 56]\n",
      "  [26  3 90 64]]\n",
      "\n",
      " [[75 82 62 72]\n",
      "  [16 63 20 54]\n",
      "  [98 10 84 20]]]\n"
     ]
    }
   ],
   "source": [
    "# application\n",
    "n_test_time, n_student, n_class = 4,3,4 # 3명의 학생, 4개의 교과목, 4번의 테스트\n",
    "m_score, M_score = 0,100\n",
    "scores = np.random.randint(low=m_score, high=M_score,\n",
    "                           size=(n_test_time, n_student, n_class))\n",
    "print(\"scores: \\n\", scores)"
   ]
  },
  {
   "cell_type": "code",
   "execution_count": 224,
   "id": "ffadd5ce",
   "metadata": {},
   "outputs": [
    {
     "name": "stdout",
     "output_type": "stream",
     "text": [
      "[[63.75 65.25 73.75 52.  ]\n",
      " [59.75 56.75 38.25 63.75]\n",
      " [48.25 24.   72.   49.  ]]\n",
      "[[61.66666667 67.33333333 46.         86.        ]\n",
      " [48.66666667 52.66666667 59.33333333 43.66666667]\n",
      " [55.66666667 23.         84.66666667 41.33333333]\n",
      " [63.         51.66666667 55.33333333 48.66666667]]\n",
      "[[67.5  66.5  61.75]\n",
      " [66.25 54.25 32.75]\n",
      " [48.25 59.5  45.75]\n",
      " [72.75 38.25 53.  ]]\n"
     ]
    }
   ],
   "source": [
    "print(scores.mean(axis=0)) # 각 학생이 각 과목에 대하여 받은 점수의 평균\n",
    "print(scores.mean(axis=1)) # 각 시험의 각 과목당 점수의 평균\n",
    "print(scores.mean(axis=2)) # 각 시험별 각 학생의 점수 평균 \n",
    "\"\"\"각 값들이 무엇을 의미하는지 정확히 알 필요가 있음\"\"\""
   ]
  },
  {
   "cell_type": "code",
   "execution_count": 226,
   "id": "1cabe18f",
   "metadata": {},
   "outputs": [
    {
     "name": "stdout",
     "output_type": "stream",
     "text": [
      "Shape of original image:  (3, 100, 200)\n",
      "(100, 200)\n"
     ]
    }
   ],
   "source": [
    "# Application_02\n",
    "C, H, W = 3, 100, 200\n",
    "images = np.random.randint(0, 256, size=(C, H, W))\n",
    "print(\"Shape of original image: \", images.shape)\n",
    "gray_image = np.mean(images, axis=0) \n",
    "print(gray_image.shape)"
   ]
  },
  {
   "cell_type": "code",
   "execution_count": null,
   "id": "f2d44413",
   "metadata": {},
   "outputs": [],
   "source": []
  },
  {
   "cell_type": "code",
   "execution_count": null,
   "id": "b08720a3",
   "metadata": {},
   "outputs": [],
   "source": []
  }
 ],
 "metadata": {
  "kernelspec": {
   "display_name": "Python 3 (ipykernel)",
   "language": "python",
   "name": "python3"
  },
  "language_info": {
   "codemirror_mode": {
    "name": "ipython",
    "version": 3
   },
   "file_extension": ".py",
   "mimetype": "text/x-python",
   "name": "python",
   "nbconvert_exporter": "python",
   "pygments_lexer": "ipython3",
   "version": "3.9.16"
  },
  "toc": {
   "base_numbering": 1,
   "nav_menu": {},
   "number_sections": true,
   "sideBar": true,
   "skip_h1_title": false,
   "title_cell": "Table of Contents",
   "title_sidebar": "Contents",
   "toc_cell": false,
   "toc_position": {},
   "toc_section_display": true,
   "toc_window_display": false
  },
  "varInspector": {
   "cols": {
    "lenName": 16,
    "lenType": 16,
    "lenVar": 40
   },
   "kernels_config": {
    "python": {
     "delete_cmd_postfix": "",
     "delete_cmd_prefix": "del ",
     "library": "var_list.py",
     "varRefreshCmd": "print(var_dic_list())"
    },
    "r": {
     "delete_cmd_postfix": ") ",
     "delete_cmd_prefix": "rm(",
     "library": "var_list.r",
     "varRefreshCmd": "cat(var_dic_list()) "
    }
   },
   "types_to_exclude": [
    "module",
    "function",
    "builtin_function_or_method",
    "instance",
    "_Feature"
   ],
   "window_display": false
  }
 },
 "nbformat": 4,
 "nbformat_minor": 5
}
