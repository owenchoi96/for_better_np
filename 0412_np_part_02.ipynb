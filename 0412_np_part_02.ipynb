{
 "cells": [
  {
   "cell_type": "markdown",
   "id": "c42f8223",
   "metadata": {},
   "source": [
    "# 넘파이 API - ndarray의 차원 다루기"
   ]
  },
  {
   "cell_type": "markdown",
   "id": "29b49b8e",
   "metadata": {},
   "source": [
    "## reshape으로 새로운 차원 만들기"
   ]
  },
  {
   "cell_type": "code",
   "execution_count": 8,
   "id": "3deae070",
   "metadata": {},
   "outputs": [
    {
     "name": "stdout",
     "output_type": "stream",
     "text": [
      "(9,)\n",
      "(1, 9)\n",
      "(9, 1) \n",
      "\n",
      "[[0 1 2 3 4 5 6 7 8]]\n",
      "[[0]\n",
      " [1]\n",
      " [2]\n",
      " [3]\n",
      " [4]\n",
      " [5]\n",
      " [6]\n",
      " [7]\n",
      " [8]]\n"
     ]
    }
   ],
   "source": [
    "import numpy as np\n",
    "a = np.arange(9)\n",
    "print(a.shape)\n",
    "\n",
    "b = a.reshape((1,9)) # 차원을 추가해도 원소의 개수가 바뀌지 않음. \n",
    "c = a.reshape((9,1))\n",
    "print(b.shape)\n",
    "print(c.shape, '\\n')\n",
    "print(b) # 1차원에서 2차원 벡터로 변환된\n",
    "print(c)"
   ]
  },
  {
   "cell_type": "code",
   "execution_count": 10,
   "id": "b23054aa",
   "metadata": {},
   "outputs": [
    {
     "name": "stdout",
     "output_type": "stream",
     "text": [
      "[[[0]]\n",
      "\n",
      " [[1]]\n",
      "\n",
      " [[2]]\n",
      "\n",
      " [[3]]\n",
      "\n",
      " [[4]]\n",
      "\n",
      " [[5]]\n",
      "\n",
      " [[6]]\n",
      "\n",
      " [[7]]\n",
      "\n",
      " [[8]]]\n",
      "3\n"
     ]
    }
   ],
   "source": [
    "a = np.arange(9)\n",
    "b = a.reshape((9,1,1))\n",
    "print(b)\n",
    "print(b.ndim)"
   ]
  },
  {
   "cell_type": "code",
   "execution_count": 11,
   "id": "d7b7bd1d",
   "metadata": {
    "scrolled": true
   },
   "outputs": [
    {
     "name": "stdout",
     "output_type": "stream",
     "text": [
      "[[[ 0.55155559 -0.68889215 -0.10275958 ... -1.3741744   0.96360457\n",
      "    0.88740921]\n",
      "  [ 0.42041343  1.3586086   0.12614845 ... -2.10873921 -1.7696725\n",
      "    1.07432554]\n",
      "  [-0.74557472 -0.24593871  1.55133685 ...  0.16252787 -1.20805123\n",
      "    0.12188254]\n",
      "  ...\n",
      "  [ 0.81108552 -1.73029275 -1.86798207 ...  0.28701923 -0.46376178\n",
      "   -0.39850927]\n",
      "  [-0.84309431  0.01622533 -0.51725967 ... -0.37488017 -1.75428158\n",
      "   -1.14907727]\n",
      "  [ 1.54922526  0.47787542  0.7906656  ... -1.12770473  0.5697377\n",
      "    0.38154578]]]\n",
      "[[[ 0.55155559]\n",
      "  [-0.68889215]\n",
      "  [-0.10275958]\n",
      "  ...\n",
      "  [-1.3741744 ]\n",
      "  [ 0.96360457]\n",
      "  [ 0.88740921]]\n",
      "\n",
      " [[ 0.42041343]\n",
      "  [ 1.3586086 ]\n",
      "  [ 0.12614845]\n",
      "  ...\n",
      "  [-2.10873921]\n",
      "  [-1.7696725 ]\n",
      "  [ 1.07432554]]\n",
      "\n",
      " [[-0.74557472]\n",
      "  [-0.24593871]\n",
      "  [ 1.55133685]\n",
      "  ...\n",
      "  [ 0.16252787]\n",
      "  [-1.20805123]\n",
      "  [ 0.12188254]]\n",
      "\n",
      " ...\n",
      "\n",
      " [[ 0.81108552]\n",
      "  [-1.73029275]\n",
      "  [-1.86798207]\n",
      "  ...\n",
      "  [ 0.28701923]\n",
      "  [-0.46376178]\n",
      "  [-0.39850927]]\n",
      "\n",
      " [[-0.84309431]\n",
      "  [ 0.01622533]\n",
      "  [-0.51725967]\n",
      "  ...\n",
      "  [-0.37488017]\n",
      "  [-1.75428158]\n",
      "  [-1.14907727]]\n",
      "\n",
      " [[ 1.54922526]\n",
      "  [ 0.47787542]\n",
      "  [ 0.7906656 ]\n",
      "  ...\n",
      "  [-1.12770473]\n",
      "  [ 0.5697377 ]\n",
      "  [ 0.38154578]]]\n"
     ]
    }
   ],
   "source": [
    "a = np.random.normal(size=(100,200))\n",
    "b = a.reshape(1,100,200)\n",
    "c = a.reshape(100,200,1)\n",
    "print(b)\n",
    "print(c)"
   ]
  },
  {
   "cell_type": "code",
   "execution_count": 27,
   "id": "8e6912e2",
   "metadata": {},
   "outputs": [
    {
     "name": "stdout",
     "output_type": "stream",
     "text": [
      "10 20 \n",
      "\n",
      "(100, 150)\n",
      "100 150\n",
      "(1, 100, 150)\n",
      "(100, 150, 1)\n"
     ]
    }
   ],
   "source": [
    "a = (10,20)\n",
    "print(*a, '\\n') # 하나하나 따로 나옴\n",
    "\n",
    "a = np.random.normal(size=(100,150))\n",
    "print(a.shape)\n",
    "print(*a.shape)\n",
    "print((1, *a.shape)) # 자동으로 바뀌는 것을 확인할 수 있음. \n",
    "print((*a.shape, 1))"
   ]
  },
  {
   "cell_type": "markdown",
   "id": "c0ccec7d",
   "metadata": {},
   "source": [
    "***making new dimensions***"
   ]
  },
  {
   "cell_type": "code",
   "execution_count": 29,
   "id": "2c966092",
   "metadata": {},
   "outputs": [
    {
     "name": "stdout",
     "output_type": "stream",
     "text": [
      "(100, 200)\n",
      "(1, 100, 200) (100, 200, 1)\n"
     ]
    }
   ],
   "source": [
    "a = np.random.normal(size=(100,200))\n",
    "b = a.reshape(1, *a.shape)\n",
    "c = a.reshape(*a.shape, 1)\n",
    "\n",
    "print(a.shape)\n",
    "print(b.shape, c.shape)"
   ]
  },
  {
   "cell_type": "markdown",
   "id": "9291e5eb",
   "metadata": {},
   "source": [
    "## 슬라이싱으로 새로운 차원 만들기와 expand_dims"
   ]
  },
  {
   "cell_type": "code",
   "execution_count": 33,
   "id": "00ef4e5a",
   "metadata": {},
   "outputs": [
    {
     "name": "stdout",
     "output_type": "stream",
     "text": [
      "(1, 9) (1, 9)\n",
      "(9, 1) (9, 1)\n"
     ]
    }
   ],
   "source": [
    "import numpy as np\n",
    "a = np.arange(9)\n",
    "\n",
    "row_vec1 = a[np.newaxis, :] # np.newaxis (내부적으로는 None)\n",
    "row_vec2 = a[None, :]\n",
    "\n",
    "col_vec1 = a[:, np.newaxis]\n",
    "col_vec2 = a[:, None]\n",
    "\n",
    "print(row_vec1.shape, row_vec2.shape) # 새로운 차원이 추가됨. \n",
    "print(col_vec1.shape, col_vec2.shape)"
   ]
  },
  {
   "cell_type": "code",
   "execution_count": 34,
   "id": "96f43045",
   "metadata": {},
   "outputs": [
    {
     "name": "stdout",
     "output_type": "stream",
     "text": [
      "(1, 1, 9) (1, 9, 1) (9, 1, 1)\n",
      "3 3 3\n"
     ]
    }
   ],
   "source": [
    "a = np.arange(9)\n",
    "b = a[np.newaxis, np.newaxis, :]\n",
    "c = a[np.newaxis, :, np.newaxis]\n",
    "d = a[:, np.newaxis, np.newaxis]\n",
    "print(b.shape, c.shape, d.shape)\n",
    "print(b.ndim, c.ndim, d.ndim) # 1차원에서 3차원으로 변경됨. "
   ]
  },
  {
   "cell_type": "code",
   "execution_count": 35,
   "id": "6e9b7593",
   "metadata": {},
   "outputs": [
    {
     "name": "stdout",
     "output_type": "stream",
     "text": [
      "(1, 100, 200) (100, 200, 1)\n"
     ]
    }
   ],
   "source": [
    "a = np.random.normal(size=(100,200))\n",
    "b = a[np.newaxis, ...]\n",
    "c = a[..., np.newaxis] # 단점 : 가운데에 새로운 축을 넣지 못함 (but 이런 경우가 대다수)\n",
    "print(b.shape, c.shape)"
   ]
  },
  {
   "cell_type": "code",
   "execution_count": 40,
   "id": "a5c343aa",
   "metadata": {
    "scrolled": true
   },
   "outputs": [
    {
     "name": "stdout",
     "output_type": "stream",
     "text": [
      "[0 1 2 3 4 5 6 7 8]\n",
      "[[0 1 2 3 4 5 6 7 8]] \n",
      "\n",
      "[[[0]\n",
      "  [1]\n",
      "  [2]\n",
      "  [3]\n",
      "  [4]\n",
      "  [5]\n",
      "  [6]\n",
      "  [7]\n",
      "  [8]]] \n",
      "\n",
      "[[0]\n",
      " [1]\n",
      " [2]\n",
      " [3]\n",
      " [4]\n",
      " [5]\n",
      " [6]\n",
      " [7]\n",
      " [8]] \n",
      "\n",
      "[[[0]\n",
      "  [1]\n",
      "  [2]\n",
      "  [3]\n",
      "  [4]\n",
      "  [5]\n",
      "  [6]\n",
      "  [7]\n",
      "  [8]]] \n",
      "\n"
     ]
    }
   ],
   "source": [
    "a = np.arange(9)\n",
    "print(a)\n",
    "b = np.expand_dims(a, axis=0)\n",
    "c = np.expand_dims(a, axis=(0,2))\n",
    "d = np.expand_dims(a, axis=-1)\n",
    "e = np.expand_dims(a, axis=(0,-1))\n",
    "print(b, '\\n')\n",
    "print(c, '\\n')\n",
    "print(d, '\\n')\n",
    "print(e, '\\n')"
   ]
  },
  {
   "cell_type": "markdown",
   "id": "68833e8d",
   "metadata": {},
   "source": [
    "## ndarray 쓸모없는 차원 없애기"
   ]
  },
  {
   "cell_type": "code",
   "execution_count": 47,
   "id": "fd3b4c65",
   "metadata": {},
   "outputs": [
    {
     "name": "stdout",
     "output_type": "stream",
     "text": [
      "[[1. 1. 1. 1. 1. 1. 1. 1. 1. 1.]] \n",
      "\n",
      "[1. 1. 1. 1. 1. 1. 1. 1. 1. 1.] \n",
      "\n",
      "[1. 1. 1. 1. 1. 1. 1. 1. 1. 1.] \n",
      "\n",
      "[1. 1. 1. 1. 1. 1. 1. 1. 1. 1.] \n",
      "\n"
     ]
    }
   ],
   "source": [
    "import numpy as np\n",
    "a = np.ones(shape=(1,10)) # dummy dimension ==> 1\n",
    "b = a.reshape((10,))\n",
    "c = a.reshape(-1)\n",
    "d = a.flatten()\n",
    "\n",
    "print(a, '\\n')\n",
    "print(b, '\\n')\n",
    "print(c, '\\n')\n",
    "print(d, '\\n')"
   ]
  },
  {
   "cell_type": "code",
   "execution_count": 53,
   "id": "5367693b",
   "metadata": {},
   "outputs": [
    {
     "name": "stdout",
     "output_type": "stream",
     "text": [
      "[[[1. 1. 1. 1.]\n",
      "  [1. 1. 1. 1.]\n",
      "  [1. 1. 1. 1.]]]\n",
      "-----------------------------------------------------------------\n",
      "[[[1.]\n",
      "  [1.]\n",
      "  [1.]\n",
      "  [1.]]\n",
      "\n",
      " [[1.]\n",
      "  [1.]\n",
      "  [1.]\n",
      "  [1.]]\n",
      "\n",
      " [[1.]\n",
      "  [1.]\n",
      "  [1.]\n",
      "  [1.]]]\n",
      "-----------------------------------------------------------------\n",
      "[[1. 1. 1. 1.]\n",
      " [1. 1. 1. 1.]\n",
      " [1. 1. 1. 1.]]\n",
      "-----------------------------------------------------------------\n",
      "[[1. 1. 1. 1.]\n",
      " [1. 1. 1. 1.]\n",
      " [1. 1. 1. 1.]]\n",
      "(3, 4)\n"
     ]
    }
   ],
   "source": [
    "a = np.ones(shape=(1,3,4))\n",
    "b = np.ones(shape=(3,4,1))\n",
    "c = a.reshape(*a.shape[1:])\n",
    "d = b.reshape(*b.shape[:-1])\n",
    "\n",
    "print(a)\n",
    "print('-'*65)\n",
    "print(b)\n",
    "print('-'*65)\n",
    "print(c)\n",
    "print('-'*65)\n",
    "print(d)\n",
    "print(d.shape)"
   ]
  },
  {
   "cell_type": "code",
   "execution_count": 54,
   "id": "5e6585f7",
   "metadata": {},
   "outputs": [
    {
     "name": "stdout",
     "output_type": "stream",
     "text": [
      "(3, 3)\n",
      "(3,)\n",
      "(3,)\n"
     ]
    }
   ],
   "source": [
    "a = np.arange(9).reshape((3,3))\n",
    "row, col = a[1, :], a[:, 1]\n",
    "print(a.shape)\n",
    "print(row.shape)\n",
    "print(col.shape)"
   ]
  },
  {
   "cell_type": "code",
   "execution_count": 55,
   "id": "6e52e5a8",
   "metadata": {},
   "outputs": [
    {
     "name": "stdout",
     "output_type": "stream",
     "text": [
      "(1, 9) (9, 1)\n",
      "(9,) (1,)\n"
     ]
    }
   ],
   "source": [
    "# 차원을 없앨때 인덱싱을 사용할 수 있음. \n",
    "a = np.arange(9).reshape(1,-1)\n",
    "b = np.arange(9).reshape(-1,1)\n",
    "\n",
    "c = a[0, :] # 하나의 차원에 대하여 인덱싱하면 하나의 차원이 떨어져 나온다. \n",
    "d = a[:, 0]\n",
    "\n",
    "print(a.shape, b.shape)\n",
    "print(c.shape, d.shape)"
   ]
  },
  {
   "cell_type": "markdown",
   "id": "bad030f8",
   "metadata": {},
   "source": [
    "***removing dimension***"
   ]
  },
  {
   "cell_type": "code",
   "execution_count": 59,
   "id": "87985726",
   "metadata": {},
   "outputs": [
    {
     "data": {
      "text/plain": [
       "array([0, 1, 2, 3, 4, 5, 6, 7, 8])"
      ]
     },
     "execution_count": 59,
     "metadata": {},
     "output_type": "execute_result"
    }
   ],
   "source": [
    "# 차원을 없앨 때 인덱싱 사용. \n",
    "a = np.ones(shape=(1,3,4))\n",
    "b = np.ones(shape=(3,4,1))\n",
    "\n",
    "c = a[0, ...]\n",
    "d = a[..., 0]"
   ]
  },
  {
   "cell_type": "code",
   "execution_count": 67,
   "id": "22668f2c",
   "metadata": {},
   "outputs": [
    {
     "name": "stdout",
     "output_type": "stream",
     "text": [
      "[[[1. 1. 1. 1.]\n",
      "  [1. 1. 1. 1.]\n",
      "  [1. 1. 1. 1.]]]\n",
      "(3, 4)\n",
      "(3, 4)\n"
     ]
    }
   ],
   "source": [
    "a = np.ones(shape=(1,3,4))\n",
    "c = np.squeeze(a)\n",
    "d = a.squeeze()\n",
    "\n",
    "print(a)\n",
    "print(c.shape)\n",
    "print(d.shape)"
   ]
  },
  {
   "cell_type": "code",
   "execution_count": 70,
   "id": "513948ca",
   "metadata": {},
   "outputs": [
    {
     "name": "stdout",
     "output_type": "stream",
     "text": [
      "(3, 3)\n"
     ]
    }
   ],
   "source": [
    "# 쓰지 않는 차원은 모두 없애줌. \n",
    "# np.squeeze()\n",
    "\n",
    "a = np.ones(shape=(1,1,3,1,3,1))\n",
    "b = a.squeeze()\n",
    "print(b.shape) # 얘들의 차원은 무엇인지 알려줘야 함 (어떤 차원이 남았는지 알려주어야 함.)"
   ]
  },
  {
   "cell_type": "markdown",
   "id": "7c84f004",
   "metadata": {},
   "source": [
    "## ndarray 차원 바꾸기"
   ]
  },
  {
   "cell_type": "code",
   "execution_count": 71,
   "id": "e611f6be",
   "metadata": {},
   "outputs": [],
   "source": [
    "# 차원들끼리 교체"
   ]
  },
  {
   "cell_type": "code",
   "execution_count": 75,
   "id": "4f337d39",
   "metadata": {},
   "outputs": [
    {
     "name": "stdout",
     "output_type": "stream",
     "text": [
      "(3, 4, 5, 6)\n",
      "(4, 3, 5, 6)\n",
      "(5, 4, 3, 6)\n",
      "(6, 4, 5, 3)\n"
     ]
    }
   ],
   "source": [
    "import numpy as np\n",
    "\n",
    "# np.swapaxes API ==> 2가지 차원을 바꿀때 유용함. \n",
    "a = np.random.normal(size=(3,4,5,6))\n",
    "b = np.swapaxes(a, 0, 1)\n",
    "c = np.swapaxes(a, 0, 2)\n",
    "d = np.swapaxes(a, 0, 3)\n",
    "\n",
    "print(a.shape)\n",
    "print(b.shape)\n",
    "print(c.shape)\n",
    "print(d.shape)"
   ]
  },
  {
   "cell_type": "code",
   "execution_count": 76,
   "id": "383fbdc2",
   "metadata": {},
   "outputs": [
    {
     "name": "stdout",
     "output_type": "stream",
     "text": [
      "(3, 200, 100)\n",
      "(100, 200, 3)\n"
     ]
    }
   ],
   "source": [
    "a = np.random.normal(size=(3,200,100))\n",
    "b = np.swapaxes(a, 0, -1)\n",
    "print(a.shape)\n",
    "print(b.shape)"
   ]
  },
  {
   "cell_type": "code",
   "execution_count": 77,
   "id": "a19a1687",
   "metadata": {},
   "outputs": [
    {
     "name": "stdout",
     "output_type": "stream",
     "text": [
      "(3, 4, 5, 6)\n",
      "(4, 3, 5, 6)\n",
      "(4, 5, 3, 6)\n",
      "(4, 5, 6, 3)\n"
     ]
    }
   ],
   "source": [
    "# np.moveaxis API\n",
    "a = np.random.normal(size=(3,4,5,6))\n",
    "b = np.moveaxis(a, source=0, destination=1)\n",
    "c = np.moveaxis(a, source=0, destination=2)\n",
    "d = np.moveaxis(a, source=0, destination=-1)\n",
    "\n",
    "print(a.shape)\n",
    "print(b.shape)\n",
    "print(c.shape)\n",
    "print(d.shape)"
   ]
  },
  {
   "cell_type": "code",
   "execution_count": 78,
   "id": "13b01478",
   "metadata": {},
   "outputs": [
    {
     "name": "stdout",
     "output_type": "stream",
     "text": [
      "(3, 4) (4, 3) (4, 3)\n"
     ]
    }
   ],
   "source": [
    "# transpose\n",
    "# 차원을 그래도 뒤집어줌. \n",
    "\n",
    "import numpy as np\n",
    "a = np.random.normal(size=(3,4))\n",
    "\n",
    "b = np.transpose(a)\n",
    "c = a.T\n",
    "\n",
    "print(a.shape, b.shape, c.shape)"
   ]
  },
  {
   "cell_type": "code",
   "execution_count": 81,
   "id": "92c74927",
   "metadata": {},
   "outputs": [
    {
     "name": "stdout",
     "output_type": "stream",
     "text": [
      "(3, 4, 5)\n",
      "(3, 4, 5)\n",
      "(4, 5, 3)\n",
      "(5, 3, 4)\n",
      "(5, 4, 3)\n"
     ]
    }
   ],
   "source": [
    "# 차원을 임의대로 한번에 바꿀 수 있음. \n",
    "a = np.random.normal(size=(3,4,5))\n",
    "b = np.transpose(a, axes = (0,1,2))\n",
    "c = np.transpose(a, axes = (1,2,0))\n",
    "d = np.transpose(a, axes = (2,0,1))\n",
    "e = np.transpose(a, axes = (2,1,0))\n",
    "print(a.shape)\n",
    "print(b.shape)\n",
    "print(c.shape)\n",
    "print(d.shape)\n",
    "print(e.shape)\n"
   ]
  },
  {
   "cell_type": "markdown",
   "id": "c63653a5",
   "metadata": {},
   "source": [
    "# Merging ndarrays"
   ]
  },
  {
   "cell_type": "markdown",
   "id": "c14c5737",
   "metadata": {},
   "source": [
    "## hstack, vstack"
   ]
  },
  {
   "cell_type": "code",
   "execution_count": 82,
   "id": "8b6bd8f4",
   "metadata": {},
   "outputs": [
    {
     "name": "stdout",
     "output_type": "stream",
     "text": [
      "(4,) (4,)\n"
     ]
    }
   ],
   "source": [
    "import numpy as np\n",
    "a = np.random.randint(0, 10, (4,))\n",
    "b = np.random.randint(0, 10, (4,))\n",
    "\n",
    "print(a.shape, b.shape)"
   ]
  },
  {
   "cell_type": "code",
   "execution_count": 85,
   "id": "29539561",
   "metadata": {},
   "outputs": [
    {
     "name": "stdout",
     "output_type": "stream",
     "text": [
      "(2, 4)\n",
      "[[9 3 3 9]\n",
      " [6 8 3 7]]\n",
      "-----------------------------------------------------------------\n",
      "(8,)\n",
      "[9 3 3 9 6 8 3 7]\n"
     ]
    }
   ],
   "source": [
    "vstack = np.vstack([a,b])\n",
    "hstack = np.hstack([a,b])\n",
    "\n",
    "print(vstack.shape)\n",
    "print(vstack)\n",
    "print('-'*65)\n",
    "print(hstack.shape)\n",
    "print(hstack)"
   ]
  },
  {
   "cell_type": "code",
   "execution_count": 86,
   "id": "0185b335",
   "metadata": {},
   "outputs": [
    {
     "name": "stdout",
     "output_type": "stream",
     "text": [
      "[[0 2 0]\n",
      " [2 2 2]]\n",
      "[[0 2 0 2 2 2]]\n"
     ]
    }
   ],
   "source": [
    "a = np.random.randint(0,3,(1,3))\n",
    "b = np.random.randint(0,3,(1,3))\n",
    "\n",
    "vstack = np.vstack([a,b]) \n",
    "hstack = np.hstack([a,b]) # 차원이 바뀜\n",
    "\n",
    "print(vstack)\n",
    "print(hstack)"
   ]
  },
  {
   "cell_type": "code",
   "execution_count": 88,
   "id": "b8364d96",
   "metadata": {},
   "outputs": [
    {
     "name": "stdout",
     "output_type": "stream",
     "text": [
      "(6, 1)\n",
      "[[2]\n",
      " [1]\n",
      " [2]\n",
      " [0]\n",
      " [0]\n",
      " [1]]\n",
      "-----------------------------------------------------------------\n",
      "(3, 2)\n",
      "[[2 0]\n",
      " [1 0]\n",
      " [2 1]]\n"
     ]
    }
   ],
   "source": [
    "a = np.random.randint(0,3,(3,1))\n",
    "b = np.random.randint(0,3,(3,1))\n",
    "\n",
    "vstack = np.vstack([a,b])\n",
    "hstack = np.hstack([a,b])\n",
    "\n",
    "print(vstack.shape) # 이번에 vstack의 차원이 바뀜. \n",
    "print(vstack)\n",
    "print('-'*65)\n",
    "print(hstack.shape)\n",
    "print(hstack)"
   ]
  },
  {
   "cell_type": "code",
   "execution_count": 99,
   "id": "960157ca",
   "metadata": {},
   "outputs": [
    {
     "name": "stdout",
     "output_type": "stream",
     "text": [
      "[[3 0 6 7]\n",
      " [6 3 0 4]\n",
      " [4 7 2 9]]\n",
      "[1 7 5 5]\n",
      "-----------------------------------------------------------------\n",
      "[[3 0 6 7]\n",
      " [6 3 0 4]\n",
      " [4 7 2 9]\n",
      " [1 7 5 5]]\n",
      "(4, 4)\n",
      "-----------------------------------------------------------------\n",
      "[[0 0 2 6]\n",
      " [8 2 8 5]\n",
      " [6 6 7 8]]\n",
      "[[8]\n",
      " [7]\n",
      " [3]]\n",
      "[[0 0 2 6 8]\n",
      " [8 2 8 5 7]\n",
      " [6 6 7 8 3]]\n"
     ]
    }
   ],
   "source": [
    "a = np.random.randint(0,10,(3,4))\n",
    "b = np.random.randint(0,10,(4,))\n",
    "print(a)\n",
    "print(b)\n",
    "print('-'*65)\n",
    "vstack = np.vstack([a,b])\n",
    "print(vstack)\n",
    "print(vstack.shape)\n",
    "print('-'*65)\n",
    "\n",
    "a = np.random.randint(0,10,(3,4))\n",
    "# b = np.random.randint(0,10,(3,)) 이렇게 하면 오류가 남\n",
    "b = np.random.randint(0,10,(3,1))\n",
    "hstack = np.hstack([a,b])\n",
    "print(a)\n",
    "print(b)\n",
    "print(hstack)"
   ]
  },
  {
   "cell_type": "code",
   "execution_count": 104,
   "id": "89060f8b",
   "metadata": {},
   "outputs": [
    {
     "name": "stdout",
     "output_type": "stream",
     "text": [
      "(0, 4)\n",
      "[[1.40663085e+00 4.38531667e+00 4.87826889e+00 2.76195926e+00]\n",
      " [4.62328024e+00 3.50585552e+00 1.48667868e+00 4.71815746e+00]\n",
      " [2.90467819e+00 2.67974911e+00 2.60637302e+00 2.16495541e+00]\n",
      " [4.71878059e-01 1.53089429e+00 2.38819622e+00 7.29061998e-04]\n",
      " [3.94083558e+00 6.26644469e-01 1.26038029e+00 4.25267078e+00]]\n"
     ]
    }
   ],
   "source": [
    "# vstack\n",
    "dataset = np.empty((0,4)) # (1,4)는 데이터를 차지하고 있음. 0은 데이터 차지 x\n",
    "print(dataset.shape) # 데이터가 없는 상태\n",
    "\n",
    "for iter in range(5): # 5번 iteration \n",
    "    data_sample = np.random.uniform(0,5, (1,4))\n",
    "    dataset = np.vstack((dataset, data_sample))\n",
    "    \n",
    "print(dataset)"
   ]
  },
  {
   "cell_type": "code",
   "execution_count": 107,
   "id": "05865b39",
   "metadata": {},
   "outputs": [
    {
     "name": "stdout",
     "output_type": "stream",
     "text": [
      "(4, 0)\n",
      "[[2.40659305 3.14721685 2.77482897 1.0185376  1.78563353]\n",
      " [1.28225694 1.95625965 3.94027607 1.07793003 4.23726382]\n",
      " [1.3943962  2.15368332 3.17266806 1.38016145 2.34005238]\n",
      " [0.01491237 0.91796148 0.57794864 3.11423016 0.7857276 ]]\n"
     ]
    }
   ],
   "source": [
    "# hstack \n",
    "dataset = np.empty((4,0)) # (1,4)는 데이터를 차지하고 있음. 0은 데이터 차지 x\n",
    "print(dataset.shape) # 데이터가 없는 상태\n",
    "\n",
    "for iter in range(5): # 5번 iteration \n",
    "    data_sample = np.random.uniform(0,5, (4,))\n",
    "    data_sample_reshaped = data_sample.reshape(-1, 1)\n",
    "    dataset = np.hstack((dataset, data_sample_reshaped))\n",
    "    \n",
    "print(dataset)"
   ]
  },
  {
   "cell_type": "code",
   "execution_count": 108,
   "id": "2f94d783",
   "metadata": {},
   "outputs": [
    {
     "name": "stdout",
     "output_type": "stream",
     "text": [
      "[[4 4 0 1]\n",
      " [7 3 4 9]\n",
      " [8 4 9 8]]\n"
     ]
    }
   ],
   "source": [
    "# effecient way!\n",
    "import numpy as np\n",
    "\n",
    "a = np.random.randint(0,10, (1,4))\n",
    "b = np.random.randint(0,10, (1,4))\n",
    "c = np.random.randint(0,10, (1,4))\n",
    "\n",
    "arr_list = [a,b,c]\n",
    "vstack = np.vstack(arr_list)\n",
    "print(vstack)"
   ]
  },
  {
   "cell_type": "code",
   "execution_count": 119,
   "id": "8ebf36d7",
   "metadata": {},
   "outputs": [
    {
     "name": "stdout",
     "output_type": "stream",
     "text": [
      "working time :  0.004045724868774414\n",
      "(100, 4)\n"
     ]
    }
   ],
   "source": [
    "# 처음에 빈 리스트를 만들기\n",
    "# append를 해주고 최종적으로 stack 해주기 \n",
    "from time import time\n",
    "start_time = time()\n",
    "dataset_tmp = list()\n",
    "for iter in range(100):\n",
    "    data_sample = np.random.uniform(0,5,(1,4)) \n",
    "    dataset_tmp.append(data_sample) # list에 append해주기\n",
    "dataset = np.vstack(dataset_tmp)\n",
    "end_time = time()\n",
    "print('working time : ', end_time - start_time)\n",
    "print(dataset.shape)\n",
    "\n",
    "\"\"\"\n",
    "아래와 비교했을 때, 빈리스트를 만들어 먼저 vstack or hstack을 하고 싶은 리스트들을 넣어주고\n",
    "그 다음에 vstack or hstack을 해주는 것이 시간을 더 줄일 수 있음. \n",
    "\"\"\""
   ]
  },
  {
   "cell_type": "code",
   "execution_count": 120,
   "id": "8beea70a",
   "metadata": {},
   "outputs": [
    {
     "name": "stdout",
     "output_type": "stream",
     "text": [
      "working time :  0.0050432682037353516\n",
      "(100, 4)\n"
     ]
    }
   ],
   "source": [
    "# 비교 \n",
    "start_time = time()\n",
    "dataset = np.empty((0,4)) \n",
    "for iter in range(100): # 5번 iteration \n",
    "    data_sample = np.random.uniform(0,5, (1,4))\n",
    "    dataset = np.vstack((dataset, data_sample))\n",
    "end_time = time()\n",
    "print('working time : ', end_time - start_time)\n",
    "print(dataset.shape)"
   ]
  },
  {
   "cell_type": "markdown",
   "id": "980954d9",
   "metadata": {},
   "source": [
    "## np.concatenate, np.dstack, np.stack"
   ]
  },
  {
   "cell_type": "code",
   "execution_count": 121,
   "id": "02445814",
   "metadata": {},
   "outputs": [],
   "source": [
    "# tensor에 좀더 많이 사용됨\n",
    "# vstack, hstack은 일반적으로 matrices에 많이 사용됨. "
   ]
  },
  {
   "cell_type": "code",
   "execution_count": 122,
   "id": "3124a7ff",
   "metadata": {},
   "outputs": [
    {
     "name": "stdout",
     "output_type": "stream",
     "text": [
      "[7 1 9 9 9 2 8]\n",
      "[7 1 9 9 9 2 8]\n"
     ]
    }
   ],
   "source": [
    "# np.concatenate\n",
    "import numpy as np\n",
    "a = np.random.randint(0,10,(3,))\n",
    "b = np.random.randint(0,10,(4,))\n",
    "\n",
    "concat = np.concatenate([a,b])\n",
    "concat0 = np.concatenate([a,b], axis=0)\n",
    "print(concat)\n",
    "print(concat0)"
   ]
  },
  {
   "cell_type": "code",
   "execution_count": 123,
   "id": "dffba770",
   "metadata": {},
   "outputs": [
    {
     "name": "stdout",
     "output_type": "stream",
     "text": [
      "[2 9 0 3 6 1 0 6 3 0 9 5]\n"
     ]
    }
   ],
   "source": [
    "import numpy as np\n",
    "a = np.random.randint(0,10,(3,))\n",
    "b = np.random.randint(0,10,(4,))\n",
    "c = np.random.randint(0,10,(5,))\n",
    "\n",
    "concat = np.concatenate([a,b,c], axis=0)\n",
    "print(concat)\n"
   ]
  },
  {
   "cell_type": "code",
   "execution_count": 124,
   "id": "d9b16fb8",
   "metadata": {},
   "outputs": [
    {
     "name": "stdout",
     "output_type": "stream",
     "text": [
      "[[7 1 0]\n",
      " [2 5 2]]\n",
      "[[7 1 0 2 5 2]]\n",
      "[[7 1 0 2 5 2]]\n"
     ]
    }
   ],
   "source": [
    "# 간단한 연산의 경우에는 np.concatenate가 아닌 np.hstack, np.vstack을 더 사용해라\n",
    "a = np.random.randint(0,10,(1,3))\n",
    "b = np.random.randint(0,10,(1,3))\n",
    "\n",
    "axis0 = np.concatenate([a,b], axis=0)\n",
    "axis1 = np.concatenate([a,b], axis=1)\n",
    "axis_n1 = np.concatenate([a,b], axis=-1)\n",
    "\n",
    "print(axis0, axis1, axis_n1, sep='\\n')"
   ]
  },
  {
   "cell_type": "code",
   "execution_count": 127,
   "id": "44b48e5d",
   "metadata": {},
   "outputs": [
    {
     "data": {
      "text/plain": [
       "array([[5, 3, 6, 9, 1, 8],\n",
       "       [8, 8, 9, 3, 0, 8],\n",
       "       [1, 7, 2, 1, 6, 6]])"
      ]
     },
     "execution_count": 127,
     "metadata": {},
     "output_type": "execute_result"
    }
   ],
   "source": [
    "a = np.random.randint(0,10,(3,4)) # row의 개수가 같음. \n",
    "b = np.random.randint(0,10,(3,2))\n",
    "\n",
    "np.concatenate([a,b], axis=1) # axis=0으로 안됨. "
   ]
  },
  {
   "cell_type": "code",
   "execution_count": 129,
   "id": "089c58c3",
   "metadata": {
    "scrolled": true
   },
   "outputs": [
    {
     "data": {
      "text/plain": [
       "array([[[5, 9, 5, 6, 0],\n",
       "        [1, 0, 4, 7, 0],\n",
       "        [7, 2, 7, 7, 3],\n",
       "        [2, 4, 1, 2, 9]],\n",
       "\n",
       "       [[9, 3, 8, 8, 7],\n",
       "        [2, 4, 3, 6, 6],\n",
       "        [0, 5, 1, 5, 4],\n",
       "        [0, 2, 9, 5, 1]],\n",
       "\n",
       "       [[5, 3, 0, 5, 3],\n",
       "        [9, 2, 1, 6, 2],\n",
       "        [5, 1, 8, 0, 6],\n",
       "        [1, 9, 4, 9, 3]],\n",
       "\n",
       "       [[7, 0, 0, 9, 0],\n",
       "        [1, 0, 3, 5, 7],\n",
       "        [2, 3, 9, 1, 3],\n",
       "        [7, 7, 0, 5, 8]],\n",
       "\n",
       "       [[0, 1, 7, 9, 3],\n",
       "        [7, 4, 4, 8, 3],\n",
       "        [8, 6, 1, 5, 7],\n",
       "        [8, 2, 3, 1, 3]],\n",
       "\n",
       "       [[8, 1, 5, 3, 8],\n",
       "        [8, 0, 3, 4, 6],\n",
       "        [4, 9, 2, 9, 9],\n",
       "        [2, 1, 7, 0, 9]],\n",
       "\n",
       "       [[8, 6, 3, 5, 0],\n",
       "        [7, 1, 2, 2, 2],\n",
       "        [4, 8, 5, 7, 5],\n",
       "        [2, 2, 5, 5, 7]],\n",
       "\n",
       "       [[7, 1, 8, 3, 4],\n",
       "        [8, 6, 4, 8, 4],\n",
       "        [5, 8, 8, 8, 1],\n",
       "        [3, 0, 3, 1, 2]],\n",
       "\n",
       "       [[2, 6, 1, 9, 1],\n",
       "        [2, 4, 6, 6, 0],\n",
       "        [1, 5, 4, 6, 6],\n",
       "        [2, 2, 5, 4, 8]],\n",
       "\n",
       "       [[3, 5, 9, 3, 0],\n",
       "        [0, 8, 7, 3, 2],\n",
       "        [0, 1, 1, 3, 0],\n",
       "        [3, 3, 7, 1, 4]],\n",
       "\n",
       "       [[7, 9, 1, 8, 9],\n",
       "        [7, 8, 7, 9, 8],\n",
       "        [1, 6, 4, 4, 1],\n",
       "        [7, 4, 7, 4, 1]],\n",
       "\n",
       "       [[2, 7, 1, 9, 7],\n",
       "        [7, 5, 1, 6, 1],\n",
       "        [9, 9, 4, 4, 1],\n",
       "        [8, 0, 6, 3, 3]],\n",
       "\n",
       "       [[5, 8, 9, 5, 5],\n",
       "        [6, 7, 6, 9, 8],\n",
       "        [1, 5, 2, 6, 5],\n",
       "        [4, 4, 4, 3, 5]]])"
      ]
     },
     "execution_count": 129,
     "metadata": {},
     "output_type": "execute_result"
    }
   ],
   "source": [
    "# np.concatenate\n",
    "import numpy as np\n",
    "a = np.random.randint(0,10,(3,4,5))\n",
    "b = np.random.randint(0,10,(10,4,5))\n",
    "concat0 = np.concatenate([a,b], axis=0)\n",
    "concat0"
   ]
  },
  {
   "cell_type": "code",
   "execution_count": 131,
   "id": "8397d88d",
   "metadata": {},
   "outputs": [
    {
     "name": "stdout",
     "output_type": "stream",
     "text": [
      "(1, 400)\n"
     ]
    }
   ],
   "source": [
    "# list에 append해주는 것이 연산 속도가 더 빠름\n",
    "dataset_tmp = list()\n",
    "for _ in range(100):\n",
    "    data_sample = np.random.uniform(0,5,(1,4))\n",
    "    dataset_tmp.append(data_sample)\n",
    "    \n",
    "concat = np.concatenate(dataset_tmp, axis=1)\n",
    "print(concat.shape)"
   ]
  },
  {
   "cell_type": "code",
   "execution_count": 134,
   "id": "b817a54d",
   "metadata": {
    "scrolled": true
   },
   "outputs": [
    {
     "data": {
      "text/plain": [
       "(100, 200, 3)"
      ]
     },
     "execution_count": 134,
     "metadata": {},
     "output_type": "execute_result"
    }
   ],
   "source": [
    "# 새로운 차원을 만들면서 스택\n",
    "# 제일 안쪽 차원을 기준으로 \n",
    "R = np.random.randint(0,10,(100,200))\n",
    "G = np.random.randint(0,10, size=R.shape)\n",
    "B = np.random.randint(0,10, size=R.shape)\n",
    "\n",
    "image = np.dstack([R,G,B]) # dimension stack \n",
    "image.shape"
   ]
  },
  {
   "cell_type": "code",
   "execution_count": 135,
   "id": "cda40367",
   "metadata": {},
   "outputs": [
    {
     "data": {
      "text/plain": [
       "(100, 200, 9)"
      ]
     },
     "execution_count": 135,
     "metadata": {},
     "output_type": "execute_result"
    }
   ],
   "source": [
    "a1 = np.random.randint(0,10,(100,200,3))\n",
    "a2 = np.random.randint(0,10,(100,200,3))\n",
    "a3 = np.random.randint(0,10,(100,200,3))\n",
    "\n",
    "d = np.dstack([a1,a2,a3])\n",
    "d.shape\n"
   ]
  },
  {
   "cell_type": "code",
   "execution_count": 139,
   "id": "cebfe63c",
   "metadata": {},
   "outputs": [
    {
     "name": "stdout",
     "output_type": "stream",
     "text": [
      "(3, 100, 200)\n",
      "(3, 100, 200, 300)\n",
      "-----------------------------------------------------------------\n",
      "(100, 3, 200, 300)\n"
     ]
    }
   ],
   "source": [
    "# np.stack\n",
    "# 새로운 차원을 만들면서 stack\n",
    "\n",
    "R = np.random.randint(0,10,(100,200))\n",
    "G = np.random.randint(0,10, size=R.shape)\n",
    "B = np.random.randint(0,10, size=R.shape)\n",
    "\n",
    "print(np.stack([R,G,B]).shape)\n",
    "\n",
    "\n",
    "R = np.random.randint(0,10,(100,200, 300))\n",
    "G = np.random.randint(0,10, size=R.shape)\n",
    "B = np.random.randint(0,10, size=R.shape)\n",
    "\n",
    "print(np.stack([R,G,B]).shape)\n",
    "\n",
    "# np.dstack보다 더 general하게 사용가능\n",
    "R = np.random.randint(0,10,(100,200, 300))\n",
    "G = np.random.randint(0,10, size=R.shape)\n",
    "B = np.random.randint(0,10, size=R.shape)\n",
    "print('-'*65)\n",
    "print(np.stack([R,G,B], axis=1).shape)\n"
   ]
  },
  {
   "cell_type": "code",
   "execution_count": null,
   "id": "e9b67d24",
   "metadata": {},
   "outputs": [],
   "source": []
  },
  {
   "cell_type": "code",
   "execution_count": null,
   "id": "305d7ea8",
   "metadata": {},
   "outputs": [],
   "source": []
  },
  {
   "cell_type": "code",
   "execution_count": null,
   "id": "b09882db",
   "metadata": {},
   "outputs": [],
   "source": []
  },
  {
   "cell_type": "code",
   "execution_count": null,
   "id": "5aaef8ae",
   "metadata": {},
   "outputs": [],
   "source": []
  },
  {
   "cell_type": "code",
   "execution_count": null,
   "id": "c012fc8e",
   "metadata": {},
   "outputs": [],
   "source": []
  },
  {
   "cell_type": "code",
   "execution_count": null,
   "id": "290e7dd4",
   "metadata": {},
   "outputs": [],
   "source": []
  },
  {
   "cell_type": "code",
   "execution_count": null,
   "id": "bf49b496",
   "metadata": {},
   "outputs": [],
   "source": []
  },
  {
   "cell_type": "code",
   "execution_count": null,
   "id": "eeffb6bf",
   "metadata": {},
   "outputs": [],
   "source": []
  },
  {
   "cell_type": "code",
   "execution_count": null,
   "id": "4d2b4b59",
   "metadata": {},
   "outputs": [],
   "source": []
  },
  {
   "cell_type": "code",
   "execution_count": null,
   "id": "01c4b37a",
   "metadata": {},
   "outputs": [],
   "source": []
  },
  {
   "cell_type": "code",
   "execution_count": null,
   "id": "abcbb95a",
   "metadata": {},
   "outputs": [],
   "source": []
  },
  {
   "cell_type": "code",
   "execution_count": null,
   "id": "c5511f22",
   "metadata": {},
   "outputs": [],
   "source": []
  },
  {
   "cell_type": "code",
   "execution_count": null,
   "id": "cd57bdee",
   "metadata": {},
   "outputs": [],
   "source": []
  },
  {
   "cell_type": "code",
   "execution_count": null,
   "id": "da3e9c1c",
   "metadata": {},
   "outputs": [],
   "source": []
  },
  {
   "cell_type": "code",
   "execution_count": null,
   "id": "4e021fa0",
   "metadata": {},
   "outputs": [],
   "source": []
  },
  {
   "cell_type": "code",
   "execution_count": null,
   "id": "17d94461",
   "metadata": {},
   "outputs": [],
   "source": []
  },
  {
   "cell_type": "code",
   "execution_count": null,
   "id": "9aa3263c",
   "metadata": {},
   "outputs": [],
   "source": []
  },
  {
   "cell_type": "code",
   "execution_count": null,
   "id": "0bae276e",
   "metadata": {},
   "outputs": [],
   "source": []
  },
  {
   "cell_type": "code",
   "execution_count": null,
   "id": "d5263559",
   "metadata": {},
   "outputs": [],
   "source": []
  },
  {
   "cell_type": "code",
   "execution_count": null,
   "id": "57ec4c4f",
   "metadata": {},
   "outputs": [],
   "source": []
  },
  {
   "cell_type": "code",
   "execution_count": null,
   "id": "1d01ffd9",
   "metadata": {},
   "outputs": [],
   "source": []
  },
  {
   "cell_type": "code",
   "execution_count": null,
   "id": "5973f07f",
   "metadata": {},
   "outputs": [],
   "source": []
  },
  {
   "cell_type": "code",
   "execution_count": null,
   "id": "d0fbd47f",
   "metadata": {},
   "outputs": [],
   "source": []
  },
  {
   "cell_type": "code",
   "execution_count": null,
   "id": "7236851e",
   "metadata": {},
   "outputs": [],
   "source": []
  },
  {
   "cell_type": "code",
   "execution_count": null,
   "id": "43e48fa8",
   "metadata": {},
   "outputs": [],
   "source": []
  },
  {
   "cell_type": "code",
   "execution_count": null,
   "id": "b4aa2a86",
   "metadata": {},
   "outputs": [],
   "source": []
  },
  {
   "cell_type": "code",
   "execution_count": null,
   "id": "420cb578",
   "metadata": {},
   "outputs": [],
   "source": []
  },
  {
   "cell_type": "code",
   "execution_count": null,
   "id": "55ad65ed",
   "metadata": {},
   "outputs": [],
   "source": []
  },
  {
   "cell_type": "code",
   "execution_count": null,
   "id": "cc5be959",
   "metadata": {},
   "outputs": [],
   "source": []
  }
 ],
 "metadata": {
  "kernelspec": {
   "display_name": "Python 3 (ipykernel)",
   "language": "python",
   "name": "python3"
  },
  "language_info": {
   "codemirror_mode": {
    "name": "ipython",
    "version": 3
   },
   "file_extension": ".py",
   "mimetype": "text/x-python",
   "name": "python",
   "nbconvert_exporter": "python",
   "pygments_lexer": "ipython3",
   "version": "3.9.16"
  },
  "toc": {
   "base_numbering": 1,
   "nav_menu": {},
   "number_sections": true,
   "sideBar": true,
   "skip_h1_title": false,
   "title_cell": "Table of Contents",
   "title_sidebar": "Contents",
   "toc_cell": false,
   "toc_position": {},
   "toc_section_display": true,
   "toc_window_display": false
  },
  "varInspector": {
   "cols": {
    "lenName": 16,
    "lenType": 16,
    "lenVar": 40
   },
   "kernels_config": {
    "python": {
     "delete_cmd_postfix": "",
     "delete_cmd_prefix": "del ",
     "library": "var_list.py",
     "varRefreshCmd": "print(var_dic_list())"
    },
    "r": {
     "delete_cmd_postfix": ") ",
     "delete_cmd_prefix": "rm(",
     "library": "var_list.r",
     "varRefreshCmd": "cat(var_dic_list()) "
    }
   },
   "types_to_exclude": [
    "module",
    "function",
    "builtin_function_or_method",
    "instance",
    "_Feature"
   ],
   "window_display": false
  }
 },
 "nbformat": 4,
 "nbformat_minor": 5
}
