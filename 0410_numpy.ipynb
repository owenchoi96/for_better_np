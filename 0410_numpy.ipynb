{
 "cells": [
  {
   "cell_type": "markdown",
   "id": "c356d0d2",
   "metadata": {},
   "source": [
    "***lecture 1***"
   ]
  },
  {
   "cell_type": "code",
   "execution_count": 1,
   "id": "949b7f16",
   "metadata": {},
   "outputs": [
    {
     "name": "stdout",
     "output_type": "stream",
     "text": [
      "[1, 2, 3, 4]\n"
     ]
    }
   ],
   "source": [
    "# Object = Data + Methods \n",
    "# 리스트도 object의 타입 중 하나\n",
    "# a는 이제 리스트 오브젝트\n",
    "\n",
    "a = [1, 2, 3] # a는 object, 1, 2, 3은 data ==> instantiate a list \n",
    "a.append(4) # 4를 추가해줄 때 append라는 method 사용 ==> 기능을 사용할 때 . 으로 접근\n",
    "print(a)"
   ]
  },
  {
   "cell_type": "code",
   "execution_count": 12,
   "id": "dd67d3d9",
   "metadata": {
    "scrolled": true
   },
   "outputs": [
    {
     "data": {
      "text/plain": [
       "['__add__',\n",
       " '__class__',\n",
       " '__class_getitem__',\n",
       " '__contains__',\n",
       " '__delattr__',\n",
       " '__delitem__',\n",
       " '__dir__',\n",
       " '__doc__',\n",
       " '__eq__',\n",
       " '__format__',\n",
       " '__ge__',\n",
       " '__getattribute__',\n",
       " '__getitem__',\n",
       " '__gt__',\n",
       " '__hash__',\n",
       " '__iadd__',\n",
       " '__imul__',\n",
       " '__init__',\n",
       " '__init_subclass__',\n",
       " '__iter__',\n",
       " '__le__',\n",
       " '__len__',\n",
       " '__lt__',\n",
       " '__mul__',\n",
       " '__ne__',\n",
       " '__new__',\n",
       " '__reduce__',\n",
       " '__reduce_ex__',\n",
       " '__repr__',\n",
       " '__reversed__',\n",
       " '__rmul__',\n",
       " '__setattr__',\n",
       " '__setitem__',\n",
       " '__sizeof__',\n",
       " '__str__',\n",
       " '__subclasshook__',\n",
       " 'append',\n",
       " 'clear',\n",
       " 'copy',\n",
       " 'count',\n",
       " 'extend',\n",
       " 'index',\n",
       " 'insert',\n",
       " 'pop',\n",
       " 'remove',\n",
       " 'reverse',\n",
       " 'sort']"
      ]
     },
     "execution_count": 12,
     "metadata": {},
     "output_type": "execute_result"
    }
   ],
   "source": [
    "dir(a)"
   ]
  },
  {
   "cell_type": "code",
   "execution_count": 13,
   "id": "b9fc4ef4",
   "metadata": {
    "scrolled": true
   },
   "outputs": [
    {
     "data": {
      "text/plain": [
       "['__class__',\n",
       " '__class_getitem__',\n",
       " '__contains__',\n",
       " '__delattr__',\n",
       " '__delitem__',\n",
       " '__dir__',\n",
       " '__doc__',\n",
       " '__eq__',\n",
       " '__format__',\n",
       " '__ge__',\n",
       " '__getattribute__',\n",
       " '__getitem__',\n",
       " '__gt__',\n",
       " '__hash__',\n",
       " '__init__',\n",
       " '__init_subclass__',\n",
       " '__ior__',\n",
       " '__iter__',\n",
       " '__le__',\n",
       " '__len__',\n",
       " '__lt__',\n",
       " '__ne__',\n",
       " '__new__',\n",
       " '__or__',\n",
       " '__reduce__',\n",
       " '__reduce_ex__',\n",
       " '__repr__',\n",
       " '__reversed__',\n",
       " '__ror__',\n",
       " '__setattr__',\n",
       " '__setitem__',\n",
       " '__sizeof__',\n",
       " '__str__',\n",
       " '__subclasshook__',\n",
       " 'clear',\n",
       " 'copy',\n",
       " 'fromkeys',\n",
       " 'get',\n",
       " 'items',\n",
       " 'keys',\n",
       " 'pop',\n",
       " 'popitem',\n",
       " 'setdefault',\n",
       " 'update',\n",
       " 'values']"
      ]
     },
     "execution_count": 13,
     "metadata": {},
     "output_type": "execute_result"
    }
   ],
   "source": [
    "b = {\n",
    "    'a' : 0,\n",
    "    'b' : 1, \n",
    "    'c' : 2\n",
    "}\n",
    "dir(b)"
   ]
  },
  {
   "cell_type": "code",
   "execution_count": 18,
   "id": "6c02c5f9",
   "metadata": {
    "scrolled": true
   },
   "outputs": [
    {
     "name": "stdout",
     "output_type": "stream",
     "text": [
      "append\n",
      "clear\n",
      "copy\n",
      "count\n",
      "extend\n",
      "index\n",
      "insert\n",
      "pop\n",
      "remove\n",
      "reverse\n",
      "sort\n"
     ]
    }
   ],
   "source": [
    "for attr in dir(a):\n",
    "    if attr[0] not in ['_']:\n",
    "        print(attr)"
   ]
  },
  {
   "cell_type": "markdown",
   "id": "0519efad",
   "metadata": {},
   "source": [
    "***lecture 2 (special methods)***"
   ]
  },
  {
   "cell_type": "code",
   "execution_count": 23,
   "id": "69c9fc6e",
   "metadata": {
    "scrolled": true
   },
   "outputs": [
    {
     "name": "stdout",
     "output_type": "stream",
     "text": [
      "('__abs__', '__abs__')\n",
      "('__add__', '__add__')\n",
      "('__and__', '__and__')\n",
      "('__bool__', '__bool__')\n",
      "('__ceil__', '__ceil__')\n",
      "('__class__', '__class__')\n",
      "('__delattr__', '__delattr__')\n",
      "('__dir__', '__dir__')\n",
      "('__divmod__', '__divmod__')\n",
      "('__doc__', '__doc__')\n",
      "('__eq__', '__eq__')\n",
      "('__float__', '__float__')\n",
      "('__floor__', '__floor__')\n",
      "('__floordiv__', '__floordiv__')\n",
      "('__format__', '__format__')\n",
      "('__ge__', '__ge__')\n",
      "('__getattribute__', '__getattribute__')\n",
      "('__getnewargs__', '__getnewargs__')\n",
      "('__gt__', '__gt__')\n",
      "('__hash__', '__hash__')\n",
      "('__index__', '__index__')\n",
      "('__init__', '__init__')\n",
      "('__init_subclass__', '__init_subclass__')\n",
      "('__int__', '__int__')\n",
      "('__invert__', '__invert__')\n",
      "('__le__', '__le__')\n",
      "('__lshift__', '__lshift__')\n",
      "('__lt__', '__lt__')\n",
      "('__mod__', '__mod__')\n",
      "('__mul__', '__mul__')\n",
      "('__ne__', '__ne__')\n",
      "('__neg__', '__neg__')\n",
      "('__new__', '__new__')\n",
      "('__or__', '__or__')\n",
      "('__pos__', '__pos__')\n",
      "('__pow__', '__pow__')\n",
      "('__radd__', '__radd__')\n",
      "('__rand__', '__rand__')\n",
      "('__rdivmod__', '__rdivmod__')\n",
      "('__reduce__', '__reduce__')\n",
      "('__reduce_ex__', '__reduce_ex__')\n",
      "('__repr__', '__repr__')\n",
      "('__rfloordiv__', '__rfloordiv__')\n",
      "('__rlshift__', '__rlshift__')\n",
      "('__rmod__', '__rmod__')\n",
      "('__rmul__', '__rmul__')\n",
      "('__ror__', '__ror__')\n",
      "('__round__', '__round__')\n",
      "('__rpow__', '__rpow__')\n",
      "('__rrshift__', '__rrshift__')\n",
      "('__rshift__', '__rshift__')\n",
      "('__rsub__', '__rsub__')\n",
      "('__rtruediv__', '__rtruediv__')\n",
      "('__rxor__', '__rxor__')\n",
      "('__setattr__', '__setattr__')\n",
      "('__sizeof__', '__sizeof__')\n",
      "('__str__', '__str__')\n",
      "('__sub__', '__sub__')\n",
      "('__subclasshook__', '__subclasshook__')\n",
      "('__truediv__', '__truediv__')\n",
      "('__trunc__', '__trunc__')\n",
      "('__xor__', '__xor__')\n",
      "('as_integer_ratio', 'as_integer_ratio')\n",
      "('bit_length', 'bit_length')\n",
      "('conjugate', 'conjugate')\n",
      "('denominator', 'denominator')\n",
      "('from_bytes', 'from_bytes')\n",
      "('imag', 'imag')\n",
      "('numerator', 'numerator')\n",
      "('real', 'real')\n",
      "('to_bytes', 'to_bytes')\n"
     ]
    }
   ],
   "source": [
    "a, b = 10, 20\n",
    "for attr in zip(dir(a), dir(b)):\n",
    "    print(attr)"
   ]
  },
  {
   "cell_type": "code",
   "execution_count": 31,
   "id": "df965696",
   "metadata": {
    "scrolled": true
   },
   "outputs": [
    {
     "name": "stdout",
     "output_type": "stream",
     "text": [
      "<class 'int'>\n",
      "<class 'int'>\n",
      "<class 'int'>\n"
     ]
    }
   ],
   "source": [
    "a, b = 10, 20\n",
    "c = a+b # 점으로 접근하지 않았지만 +를 보고 a,b를 더했구나 라는 것을 알 수 있음. \n",
    "print(type(a))\n",
    "print(type(b))\n",
    "print(type(c)) # 둘을 더해서 새로운 int형 object를 만들어냄. "
   ]
  },
  {
   "cell_type": "code",
   "execution_count": 32,
   "id": "1eed456b",
   "metadata": {},
   "outputs": [
    {
     "name": "stdout",
     "output_type": "stream",
     "text": [
      "30\n",
      "30\n"
     ]
    }
   ],
   "source": [
    "print(a+b)\n",
    "print(a.__add__(b)) # +를 넣어주면 __add__ 스페셜 메소드로 자동으로 바꿔줌 "
   ]
  },
  {
   "cell_type": "code",
   "execution_count": 35,
   "id": "c44dc5aa",
   "metadata": {},
   "outputs": [
    {
     "name": "stdout",
     "output_type": "stream",
     "text": [
      "3\n",
      "3\n"
     ]
    }
   ],
   "source": [
    "a = [1,2,3]\n",
    "print(len(a))\n",
    "print(a.__len__()) # 스페셜 메소드 \n",
    "                        # 하지만 이런 방식보다 위의 방식이 더 쉬움\n",
    "                        # 파이썬이 알아서 바꿔줌. \n",
    "                        # 사람이 더 사용하기 쉬운 기호를 사용하게 해줌. "
   ]
  },
  {
   "cell_type": "code",
   "execution_count": 37,
   "id": "882dec42",
   "metadata": {},
   "outputs": [
    {
     "name": "stdout",
     "output_type": "stream",
     "text": [
      "2 2\n"
     ]
    }
   ],
   "source": [
    "a,b = 4,2\n",
    "\n",
    "print(a-b, a.__sub__(b))"
   ]
  },
  {
   "cell_type": "code",
   "execution_count": 41,
   "id": "bbfbd023",
   "metadata": {},
   "outputs": [
    {
     "name": "stdout",
     "output_type": "stream",
     "text": [
      "26.2\n",
      "NotImplemented\n"
     ]
    }
   ],
   "source": [
    "a,b,c,d,e = 1,2,3,4,5\n",
    "result = (a+b)**c - (d/e)\n",
    "# -------------------------\n",
    "result_01 = ((a.__add__(b)).__pow__(c)).__sub__(d.__truediv__(e))\n",
    "\n",
    "print(result)\n",
    "print(result_01)"
   ]
  },
  {
   "cell_type": "code",
   "execution_count": 43,
   "id": "ed9f3922",
   "metadata": {},
   "outputs": [
    {
     "name": "stdout",
     "output_type": "stream",
     "text": [
      "30 200\n"
     ]
    }
   ],
   "source": [
    "a,b = 10,20\n",
    "print(a+b, a*b)"
   ]
  },
  {
   "cell_type": "code",
   "execution_count": 44,
   "id": "b270e79d",
   "metadata": {},
   "outputs": [
    {
     "name": "stdout",
     "output_type": "stream",
     "text": [
      "[1, 2, 3, 4, 5, 6]\n",
      "[1, 2, 3, 1, 2, 3, 1, 2, 3]\n"
     ]
    }
   ],
   "source": [
    "list1, list2 = [1,2,3], [4,5,6]\n",
    "print(list1 + list2)\n",
    "print(3*list1)"
   ]
  },
  {
   "cell_type": "code",
   "execution_count": 50,
   "id": "0b502824",
   "metadata": {},
   "outputs": [
    {
     "name": "stdout",
     "output_type": "stream",
     "text": [
      "[1, 2, 3, 4, 5, 6]\n",
      "[5 7 9]\n"
     ]
    }
   ],
   "source": [
    "import numpy as np\n",
    "a_list = [1,2,3]\n",
    "b_list = [4,5,6]\n",
    "\n",
    "a_np = np.array(a_list)\n",
    "b_np = np.array(b_list)\n",
    "\n",
    "print(a_list + b_list)\n",
    "print(a_np + b_np)"
   ]
  },
  {
   "cell_type": "code",
   "execution_count": null,
   "id": "d4179cab",
   "metadata": {},
   "outputs": [],
   "source": []
  },
  {
   "cell_type": "markdown",
   "id": "35c11da0",
   "metadata": {},
   "source": [
    "***Lecture 3 (ndarray)***"
   ]
  },
  {
   "cell_type": "code",
   "execution_count": 52,
   "id": "24858d09",
   "metadata": {},
   "outputs": [
    {
     "name": "stdout",
     "output_type": "stream",
     "text": [
      "<module 'numpy' from '/Users/wonbinchoi/opt/anaconda3/lib/python3.9/site-packages/numpy/__init__.py'>\n"
     ]
    }
   ],
   "source": [
    "import numpy as np\n",
    "print(np)"
   ]
  },
  {
   "cell_type": "code",
   "execution_count": 55,
   "id": "4f540512",
   "metadata": {},
   "outputs": [
    {
     "name": "stdout",
     "output_type": "stream",
     "text": [
      "mean :  30.0\n",
      "variance :  14.142135623730951\n"
     ]
    }
   ],
   "source": [
    "import numpy as np\n",
    "scores = [10,20,30,40,50]\n",
    "print('mean : ', np.mean(scores))\n",
    "print('variance : ', np.std(scores))"
   ]
  },
  {
   "cell_type": "code",
   "execution_count": 61,
   "id": "bbd99c76",
   "metadata": {},
   "outputs": [
    {
     "data": {
      "text/plain": [
       "array([1, 2, 3])"
      ]
     },
     "execution_count": 61,
     "metadata": {},
     "output_type": "execute_result"
    }
   ],
   "source": [
    "import numpy as np\n",
    "a = np.array([1,2,3])\n",
    "a"
   ]
  },
  {
   "cell_type": "code",
   "execution_count": 62,
   "id": "d522811d",
   "metadata": {},
   "outputs": [
    {
     "data": {
      "text/plain": [
       "6"
      ]
     },
     "execution_count": 62,
     "metadata": {},
     "output_type": "execute_result"
    }
   ],
   "source": [
    "import numpy as np\n",
    "a = np.array([4,5,6,10,15,20,30])\n",
    "a.argmax() # index 반환 "
   ]
  },
  {
   "cell_type": "code",
   "execution_count": 67,
   "id": "70bf9fb3",
   "metadata": {},
   "outputs": [
    {
     "data": {
      "text/plain": [
       "array([5, 7, 9])"
      ]
     },
     "execution_count": 67,
     "metadata": {},
     "output_type": "execute_result"
    }
   ],
   "source": [
    "u = [1,2,3]\n",
    "v = [4,5,6]\n",
    "\n",
    "u = np.array(u)\n",
    "v = np.array(v)"
   ]
  },
  {
   "cell_type": "code",
   "execution_count": 69,
   "id": "eda22a33",
   "metadata": {},
   "outputs": [
    {
     "data": {
      "text/plain": [
       "array([[12, 14, 16],\n",
       "       [18, 20, 22],\n",
       "       [24, 26, 28]])"
      ]
     },
     "execution_count": 69,
     "metadata": {},
     "output_type": "execute_result"
    }
   ],
   "source": [
    "M = np.array([[1,2,3],\n",
    "              [4,5,6],\n",
    "              [7,8,9]])\n",
    "N = np.array([[11,12,13],\n",
    "              [14,15,16],\n",
    "              [17,18,19]])\n",
    "M+N # 코드가 훨씬 간편해짐. "
   ]
  },
  {
   "cell_type": "code",
   "execution_count": null,
   "id": "96bea623",
   "metadata": {},
   "outputs": [],
   "source": []
  },
  {
   "cell_type": "markdown",
   "id": "0e0294b0",
   "metadata": {},
   "source": [
    "***Lecture 4(Tensors and ndarrays)***"
   ]
  },
  {
   "cell_type": "code",
   "execution_count": null,
   "id": "c5fa5b72",
   "metadata": {},
   "outputs": [],
   "source": [
    "# (o, n, m)\n",
    "# --> 거시적으로 o개의 ndarray를 가진 ndarrya이다~ 라고 해석하기"
   ]
  },
  {
   "cell_type": "code",
   "execution_count": null,
   "id": "1c4a4d41",
   "metadata": {},
   "outputs": [],
   "source": []
  },
  {
   "cell_type": "markdown",
   "id": "b636e09f",
   "metadata": {},
   "source": [
    "***Lecture 5(making ndarrays)***"
   ]
  },
  {
   "cell_type": "code",
   "execution_count": 70,
   "id": "aa20b848",
   "metadata": {},
   "outputs": [],
   "source": [
    "# ndarray를 만드는 4가지 방법. "
   ]
  },
  {
   "cell_type": "code",
   "execution_count": 78,
   "id": "7bda6316",
   "metadata": {},
   "outputs": [
    {
     "name": "stdout",
     "output_type": "stream",
     "text": [
      "3 -- 3.14\n",
      "<class 'numpy.ndarray'> <class 'numpy.ndarray'>\n"
     ]
    }
   ],
   "source": [
    "import numpy as np\n",
    "# numpy.array(\n",
    "#     object,\n",
    "#     dtype=None,\n",
    "#     copy=True,\n",
    "#     order='K',\n",
    "#     subok=False,\n",
    "#     ndmin=0,\n",
    "#     like=None\n",
    "# )\n",
    "\n",
    "int_py = 3\n",
    "float_py = 3.14\n",
    "\n",
    "int_np = np.array(int_py)\n",
    "float_np = np.array(float_py)\n",
    "\n",
    "print(int_np, float_np, sep=' -- ')\n",
    "print(type(int_np), type(float_np)) # ==> ndarray임"
   ]
  },
  {
   "cell_type": "code",
   "execution_count": 79,
   "id": "e1af4880",
   "metadata": {},
   "outputs": [
    {
     "name": "stdout",
     "output_type": "stream",
     "text": [
      "<class 'numpy.ndarray'>\n"
     ]
    }
   ],
   "source": [
    "import numpy as np\n",
    "vec_py = [1,2,3]\n",
    "vec_np = np.array(vec_py)\n",
    "print(type(vec_np)) # numpy에서 제공해주는 다양한 API를 활용할 준비가 되어있다. "
   ]
  },
  {
   "cell_type": "code",
   "execution_count": 81,
   "id": "ebc6dc7a",
   "metadata": {},
   "outputs": [
    {
     "name": "stdout",
     "output_type": "stream",
     "text": [
      "<class 'numpy.ndarray'>\n",
      "[[1 2 3]\n",
      " [4 5 6]]\n"
     ]
    }
   ],
   "source": [
    "import numpy as np\n",
    "mat_py = [[1,2,3],\n",
    "          [4,5,6]]\n",
    "mat_np = np.array(mat_py)\n",
    "print(type(mat_np)) # 몇차원의 정보없이 ndarray라는 것을 알려줌. \n",
    "print(mat_np)"
   ]
  },
  {
   "cell_type": "code",
   "execution_count": 90,
   "id": "c0668126",
   "metadata": {},
   "outputs": [
    {
     "name": "stdout",
     "output_type": "stream",
     "text": [
      "<class 'numpy.ndarray'>\n",
      "[[[ 1  2  3]\n",
      "  [ 4  5  6]]\n",
      "\n",
      " [[11 12 13]\n",
      "  [14 15 16]]]\n"
     ]
    }
   ],
   "source": [
    "import numpy as np\n",
    "tensor_py = [[[1,2,3],\n",
    "              [4,5,6]],\n",
    "             \n",
    "            [[11,12,13],\n",
    "             [14,15,16]]]\n",
    "tensor_np = np.array(tensor_py)\n",
    "print(type(tensor_np))\n",
    "print(tensor_np)"
   ]
  },
  {
   "cell_type": "code",
   "execution_count": 93,
   "id": "56993f38",
   "metadata": {},
   "outputs": [
    {
     "name": "stdout",
     "output_type": "stream",
     "text": [
      "(3,)\n",
      "(2, 3)\n",
      "(2, 2, 3)\n"
     ]
    }
   ],
   "source": [
    "# shape \n",
    "print(vec_np.shape)\n",
    "print(mat_np.shape)\n",
    "print(tensor_np.shape)"
   ]
  },
  {
   "cell_type": "code",
   "execution_count": null,
   "id": "e161c40d",
   "metadata": {},
   "outputs": [],
   "source": []
  },
  {
   "cell_type": "markdown",
   "id": "d1dc5448",
   "metadata": {},
   "source": [
    "***Lecture 6 (정해진 shape으로 ndarray 만들기)***"
   ]
  },
  {
   "cell_type": "code",
   "execution_count": 95,
   "id": "bc6070d7",
   "metadata": {},
   "outputs": [
    {
     "data": {
      "text/plain": [
       "array([[0., 0., 0., 0., 0., 0., 0., 0., 0., 0.],\n",
       "       [0., 0., 0., 0., 0., 0., 0., 0., 0., 0.],\n",
       "       [0., 0., 0., 0., 0., 0., 0., 0., 0., 0.],\n",
       "       [0., 0., 0., 0., 0., 0., 0., 0., 0., 0.],\n",
       "       [0., 0., 0., 0., 0., 0., 0., 0., 0., 0.],\n",
       "       [0., 0., 0., 0., 0., 0., 0., 0., 0., 0.],\n",
       "       [0., 0., 0., 0., 0., 0., 0., 0., 0., 0.],\n",
       "       [0., 0., 0., 0., 0., 0., 0., 0., 0., 0.],\n",
       "       [0., 0., 0., 0., 0., 0., 0., 0., 0., 0.],\n",
       "       [0., 0., 0., 0., 0., 0., 0., 0., 0., 0.]])"
      ]
     },
     "execution_count": 95,
     "metadata": {},
     "output_type": "execute_result"
    }
   ],
   "source": [
    "import numpy as np\n",
    "np.zeros(shape=(10,10)) "
   ]
  },
  {
   "cell_type": "code",
   "execution_count": 98,
   "id": "c2bd9c0c",
   "metadata": {},
   "outputs": [
    {
     "data": {
      "text/plain": [
       "[[0, 0, 0, 0, 0, 0, 0, 0, 0, 0],\n",
       " [0, 0, 0, 0, 0, 0, 0, 0, 0, 0],\n",
       " [0, 0, 0, 0, 0, 0, 0, 0, 0, 0],\n",
       " [0, 0, 0, 0, 0, 0, 0, 0, 0, 0],\n",
       " [0, 0, 0, 0, 0, 0, 0, 0, 0, 0],\n",
       " [0, 0, 0, 0, 0, 0, 0, 0, 0, 0],\n",
       " [0, 0, 0, 0, 0, 0, 0, 0, 0, 0],\n",
       " [0, 0, 0, 0, 0, 0, 0, 0, 0, 0],\n",
       " [0, 0, 0, 0, 0, 0, 0, 0, 0, 0],\n",
       " [0, 0, 0, 0, 0, 0, 0, 0, 0, 0]]"
      ]
     },
     "execution_count": 98,
     "metadata": {},
     "output_type": "execute_result"
    }
   ],
   "source": [
    "[[0 for _ in range(10)] for _ in range(10)]"
   ]
  },
  {
   "cell_type": "code",
   "execution_count": 100,
   "id": "3fb94867",
   "metadata": {},
   "outputs": [
    {
     "name": "stdout",
     "output_type": "stream",
     "text": [
      "(2, 3)\n",
      "[[0. 0. 0.]\n",
      " [0. 0. 0.]]\n"
     ]
    }
   ],
   "source": [
    "# 데이터를 초기화할 때 가장 많이 쓰이는 방법\n",
    "# 데이터를 초기화하고 내가 원하는 값만 조금씩 바꿔나갈 때 자주 쓰이는 방법\n",
    "import numpy as np\n",
    "# numpy.zeros(\n",
    "#     shape,\n",
    "#     dtype=float,\n",
    "#     order='C',\n",
    "#     like=None\n",
    "# )\n",
    "zero_np = np.zeros(shape=(2,3))\n",
    "print(zero_np.shape)\n",
    "print(zero_np)\n"
   ]
  },
  {
   "cell_type": "code",
   "execution_count": 106,
   "id": "8c0d04c4",
   "metadata": {},
   "outputs": [
    {
     "name": "stdout",
     "output_type": "stream",
     "text": [
      "(2, 3)\n",
      "[[3.14 3.14 3.14]\n",
      " [3.14 3.14 3.14]]\n"
     ]
    }
   ],
   "source": [
    "# np.full\n",
    "# 원하는 값으로 채워주기 \n",
    "# 가독성을 위해 해당 코드를 사용하는 것이 좋음. => np.ones로 만들 수 있어도 가독성을 위해!\n",
    "M = np.full(shape=(2,3), fill_value=3.14)\n",
    "print(M.shape)\n",
    "print(M)"
   ]
  },
  {
   "cell_type": "code",
   "execution_count": 112,
   "id": "10dc1ed4",
   "metadata": {},
   "outputs": [
    {
     "name": "stdout",
     "output_type": "stream",
     "text": [
      "(2, 3)\n",
      "[[0. 0. 0.]\n",
      " [0. 0. 0.]]\n"
     ]
    }
   ],
   "source": [
    "# np.empty\n",
    "# 초기화하는 것이 아니라 위치만 잡아놓는 것 (실무에서는 거의 쓰이지 않는다고 함)\n",
    "# np.zeros는 0으로 초기화한 이후에 사용하는 것. \n",
    "# ==> 메모리에 빈 공간만 만들어놓고 값은 나중에 채워야지. \n",
    "\n",
    "M = np.empty(shape=(2,3))\n",
    "print(M.shape)\n",
    "print(M)"
   ]
  },
  {
   "cell_type": "code",
   "execution_count": 114,
   "id": "2d8e0bc0",
   "metadata": {},
   "outputs": [
    {
     "name": "stdout",
     "output_type": "stream",
     "text": [
      "[[3.14 3.14 3.14]\n",
      " [3.14 3.14 3.14]]\n"
     ]
    }
   ],
   "source": [
    "## from existing ndarrays\n",
    "# numpy.zeros_like\n",
    "# numpy.ones_like\n",
    "# numpy.full_like\n",
    "# numpy.empty_like\n",
    "import numpy as np\n",
    "M = np.full(shape=(2,3), fill_value=3.14)\n",
    "print(M)"
   ]
  },
  {
   "cell_type": "code",
   "execution_count": 118,
   "id": "6d139a3a",
   "metadata": {},
   "outputs": [
    {
     "name": "stdout",
     "output_type": "stream",
     "text": [
      "[[0. 0. 0.]\n",
      " [0. 0. 0.]]\n",
      "\n",
      "[[1. 1. 1.]\n",
      " [1. 1. 1.]]\n",
      "\n",
      "[[100. 100. 100.]\n",
      " [100. 100. 100.]]\n",
      "\n",
      "[[100. 100. 100.]\n",
      " [100. 100. 100.]]\n"
     ]
    }
   ],
   "source": [
    "zeros_like = np.zeros_like(M) # np.zeros(shape=M.shape)\n",
    "ones_like = np.ones_like(M)\n",
    "full_like = np.full_like(M, fill_value=100)\n",
    "empty_like = np.empty_like(M)\n",
    "print(zeros_like, ones_like, full_like, empty_like, sep='\\n\\n')"
   ]
  },
  {
   "cell_type": "code",
   "execution_count": null,
   "id": "3e77b39a",
   "metadata": {},
   "outputs": [],
   "source": []
  },
  {
   "cell_type": "markdown",
   "id": "0208eda4",
   "metadata": {},
   "source": [
    "***Lecture 7 (정해진 간격과 개수로 ndarray 만들기)***"
   ]
  },
  {
   "cell_type": "code",
   "execution_count": 139,
   "id": "978b723e",
   "metadata": {},
   "outputs": [
    {
     "data": {
      "text/plain": [
       "array([[3.14, 0.  , 0.  , 0.  , 0.  ],\n",
       "       [3.14, 3.14, 0.  , 0.  , 0.  ],\n",
       "       [3.14, 3.14, 3.14, 0.  , 0.  ],\n",
       "       [3.14, 3.14, 3.14, 3.14, 0.  ],\n",
       "       [3.14, 3.14, 3.14, 3.14, 3.14]])"
      ]
     },
     "execution_count": 139,
     "metadata": {},
     "output_type": "execute_result"
    }
   ],
   "source": []
  },
  {
   "cell_type": "code",
   "execution_count": null,
   "id": "17abfdd3",
   "metadata": {},
   "outputs": [],
   "source": []
  },
  {
   "cell_type": "code",
   "execution_count": null,
   "id": "692af259",
   "metadata": {},
   "outputs": [],
   "source": []
  },
  {
   "cell_type": "code",
   "execution_count": null,
   "id": "369fef8a",
   "metadata": {},
   "outputs": [],
   "source": []
  },
  {
   "cell_type": "code",
   "execution_count": null,
   "id": "f9ac4729",
   "metadata": {},
   "outputs": [],
   "source": []
  },
  {
   "cell_type": "code",
   "execution_count": null,
   "id": "722f726b",
   "metadata": {},
   "outputs": [],
   "source": []
  },
  {
   "cell_type": "code",
   "execution_count": null,
   "id": "e12cf5d9",
   "metadata": {},
   "outputs": [],
   "source": []
  },
  {
   "cell_type": "code",
   "execution_count": null,
   "id": "14de9d7b",
   "metadata": {},
   "outputs": [],
   "source": []
  },
  {
   "cell_type": "code",
   "execution_count": null,
   "id": "d5ec9c07",
   "metadata": {},
   "outputs": [],
   "source": []
  },
  {
   "cell_type": "code",
   "execution_count": null,
   "id": "b6f3cba0",
   "metadata": {},
   "outputs": [],
   "source": []
  },
  {
   "cell_type": "code",
   "execution_count": null,
   "id": "76604c94",
   "metadata": {},
   "outputs": [],
   "source": []
  }
 ],
 "metadata": {
  "kernelspec": {
   "display_name": "Python 3 (ipykernel)",
   "language": "python",
   "name": "python3"
  },
  "language_info": {
   "codemirror_mode": {
    "name": "ipython",
    "version": 3
   },
   "file_extension": ".py",
   "mimetype": "text/x-python",
   "name": "python",
   "nbconvert_exporter": "python",
   "pygments_lexer": "ipython3",
   "version": "3.9.16"
  },
  "toc": {
   "base_numbering": 1,
   "nav_menu": {},
   "number_sections": true,
   "sideBar": true,
   "skip_h1_title": false,
   "title_cell": "Table of Contents",
   "title_sidebar": "Contents",
   "toc_cell": false,
   "toc_position": {},
   "toc_section_display": true,
   "toc_window_display": false
  },
  "varInspector": {
   "cols": {
    "lenName": 16,
    "lenType": 16,
    "lenVar": 40
   },
   "kernels_config": {
    "python": {
     "delete_cmd_postfix": "",
     "delete_cmd_prefix": "del ",
     "library": "var_list.py",
     "varRefreshCmd": "print(var_dic_list())"
    },
    "r": {
     "delete_cmd_postfix": ") ",
     "delete_cmd_prefix": "rm(",
     "library": "var_list.r",
     "varRefreshCmd": "cat(var_dic_list()) "
    }
   },
   "types_to_exclude": [
    "module",
    "function",
    "builtin_function_or_method",
    "instance",
    "_Feature"
   ],
   "window_display": false
  }
 },
 "nbformat": 4,
 "nbformat_minor": 5
}
