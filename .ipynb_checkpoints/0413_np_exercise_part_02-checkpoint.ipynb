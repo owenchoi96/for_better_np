{
 "cells": [
  {
   "cell_type": "markdown",
   "id": "f858092c",
   "metadata": {},
   "source": [
    "# Calculations of Vectors"
   ]
  },
  {
   "cell_type": "markdown",
   "id": "23f9ad86",
   "metadata": {},
   "source": [
    "## making unit vectors"
   ]
  },
  {
   "cell_type": "code",
   "execution_count": 11,
   "id": "60b45553",
   "metadata": {},
   "outputs": [
    {
     "name": "stdout",
     "output_type": "stream",
     "text": [
      "u :  [9.55 4.24 4.07 2.28]\n",
      "v :  [6.11e+00 4.63e+00 5.83e-03 7.82e+00] \n",
      "\n",
      "\u001b[32mBefore unitization\u001b[0m\n",
      "len of u :  11.44\n",
      "len of v :  10.95\n",
      "\u001b[31mAfter unitization\u001b[0m\n",
      "len of u :  1.0\n",
      "len of v :  1.0\n"
     ]
    }
   ],
   "source": [
    "import numpy as np\n",
    "from termcolor import colored\n",
    "np.set_printoptions(precision=2)\n",
    "\n",
    "# generate test vectors\n",
    "n_element = 4\n",
    "u = np.random.uniform(0,10,(n_element,))\n",
    "v = np.random.uniform(0,10,(n_element,))\n",
    "print('u : ', u)\n",
    "print('v : ', v, '\\n')\n",
    "\n",
    "# calcuate and print the norms\n",
    "u_len = np.sqrt(np.sum(np.square(u)))\n",
    "v_len = np.sqrt(np.sum(np.square(v)))\n",
    "\n",
    "print(colored('Before unitization', 'green'))\n",
    "print('len of u : ', u_len.round(2))\n",
    "print('len of v : ', v_len.round(2))\n",
    "\n",
    "# unitize the vectors\n",
    "u_unit = u/u_len\n",
    "v_unit = v/v_len\n",
    "\n",
    "# calcuate and print the norms\n",
    "u_len = np.sqrt(np.sum(np.square(u_unit)))\n",
    "v_len = np.sqrt(np.sum(np.square(v_unit)))\n",
    "\n",
    "print(colored('After unitization', 'red'))\n",
    "print('len of u : ', u_len.round(2))\n",
    "print('len of v : ', v_len.round(2))"
   ]
  },
  {
   "cell_type": "markdown",
   "id": "c1dd1b38",
   "metadata": {},
   "source": [
    "## making unit vectors(matrix)"
   ]
  },
  {
   "cell_type": "code",
   "execution_count": 22,
   "id": "30c6cff4",
   "metadata": {},
   "outputs": [
    {
     "name": "stdout",
     "output_type": "stream",
     "text": [
      "[[3.29 0.98 0.02 9.16]\n",
      " [5.94 3.25 1.09 1.37]\n",
      " [1.57 3.98 3.37 9.58]] \n",
      "\n",
      "\u001b[32mBefore unitization\u001b[0m\n",
      "len of U :\n",
      " [[ 9.79]\n",
      " [ 7.  ]\n",
      " [11.02]] \n",
      "\n",
      "\u001b[31mBefore unitization\u001b[0m\n",
      "len of U :\n",
      " [[1.]\n",
      " [1.]\n",
      " [1.]]\n"
     ]
    }
   ],
   "source": [
    "import numpy as np\n",
    "from termcolor import colored\n",
    "np.set_printoptions(precision=2)\n",
    "\n",
    "# generate test vectors\n",
    "n_vector, n_element = 3,4\n",
    "U = np.random.uniform(0,10,(n_vector, n_element))\n",
    "print(U, '\\n')\n",
    "\n",
    "# calculate and print the norm\n",
    "U_len = np.sqrt(np.sum(np.square(U), axis=1)).reshape(-1,1) # column_vector로 만들기\n",
    "print(colored('Before unitization', 'green'))\n",
    "print('len of U :\\n', U_len, '\\n')\n",
    "\n",
    "# unitize the vectors\n",
    "U_unit = U/U_len\n",
    "\n",
    "U_len = np.sqrt(np.sum(np.square(U_unit), axis=1)).reshape(-1,1) \n",
    "print(colored('Before unitization', 'red'))\n",
    "print('len of U :\\n', U_len)"
   ]
  },
  {
   "cell_type": "markdown",
   "id": "b1e577ff",
   "metadata": {},
   "source": [
    "## Euclidean Distances"
   ]
  },
  {
   "cell_type": "code",
   "execution_count": 28,
   "id": "853d77f7",
   "metadata": {},
   "outputs": [
    {
     "name": "stdout",
     "output_type": "stream",
     "text": [
      "u shape :  (4,) u :  [5.26 3.11 1.38 9.38]\n",
      "v shape :  (4,) v :  [2.64 2.08 0.91 3.1 ]\n",
      "Euclidean distance :  6.893\n"
     ]
    }
   ],
   "source": [
    "import numpy as np\n",
    "np.set_printoptions(precision=2)\n",
    "\n",
    "# generate test vectors\n",
    "n_element=4\n",
    "u = np.random.uniform(0,10,(n_element,)).astype(np.float32)\n",
    "v = np.random.uniform(0,10,(n_element,)).astype(np.float32)\n",
    "print('u shape : ', u.shape, 'u : ', u)\n",
    "print('v shape : ', v.shape, 'v : ', v)\n",
    "\n",
    "# calcuate and print the Euclidean distance\n",
    "e_dist = np.sqrt(np.sum(np.square(u - v)))\n",
    "print('Euclidean distance : ', e_dist.round(3))"
   ]
  },
  {
   "cell_type": "markdown",
   "id": "1094d47c",
   "metadata": {},
   "source": [
    "***Euclidean Distances(vector-wise)***"
   ]
  },
  {
   "cell_type": "code",
   "execution_count": 36,
   "id": "66940761",
   "metadata": {},
   "outputs": [
    {
     "name": "stdout",
     "output_type": "stream",
     "text": [
      "u shape :  (3, 4) \n",
      " [[7.67 8.07 2.42 1.3 ]\n",
      " [7.03 2.73 0.55 2.4 ]\n",
      " [5.2  6.8  3.36 2.53]]\n",
      "v shape :  (3, 4) \n",
      " [[4.79 5.43 7.25 0.5 ]\n",
      " [4.2  9.84 0.26 2.07]\n",
      " [3.56 1.59 4.53 7.69]]\n",
      "13.208297\n"
     ]
    }
   ],
   "source": [
    "import numpy as np\n",
    "np.set_printoptions(precision=2)\n",
    "\n",
    "# generate test vectors\n",
    "n_vector, n_element= 3, 4\n",
    "U = np.random.uniform(0,10,(n_vector, n_element)).astype(np.float32)\n",
    "V = np.random.uniform(0,10,(n_vector, n_element)).astype(np.float32)\n",
    "print('u shape : ', u.shape, '\\n', u)\n",
    "print('v shape : ', v.shape, '\\n',  v)\n",
    "\n",
    "# calculate and print the Euclidean distances\n",
    "e_dist = np.sqrt(np.sum(np.square(U - V)))\n",
    "print(e_dist)"
   ]
  },
  {
   "cell_type": "markdown",
   "id": "4f5a2daf",
   "metadata": {},
   "source": [
    "***Euclidean Distances(Fully-connected)***"
   ]
  },
  {
   "cell_type": "code",
   "execution_count": 69,
   "id": "152aedef",
   "metadata": {},
   "outputs": [
    {
     "name": "stdout",
     "output_type": "stream",
     "text": [
      "u shape :  (3, 4) \n",
      " [[5.07 4.95 0.17 7.08]\n",
      " [2.67 9.3  1.77 1.45]\n",
      " [9.54 5.76 2.72 6.02]]\n",
      "v shape :  (4, 4) \n",
      " [[0.57 7.63 1.26 6.58]\n",
      " [1.8  3.17 3.26 7.58]\n",
      " [2.63 5.29 8.83 8.78]\n",
      " [1.21 9.63 1.3  5.5 ]]\n",
      "(1, 3, 4) (4, 1, 4)\n",
      "\n",
      " (4, 3)\n",
      "(3, 1, 4) (1, 4, 4)\n",
      "(4, 3)\n",
      "\u001b[31m\n",
      "Are two vectors same?\u001b[0m\n",
      "[[ True  True  True]\n",
      " [ True  True  True]\n",
      " [ True  True  True]\n",
      " [ True  True  True]]\n"
     ]
    }
   ],
   "source": [
    "import numpy as np\n",
    "np.set_printoptions(precision=2)\n",
    "\n",
    "# generate test vectors\n",
    "n_vector1, n_vector2 = 3,4\n",
    "n_element = 4\n",
    "U = np.random.uniform(0,10,(n_vector1, n_element)).astype(np.float32)\n",
    "V = np.random.uniform(0,10,(n_vector2, n_element)).astype(np.float32)\n",
    "print('u shape : ', U.shape, '\\n', U)\n",
    "print('v shape : ', V.shape, '\\n',  V)\n",
    "\n",
    "U_ = np.expand_dims(U, axis=0)\n",
    "V_ = np.expand_dims(V, axis=1)\n",
    "print(U_.shape, V_.shape)\n",
    "\n",
    "# e_dists1\n",
    "e_dists1 = np.square(U_ - V_)\n",
    "e_dists1 = np.sqrt(np.sum(np.square(U_ - V_), axis=-1))\n",
    "\n",
    "print('\\n', e_dists1.shape)\n",
    "\n",
    "\n",
    "# e_dists2\n",
    "\n",
    "U_ = np.expand_dims(U, axis=1)\n",
    "V_ = np.expand_dims(V, axis=0)\n",
    "print(U_.shape, V_.shape)\n",
    "\n",
    "e_dists2 = np.square(U_ - V_)\n",
    "e_dists2 = np.sqrt(np.sum(np.square(U_ - V_), axis=-1))\n",
    "print(e_dists2.T.shape)\n",
    "\n",
    "print(colored('\\nAre two vectors same?', 'red'))\n",
    "print(e_dists1 == e_dists2.T)\n",
    "\n"
   ]
  },
  {
   "cell_type": "markdown",
   "id": "8a99bce1",
   "metadata": {},
   "source": [
    "## Manhattan Distance"
   ]
  },
  {
   "cell_type": "code",
   "execution_count": 113,
   "id": "ed54b9b3",
   "metadata": {},
   "outputs": [
    {
     "name": "stdout",
     "output_type": "stream",
     "text": [
      "u shape :  (4,) u :  [1.55 9.38 2.74 1.79]\n",
      "v shape :  (4,) v :  [2.15 1.95 4.4  8.84]\n",
      "16.73716\n"
     ]
    }
   ],
   "source": [
    "import numpy as np\n",
    "np.set_printoptions(precision=2)\n",
    "\n",
    "# generate test vectors\n",
    "n_element=4\n",
    "u = np.random.uniform(0,10,(n_element,)).astype(np.float32)\n",
    "v = np.random.uniform(0,10,(n_element,)).astype(np.float32)\n",
    "print('u shape : ', u.shape, 'u : ', u)\n",
    "print('v shape : ', v.shape, 'v : ', v)\n",
    "\n",
    "# calculate and print the Manhattan distance\n",
    "m_dists = np.sum(np.abs(u-v))\n",
    "print(m_dists)"
   ]
  },
  {
   "cell_type": "markdown",
   "id": "c4c36261",
   "metadata": {},
   "source": [
    "## Manhattan Distances(Vector-wise)"
   ]
  },
  {
   "cell_type": "code",
   "execution_count": 115,
   "id": "a4c920d8",
   "metadata": {},
   "outputs": [
    {
     "name": "stdout",
     "output_type": "stream",
     "text": [
      "u shape :  (3, 4) u :  [[6.75 1.71 2.66 3.42]\n",
      " [1.92 4.32 7.33 8.38]\n",
      " [4.28 9.25 5.73 6.09]]\n",
      "v shape :  (3, 4) v :  [[3.96 6.48 4.39 6.45]\n",
      " [9.77 4.59 1.35 6.48]\n",
      " [9.26 4.76 9.31 2.21]]\n",
      "45.230125\n"
     ]
    }
   ],
   "source": [
    "import numpy as np\n",
    "np.set_printoptions(precision=2)\n",
    "\n",
    "# generate test vectors\n",
    "n_vector, n_element=3,4\n",
    "u = np.random.uniform(0,10,(n_vector, n_element)).astype(np.float32)\n",
    "v = np.random.uniform(0,10,(n_vector, n_element)).astype(np.float32)\n",
    "print('u shape : ', u.shape, 'u : ', u)\n",
    "print('v shape : ', v.shape, 'v : ', v)\n",
    "\n",
    "# calculate and print the Manhattan distance\n",
    "m_dists = np.sum(np.abs(u-v))\n",
    "print(m_dists)"
   ]
  },
  {
   "cell_type": "markdown",
   "id": "a5a5589d",
   "metadata": {},
   "source": [
    "## Manhattan Distances(Fully-connected)"
   ]
  },
  {
   "cell_type": "code",
   "execution_count": 120,
   "id": "24a718ad",
   "metadata": {},
   "outputs": [
    {
     "name": "stdout",
     "output_type": "stream",
     "text": [
      "u shape :  (3, 4) \n",
      " [[6.7  5.45 7.27 5.14]\n",
      " [8.45 6.02 0.68 1.66]\n",
      " [8.18 1.65 0.31 0.25]]\n",
      "v shape :  (4, 4) \n",
      " [[9.84 7.97 6.3  5.45]\n",
      " [3.32 2.89 9.79 7.11]\n",
      " [3.91 5.1  9.82 1.45]\n",
      " [8.28 9.75 0.09 8.62]]\n",
      "(1, 3, 4) (4, 1, 4)\n",
      "-----------------------------------------------------------------\n",
      "Manhattan_distance :\n",
      " [[ 6.95 12.76 19.17]\n",
      " [10.43 22.82 22.43]\n",
      " [ 9.38 14.81 18.41]\n",
      " [16.55 11.44 16.8 ]]\n"
     ]
    }
   ],
   "source": [
    "import numpy as np\n",
    "np.set_printoptions(precision=2)\n",
    "\n",
    "# generate test vectors\n",
    "n_vector1, n_vector2 = 3,4\n",
    "n_element = 4\n",
    "U = np.random.uniform(0,10,(n_vector1, n_element)).astype(np.float32)\n",
    "V = np.random.uniform(0,10,(n_vector2, n_element)).astype(np.float32)\n",
    "print('u shape : ', U.shape, '\\n', U)\n",
    "print('v shape : ', V.shape, '\\n',  V)\n",
    "\n",
    "U_ = np.expand_dims(U, axis=0)\n",
    "V_ = np.expand_dims(V, axis=1)\n",
    "print(U_.shape, V_.shape)\n",
    "\n",
    "# e_dists1\n",
    "m_dists1 = np.square(U_ - V_)\n",
    "m_dists1 = np.sum(np.abs(U_ - V_), axis=-1)\n",
    "\n",
    "print('-'*65)\n",
    "print('Manhattan_distance :\\n', m_dists1)"
   ]
  },
  {
   "cell_type": "markdown",
   "id": "f834f9ca",
   "metadata": {},
   "source": [
    "## Cosine Similarity"
   ]
  },
  {
   "cell_type": "code",
   "execution_count": 135,
   "id": "f7ba9939",
   "metadata": {},
   "outputs": [
    {
     "name": "stdout",
     "output_type": "stream",
     "text": [
      "u :  [0 1]\n",
      "v :  [1 0] \n",
      "\n",
      "cos value :  0.0\n"
     ]
    }
   ],
   "source": [
    "import numpy as np\n",
    "from termcolor import colored\n",
    "np.set_printoptions(precision=2)\n",
    "\n",
    "# generate test vectors\n",
    "n_element = 4\n",
    "# u = np.random.uniform(0,10,(n_element,))\n",
    "# v = np.random.uniform(0,10,(n_element,))\n",
    "u = np.array([0,1])\n",
    "v = np.array([1,0])\n",
    "\n",
    "print('u : ', u)\n",
    "print('v : ', v, '\\n')\n",
    "\n",
    "# unitize the vectors\n",
    "u_len = np.sqrt(np.sum(np.square(u)))\n",
    "u_unit = u/u_len\n",
    "v_len = np.sqrt(np.sum(np.square(v)))\n",
    "v_unit = v/v_len\n",
    "\n",
    "# dot product\n",
    "cos = np.sum(u_unit * v_unit)\n",
    "print('cos value : ', cos) # 비슷한 방향으로 가고 있음. \n"
   ]
  },
  {
   "cell_type": "markdown",
   "id": "b727eb55",
   "metadata": {},
   "source": [
    "## cosine similaries(vector-wise)"
   ]
  },
  {
   "cell_type": "code",
   "execution_count": 193,
   "id": "92952538",
   "metadata": {},
   "outputs": [
    {
     "name": "stdout",
     "output_type": "stream",
     "text": [
      "[0.72 1.1  1.64]\n"
     ]
    }
   ],
   "source": [
    "import numpy as np\n",
    "np.set_printoptions(precision=2)\n",
    "\n",
    "# generate test vectors\n",
    "n_vector, n_element= 3, 4\n",
    "U = np.random.uniform(0,10,(n_vector, n_element))\n",
    "V = np.random.uniform(0,10,(n_vector, n_element))\n",
    "\n",
    "# calculate and print the Manhattan distance\n",
    "U_norms = np.sqrt(np.sum(np.square(U), axis=1)).reshape((-1,1)) # vector들 마다로 해주기 위해 axis=1\n",
    "U_unit = U/U_norms\n",
    "V_norms = np.sqrt(np.sum(np.square(V), axis=1)).reshape((-1,1))\n",
    "V_unit = U/V_norms\n",
    "\n",
    "# calculate cos similarities\n",
    "sims = np.sum(U_unit * V_unit, axis=1)\n",
    "print(sims)\n"
   ]
  },
  {
   "cell_type": "markdown",
   "id": "f3b99ab9",
   "metadata": {},
   "source": [
    "## cosine simliarities (fully-connected)"
   ]
  },
  {
   "cell_type": "code",
   "execution_count": 201,
   "id": "c6e4f679",
   "metadata": {},
   "outputs": [
    {
     "name": "stdout",
     "output_type": "stream",
     "text": [
      "(1, 3, 4) (4, 1, 4)\n"
     ]
    },
    {
     "data": {
      "text/plain": [
       "array([[0.89, 0.82, 0.72],\n",
       "       [0.62, 0.85, 0.95],\n",
       "       [0.67, 0.72, 0.8 ],\n",
       "       [0.57, 0.57, 0.85]], dtype=float32)"
      ]
     },
     "execution_count": 201,
     "metadata": {},
     "output_type": "execute_result"
    }
   ],
   "source": [
    "import numpy as np\n",
    "np.set_printoptions(precision=2)\n",
    "\n",
    "# generate test vectors\n",
    "n_vector1, n_vector2 = 3,4\n",
    "n_element = 4\n",
    "U = np.random.uniform(0,10,(n_vector1, n_element)).astype(np.float32)\n",
    "V = np.random.uniform(0,10,(n_vector2, n_element)).astype(np.float32)\n",
    "\n",
    "# calculate and print the Manhattan distance\n",
    "U_norms = np.sqrt(np.sum(np.square(U), axis=1)).reshape((-1,1)) # vector들 마다로 해주기 위해 axis=1\n",
    "U_unit = U/U_norms\n",
    "V_norms = np.sqrt(np.sum(np.square(V), axis=1)).reshape((-1,1))\n",
    "V_unit = V/V_norms\n",
    "\n",
    "\n",
    "U_ = np.expand_dims(U_unit, axis=0)\n",
    "V_ = np.expand_dims(V_unit, axis=1)\n",
    "\n",
    "print(U_.shape, V_.shape)\n",
    "\n",
    "sims = np.sum(U_*V_, axis=-1)\n",
    "sims # V1 벡터와 제일 비슷한 것은 U1 "
   ]
  },
  {
   "cell_type": "code",
   "execution_count": 230,
   "id": "e388d386",
   "metadata": {},
   "outputs": [
    {
     "name": "stdout",
     "output_type": "stream",
     "text": [
      "Reinitialized existing Git repository in /Users/wonbinchoi/current_studying/for_better_np/.git/\n",
      "On branch master\n",
      "Your branch is up to date with 'origin/master'.\n",
      "\n",
      "nothing to commit, working tree clean\n",
      "Everything up-to-date\n"
     ]
    }
   ],
   "source": [
    "!git init\n",
    "!git add .\n",
    "!git commit -m \"0413 np exercise part 2 added\"\n",
    "!git push origin master"
   ]
  }
 ],
 "metadata": {
  "kernelspec": {
   "display_name": "Python 3 (ipykernel)",
   "language": "python",
   "name": "python3"
  },
  "language_info": {
   "codemirror_mode": {
    "name": "ipython",
    "version": 3
   },
   "file_extension": ".py",
   "mimetype": "text/x-python",
   "name": "python",
   "nbconvert_exporter": "python",
   "pygments_lexer": "ipython3",
   "version": "3.9.16"
  },
  "toc": {
   "base_numbering": 1,
   "nav_menu": {},
   "number_sections": true,
   "sideBar": true,
   "skip_h1_title": false,
   "title_cell": "Table of Contents",
   "title_sidebar": "Contents",
   "toc_cell": false,
   "toc_position": {},
   "toc_section_display": true,
   "toc_window_display": false
  },
  "varInspector": {
   "cols": {
    "lenName": 16,
    "lenType": 16,
    "lenVar": 40
   },
   "kernels_config": {
    "python": {
     "delete_cmd_postfix": "",
     "delete_cmd_prefix": "del ",
     "library": "var_list.py",
     "varRefreshCmd": "print(var_dic_list())"
    },
    "r": {
     "delete_cmd_postfix": ") ",
     "delete_cmd_prefix": "rm(",
     "library": "var_list.r",
     "varRefreshCmd": "cat(var_dic_list()) "
    }
   },
   "types_to_exclude": [
    "module",
    "function",
    "builtin_function_or_method",
    "instance",
    "_Feature"
   ],
   "window_display": false
  }
 },
 "nbformat": 4,
 "nbformat_minor": 5
}
