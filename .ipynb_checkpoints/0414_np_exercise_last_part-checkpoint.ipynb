{
 "cells": [
  {
   "cell_type": "markdown",
   "id": "0f4f1938",
   "metadata": {},
   "source": [
    "# Accuracies"
   ]
  },
  {
   "cell_type": "markdown",
   "id": "f238347b",
   "metadata": {},
   "source": [
    "## Logit, Prob and Predicted Labels(Binary)"
   ]
  },
  {
   "cell_type": "code",
   "execution_count": 10,
   "id": "6d9657a6",
   "metadata": {},
   "outputs": [
    {
     "name": "stdout",
     "output_type": "stream",
     "text": [
      "\u001b[32m==== one sample ====\u001b[0m\n",
      "logit/prob/pred : [2.87] / [0.95] / [1]\n",
      "logit/prob/pred : [-1.8] / [0.14] / [0]\n",
      "logit/prob/pred : [1.73] / [0.85] / [1]\n",
      "logit/prob/pred : [-1.01] / [0.27] / [0]\n",
      "logit/prob/pred : [2.49] / [0.92] / [1]\n",
      "\u001b[34m\n",
      "==== on samples ====\u001b[0m\n",
      "logit : [-2.53 -1.24 -1.09 -2.63 -0.96  0.64 -1.38 -1.02]\n",
      "prob : [0.07 0.22 0.25 0.07 0.28 0.65 0.2  0.27]\n",
      "pred : [0 0 0 0 0 1 0 0]\n",
      "\n",
      "logit : [ 2.69 -0.22 -2.96 -2.59 -0.29  1.32  1.59  2.61]\n",
      "prob : [0.94 0.45 0.05 0.07 0.43 0.79 0.83 0.93]\n",
      "pred : [1 0 0 0 0 1 1 1]\n",
      "\n",
      "logit : [-1.    2.08 -1.67  1.23  0.1   2.19 -2.76 -2.64]\n",
      "prob : [0.27 0.89 0.16 0.77 0.53 0.9  0.06 0.07]\n",
      "pred : [0 1 0 1 1 1 0 0]\n",
      "\n",
      "logit : [ 1.19 -2.32  2.75 -0.31 -0.93 -1.74 -0.96 -0.53]\n",
      "prob : [0.77 0.09 0.94 0.42 0.28 0.15 0.28 0.37]\n",
      "pred : [1 0 1 0 0 0 0 0]\n",
      "\n",
      "logit : [ 1.57  2.44 -0.33  2.53 -0.83 -1.44 -1.63  2.73]\n",
      "prob : [0.83 0.92 0.42 0.93 0.3  0.19 0.16 0.94]\n",
      "pred : [1 1 0 1 0 0 0 1]\n",
      "\n"
     ]
    }
   ],
   "source": [
    "import numpy as np\n",
    "from termcolor import colored\n",
    "np.set_printoptions(precision=2)\n",
    "import warnings\n",
    "warnings.filterwarnings('ignore')\n",
    "\n",
    "# one sample\n",
    "print(colored('==== one sample ====', 'green'))\n",
    "for _ in range(5):\n",
    "    logit = np.random.uniform(-3,3,1)\n",
    "    prob = 1/(1+np.exp(-logit))  # sigmoid 적용\n",
    "    pred = (prob > .5).astype(np.int) # 임계값 => 0.5 \n",
    "    print(f\"logit/prob/pred : {logit} / {prob} / {pred}\")\n",
    "    \n",
    "# n samples\n",
    "print(colored('\\n==== n samples ====', 'blue'))\n",
    "n = 8\n",
    "for _ in range(5):\n",
    "    logit = np.random.uniform(-3,3,(n,)) # ==> 바뀐 부분 \n",
    "    prob = 1/(1+np.exp(-logit))  # sigmoid 적용\n",
    "    pred = (prob > .5).astype(np.int) # 임계값 => 0.5 \n",
    "    print(f\"logit : {logit}\")\n",
    "    print(f\"prob : {prob}\")\n",
    "    print(f\"pred : {pred}\\n\")      "
   ]
  },
  {
   "cell_type": "markdown",
   "id": "04eaaa23",
   "metadata": {},
   "source": [
    "## Logit, Prob and Predicted Labels(Multi-class)"
   ]
  },
  {
   "cell_type": "code",
   "execution_count": 25,
   "id": "5af0410f",
   "metadata": {},
   "outputs": [
    {
     "name": "stdout",
     "output_type": "stream",
     "text": [
      "\u001b[32m==== one sample ====\u001b[0m\n",
      "logit : [ 1.05  2.36 -0.1  -1.44  2.  ]\n",
      "prob : [0.13 0.48 0.04 0.01 0.34]\n",
      "pred : 1\n",
      "logit : [ 1.79 -2.79  2.95  1.81  0.04]\n",
      "prob : [0.19 0.   0.59 0.19 0.03]\n",
      "pred : 2\n",
      "logit : [-1.36  1.34  1.11 -1.31  1.72]\n",
      "prob : [0.02 0.29 0.23 0.02 0.43]\n",
      "pred : 4\n",
      "\u001b[34m\n",
      "==== n samples ====\u001b[0m\n",
      "logit :\n",
      "[-1.36  1.34  1.11 -1.31  1.72]\n",
      "probs :\n",
      "[[0.37 0.33 0.1  0.04 0.17]\n",
      " [0.01 0.4  0.11 0.06 0.42]\n",
      " [0.03 0.46 0.47 0.02 0.01]\n",
      " [0.35 0.47 0.   0.17 0.  ]\n",
      " [0.03 0.02 0.01 0.07 0.86]\n",
      " [0.12 0.29 0.   0.58 0.01]\n",
      " [0.37 0.07 0.4  0.05 0.11]\n",
      " [0.06 0.   0.38 0.26 0.3 ]]\n",
      "preds :\n",
      "[0 4 2 1 4 3 2 2]\n"
     ]
    }
   ],
   "source": [
    "import numpy as np\n",
    "from termcolor import colored\n",
    "np.set_printoptions(precision=2)\n",
    "import warnings\n",
    "warnings.filterwarnings('ignore')\n",
    "\n",
    "print(colored('==== one sample ====', 'green'))\n",
    "n_class = 5\n",
    "for _ in range(3): # 단순히 새로운 5개의 logit을 받기 위해 반복문을 돌린 것임. \n",
    "    logit = np.random.uniform(-3,3,(n_class,)) # logit vector \n",
    "    prob = np.exp(logit)/np.sum(np.exp(logit))\n",
    "    pred = np.argmax(prob)\n",
    "    print(f\"logit : {logit}\")\n",
    "    print(f\"prob : {prob}\")\n",
    "    print(f\"pred : {pred}\")\n",
    "    \n",
    "    \n",
    "print(colored('\\n==== n samples ====', 'blue'))\n",
    "n, n_class = 8, 5\n",
    "logits = np.random.uniform(-3,3,(n, n_class)) # (8,5) matrix\n",
    "probs = np.exp(logits)/np.sum(np.exp(logits), axis=1, keepdims=1) # axis=1\n",
    "preds = np.argmax(probs, axis=1)\n",
    "\n",
    "print(f\"logit :\\n{logit}\")\n",
    "print(f\"probs :\\n{probs}\")\n",
    "print(f\"preds :\\n{preds}\") # 하나의 레이블로 나타낼 수 있음. "
   ]
  },
  {
   "cell_type": "markdown",
   "id": "ab0c6f10",
   "metadata": {},
   "source": [
    "## binary accuracy"
   ]
  },
  {
   "cell_type": "code",
   "execution_count": 35,
   "id": "61208392",
   "metadata": {},
   "outputs": [
    {
     "name": "stdout",
     "output_type": "stream",
     "text": [
      "pred : [1 0 1 0 0 1 1 0 0 0 0 0 1 0 0 0 1 1 1 1 1 1 1 1 1 0 0 1 1 1 1 0]\n",
      "label : [1 0 0 0 0 0 1 0 0 0 0 1 1 1 1 0 0 1 1 0 0 0 0 1 0 0 0 1 0 1 1 0]\n",
      "accruacy : 0.625\n",
      "\n",
      "pred : [1 1 1 1 0 1 1 1 0 1 0 0 1 0 0 0 0 1 0 0 1 0 1 0 1 1 0 1 0 0 0 0]\n",
      "label : [0 0 0 1 0 0 1 0 0 0 0 0 1 0 0 0 0 1 0 0 1 1 1 1 0 1 0 1 0 0 0 1]\n",
      "accruacy : 0.6875\n",
      "\n",
      "pred : [1 1 1 1 1 0 0 1 0 1 1 1 0 0 1 0 1 0 1 1 1 0 1 1 1 0 0 0 0 1 0 1]\n",
      "label : [0 0 1 0 0 0 1 1 0 1 0 1 1 1 0 0 1 0 1 1 0 0 0 1 0 0 1 1 1 0 1 1]\n",
      "accruacy : 0.46875\n",
      "\n"
     ]
    }
   ],
   "source": [
    "import numpy as np\n",
    "from termcolor import colored\n",
    "np.set_printoptions(precision=2)\n",
    "import warnings\n",
    "warnings.filterwarnings('ignore')\n",
    "\n",
    "iters = 3\n",
    "batch_size = 32\n",
    "for iter_ in range(iters):\n",
    "    logit = np.random.uniform(-3,3,(batch_size,))\n",
    "    label = np.random.randint(0,2,(batch_size,))\n",
    "    \n",
    "    prob = 1/(1+np.exp(-logit))\n",
    "    pred = (prob > .5).astype(np.int)\n",
    "    \n",
    "    print(f\"pred : {pred}\")\n",
    "    print(f\"label : {label}\")\n",
    "    \n",
    "    acc = np.sum(pred == label)/batch_size # batch_size로 나누어줘야지 accuracy가 나옴. \n",
    "    print(f\"accruacy : {acc}\\n\")"
   ]
  },
  {
   "cell_type": "markdown",
   "id": "9a755b9f",
   "metadata": {},
   "source": [
    "## categorial accuracy"
   ]
  },
  {
   "cell_type": "code",
   "execution_count": 44,
   "id": "df6ce1f9",
   "metadata": {},
   "outputs": [
    {
     "name": "stdout",
     "output_type": "stream",
     "text": [
      "preds : [2 3 1 1 0 4 1 4]\n",
      "labels : [2 4 3 1 2 4 4 3]\n",
      "accuracy : 0.375\n"
     ]
    }
   ],
   "source": [
    "import numpy as np\n",
    "from termcolor import colored\n",
    "np.set_printoptions(precision=2)\n",
    "import warnings\n",
    "warnings.filterwarnings('ignore')\n",
    "\n",
    "iters = 3\n",
    "batch_size, n_class = 8, 5\n",
    "\n",
    "for iter_ in range(iters):\n",
    "    logits = np.random.uniform(-3,3,(batch_size, n_class))\n",
    "    labels = np.random.randint(0,n_class, (batch_size, ))\n",
    "    \n",
    "    probs = np.exp(logits)/np.sum(np.exp(logits), axis=1, keepdims=True)\n",
    "    preds = np.argmax(probs, axis=1)\n",
    "    print(f\"preds : {preds}\")\n",
    "    print(f\"labels : {labels}\")\n",
    "    \n",
    "    acc = np.sum(preds == labels) / batch_size\n",
    "    print(f\"accuracy : {acc}\")\n",
    "    break"
   ]
  },
  {
   "cell_type": "markdown",
   "id": "9d2c472f",
   "metadata": {},
   "source": [
    "## top-5 accuracy"
   ]
  },
  {
   "cell_type": "code",
   "execution_count": 65,
   "id": "74276c99",
   "metadata": {},
   "outputs": [
    {
     "name": "stdout",
     "output_type": "stream",
     "text": [
      "top 5 preds :\n",
      "[[6 1 7 3 5]\n",
      " [2 0 3 9 7]\n",
      " [5 8 6 7 0]\n",
      " [8 1 0 4 6]\n",
      " [5 7 2 4 8]\n",
      " [8 3 9 2 4]\n",
      " [0 1 9 4 7]\n",
      " [0 7 9 4 8]]\n",
      "labels : [[8]\n",
      " [3]\n",
      " [8]\n",
      " [3]\n",
      " [7]\n",
      " [6]\n",
      " [2]\n",
      " [7]]\n",
      "accuracy : 0.5\n",
      "top 5 preds :\n",
      "[[4 8 9 3 0]\n",
      " [0 5 4 6 3]\n",
      " [2 0 4 8 7]\n",
      " [6 8 2 1 9]\n",
      " [0 4 1 7 9]\n",
      " [6 2 7 5 9]\n",
      " [0 8 6 1 4]\n",
      " [2 3 5 8 4]]\n",
      "labels : [[2]\n",
      " [0]\n",
      " [7]\n",
      " [8]\n",
      " [0]\n",
      " [7]\n",
      " [9]\n",
      " [3]]\n",
      "accuracy : 0.75\n",
      "top 5 preds :\n",
      "[[6 3 9 0 8]\n",
      " [9 5 3 0 4]\n",
      " [1 0 3 6 8]\n",
      " [9 1 8 6 2]\n",
      " [3 6 0 9 2]\n",
      " [6 9 3 8 7]\n",
      " [4 5 9 1 6]\n",
      " [8 6 2 7 0]]\n",
      "labels : [[7]\n",
      " [9]\n",
      " [6]\n",
      " [9]\n",
      " [0]\n",
      " [9]\n",
      " [5]\n",
      " [8]]\n",
      "accuracy : 0.875\n",
      "top 5 preds :\n",
      "[[4 9 8 2 6]\n",
      " [1 0 5 2 4]\n",
      " [1 6 5 3 8]\n",
      " [6 4 2 0 9]\n",
      " [8 0 2 4 6]\n",
      " [6 0 5 9 4]\n",
      " [2 1 0 3 7]\n",
      " [7 6 2 9 8]]\n",
      "labels : [[3]\n",
      " [9]\n",
      " [1]\n",
      " [2]\n",
      " [9]\n",
      " [9]\n",
      " [3]\n",
      " [7]]\n",
      "accuracy : 0.625\n",
      "top 5 preds :\n",
      "[[1 4 8 7 0]\n",
      " [9 5 1 2 0]\n",
      " [4 5 3 6 0]\n",
      " [7 8 1 4 6]\n",
      " [7 1 3 0 6]\n",
      " [7 5 4 1 0]\n",
      " [3 8 2 0 7]\n",
      " [4 0 3 8 7]]\n",
      "labels : [[4]\n",
      " [7]\n",
      " [9]\n",
      " [2]\n",
      " [6]\n",
      " [4]\n",
      " [5]\n",
      " [8]]\n",
      "accuracy : 0.5\n"
     ]
    }
   ],
   "source": [
    "import numpy as np\n",
    "from termcolor import colored\n",
    "np.set_printoptions(precision=2)\n",
    "import warnings\n",
    "warnings.filterwarnings('ignore')\n",
    "\n",
    "iters = 5\n",
    "batch_size, n_class = 8, 10\n",
    "\n",
    "for iter_ in range(iters):\n",
    "    logits = np.random.uniform(-3,3,(batch_size, n_class))\n",
    "    labels = np.random.randint(0,n_class, (batch_size, ))\n",
    "    \n",
    "    probs = np.exp(logits)/np.sum(np.exp(logits), axis=1, keepdims=True)\n",
    "    preds = np.argsort(probs, axis=1)[:, ::-1]\n",
    "    top5_preds = preds[:, :5] # 최대 5개만 뽑겠다. 로우는 그대로 둠. \n",
    "#     print(f\"probs :\\n{probs}\")\n",
    "#     print(f\"preds :\\n{preds}\")\n",
    "\n",
    "    labels = labels.reshape(-1,1)\n",
    "    print(f\"top 5 preds :\\n{top5_preds}\")\n",
    "    print(f\"labels : {labels}\")\n",
    "    \n",
    "    acc = (top5_preds == labels).sum() / batch_size \n",
    "    print(f\"accuracy : {acc}\")"
   ]
  },
  {
   "cell_type": "code",
   "execution_count": null,
   "id": "15172a68",
   "metadata": {},
   "outputs": [],
   "source": []
  },
  {
   "cell_type": "code",
   "execution_count": null,
   "id": "11a2a59b",
   "metadata": {},
   "outputs": [],
   "source": []
  },
  {
   "cell_type": "code",
   "execution_count": null,
   "id": "a3dbf56b",
   "metadata": {},
   "outputs": [],
   "source": []
  },
  {
   "cell_type": "code",
   "execution_count": null,
   "id": "f4e0b348",
   "metadata": {},
   "outputs": [],
   "source": []
  },
  {
   "cell_type": "code",
   "execution_count": null,
   "id": "eedfd515",
   "metadata": {},
   "outputs": [],
   "source": []
  },
  {
   "cell_type": "code",
   "execution_count": null,
   "id": "57f0cc2a",
   "metadata": {},
   "outputs": [],
   "source": []
  },
  {
   "cell_type": "code",
   "execution_count": null,
   "id": "f4543d61",
   "metadata": {},
   "outputs": [],
   "source": []
  },
  {
   "cell_type": "code",
   "execution_count": null,
   "id": "7064bf5b",
   "metadata": {},
   "outputs": [],
   "source": []
  },
  {
   "cell_type": "code",
   "execution_count": null,
   "id": "b3a9a41a",
   "metadata": {},
   "outputs": [],
   "source": []
  },
  {
   "cell_type": "code",
   "execution_count": null,
   "id": "272dbf29",
   "metadata": {},
   "outputs": [],
   "source": []
  },
  {
   "cell_type": "code",
   "execution_count": null,
   "id": "6bd4f0ea",
   "metadata": {},
   "outputs": [],
   "source": []
  },
  {
   "cell_type": "code",
   "execution_count": null,
   "id": "73c4ed45",
   "metadata": {},
   "outputs": [],
   "source": []
  },
  {
   "cell_type": "code",
   "execution_count": null,
   "id": "2b78ea5b",
   "metadata": {},
   "outputs": [],
   "source": []
  },
  {
   "cell_type": "code",
   "execution_count": null,
   "id": "f01d015f",
   "metadata": {},
   "outputs": [],
   "source": []
  },
  {
   "cell_type": "code",
   "execution_count": null,
   "id": "31b16251",
   "metadata": {},
   "outputs": [],
   "source": []
  },
  {
   "cell_type": "code",
   "execution_count": null,
   "id": "30a52e9b",
   "metadata": {},
   "outputs": [],
   "source": []
  },
  {
   "cell_type": "code",
   "execution_count": null,
   "id": "0f029cce",
   "metadata": {},
   "outputs": [],
   "source": []
  },
  {
   "cell_type": "code",
   "execution_count": null,
   "id": "b3420464",
   "metadata": {},
   "outputs": [],
   "source": []
  },
  {
   "cell_type": "code",
   "execution_count": null,
   "id": "244a5078",
   "metadata": {},
   "outputs": [],
   "source": []
  },
  {
   "cell_type": "code",
   "execution_count": null,
   "id": "d587697a",
   "metadata": {},
   "outputs": [],
   "source": []
  },
  {
   "cell_type": "code",
   "execution_count": null,
   "id": "8461159d",
   "metadata": {},
   "outputs": [],
   "source": []
  },
  {
   "cell_type": "code",
   "execution_count": null,
   "id": "479f941a",
   "metadata": {},
   "outputs": [],
   "source": []
  },
  {
   "cell_type": "code",
   "execution_count": null,
   "id": "b9438c87",
   "metadata": {},
   "outputs": [],
   "source": []
  },
  {
   "cell_type": "code",
   "execution_count": null,
   "id": "687e178b",
   "metadata": {},
   "outputs": [],
   "source": []
  },
  {
   "cell_type": "code",
   "execution_count": null,
   "id": "29954ade",
   "metadata": {},
   "outputs": [],
   "source": []
  },
  {
   "cell_type": "code",
   "execution_count": null,
   "id": "93d85057",
   "metadata": {},
   "outputs": [],
   "source": []
  },
  {
   "cell_type": "code",
   "execution_count": null,
   "id": "0e0d91ca",
   "metadata": {},
   "outputs": [],
   "source": []
  },
  {
   "cell_type": "code",
   "execution_count": null,
   "id": "f9b55df2",
   "metadata": {},
   "outputs": [],
   "source": []
  }
 ],
 "metadata": {
  "kernelspec": {
   "display_name": "Python 3 (ipykernel)",
   "language": "python",
   "name": "python3"
  },
  "language_info": {
   "codemirror_mode": {
    "name": "ipython",
    "version": 3
   },
   "file_extension": ".py",
   "mimetype": "text/x-python",
   "name": "python",
   "nbconvert_exporter": "python",
   "pygments_lexer": "ipython3",
   "version": "3.9.16"
  },
  "toc": {
   "base_numbering": 1,
   "nav_menu": {},
   "number_sections": true,
   "sideBar": true,
   "skip_h1_title": false,
   "title_cell": "Table of Contents",
   "title_sidebar": "Contents",
   "toc_cell": false,
   "toc_position": {},
   "toc_section_display": true,
   "toc_window_display": false
  },
  "varInspector": {
   "cols": {
    "lenName": 16,
    "lenType": 16,
    "lenVar": 40
   },
   "kernels_config": {
    "python": {
     "delete_cmd_postfix": "",
     "delete_cmd_prefix": "del ",
     "library": "var_list.py",
     "varRefreshCmd": "print(var_dic_list())"
    },
    "r": {
     "delete_cmd_postfix": ") ",
     "delete_cmd_prefix": "rm(",
     "library": "var_list.r",
     "varRefreshCmd": "cat(var_dic_list()) "
    }
   },
   "types_to_exclude": [
    "module",
    "function",
    "builtin_function_or_method",
    "instance",
    "_Feature"
   ],
   "window_display": false
  }
 },
 "nbformat": 4,
 "nbformat_minor": 5
}
