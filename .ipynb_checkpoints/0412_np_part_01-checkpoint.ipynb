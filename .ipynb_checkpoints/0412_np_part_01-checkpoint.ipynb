{
 "cells": [
  {
   "cell_type": "markdown",
   "id": "ce43da7f",
   "metadata": {},
   "source": [
    "# 넘파이 API - 합곱차와 통계값"
   ]
  },
  {
   "cell_type": "markdown",
   "id": "6ef97e79",
   "metadata": {},
   "source": [
    "## ndarray의 합곱차 구하기"
   ]
  },
  {
   "cell_type": "code",
   "execution_count": 1,
   "id": "cdb2b8c4",
   "metadata": {},
   "outputs": [
    {
     "name": "stdout",
     "output_type": "stream",
     "text": [
      "[0 1 2 3 4] \n",
      "\n",
      "cumsum :  [ 0  1  3  6 10]\n"
     ]
    }
   ],
   "source": [
    "# numpy.cumsum(a, axis=None, dtype=None, out=None)\n",
    "# ndarray.cumsum(axis=None, dytpe=None, out=None)\n",
    "import numpy as np\n",
    "a = np.arange(5)\n",
    "print(a, '\\n')\n",
    "\n",
    "cumsum = np.cumsum(a)\n",
    "print('cumsum : ', cumsum) # 누적시키면서 구하기 \n",
    "                           # cumsum은 scalar값을 돌려주지 않음. "
   ]
  },
  {
   "cell_type": "code",
   "execution_count": 3,
   "id": "eb311e6d",
   "metadata": {},
   "outputs": [
    {
     "name": "stdout",
     "output_type": "stream",
     "text": [
      "[[0 1 2]\n",
      " [3 4 5]\n",
      " [6 7 8]] \n",
      "\n",
      "cumsum :  [ 0  1  3  6 10 15 21 28 36]\n",
      "cumsum_axis_0 :\n",
      " [[ 0  1  2]\n",
      " [ 3  5  7]\n",
      " [ 9 12 15]]\n",
      "cumsum_axis_1 :\n",
      " [[ 0  1  3]\n",
      " [ 3  7 12]\n",
      " [ 6 13 21]]\n"
     ]
    }
   ],
   "source": [
    "a = np.arange(3*3).reshape(3,3)\n",
    "print(a, '\\n')\n",
    "cumsum=np.cumsum(a)\n",
    "print('cumsum : ', cumsum)\n",
    "cumsum_axis_0 = np.cumsum(a, axis=0)\n",
    "print('cumsum_axis_0 :\\n', cumsum_axis_0)\n",
    "cumsum_axis_1 = np.cumsum(a, axis=1)\n",
    "print('cumsum_axis_1 :\\n', cumsum_axis_1)"
   ]
  },
  {
   "cell_type": "code",
   "execution_count": 7,
   "id": "34365ce0",
   "metadata": {},
   "outputs": [
    {
     "name": "stdout",
     "output_type": "stream",
     "text": [
      "[[ 9 12 15]\n",
      " [ 3  5  7]\n",
      " [ 0  1  2]]\n"
     ]
    }
   ],
   "source": [
    "cumsum = np.cumsum(a, axis=0)[::-1, :] # accumulation의 방향만 바꾸기\n",
    "print(cumsum_axis_0)"
   ]
  },
  {
   "cell_type": "code",
   "execution_count": 22,
   "id": "e8e71090",
   "metadata": {},
   "outputs": [
    {
     "name": "stdout",
     "output_type": "stream",
     "text": [
      "[[ 1  2  3  4]\n",
      " [ 5  6  7  8]\n",
      " [ 9 10 11 12]] \n",
      "\n",
      "479001600\n",
      "[        1         2         6        24       120       720      5040\n",
      "     40320    362880   3628800  39916800 479001600]\n",
      "----------------------------------------\n",
      "[ 45 120 231 384]\n",
      "[[ 45 120 231 384]]\n",
      "[[  1   2   3   4]\n",
      " [  5  12  21  32]\n",
      " [ 45 120 231 384]]\n",
      "----------------------------------------\n",
      "[   24  1680 11880]\n",
      "[[    1     2     6    24]\n",
      " [    5    30   210  1680]\n",
      " [    9    90   990 11880]]\n"
     ]
    }
   ],
   "source": [
    "# product\n",
    "# numpy.product(a, axis=None, dtype=None, out=None, keepdims=)\n",
    "a =np.arange(1,1+12).reshape(3,4)\n",
    "print(a, '\\n')\n",
    "\n",
    "prod = np.prod(a)\n",
    "cumprod = np.cumprod(a)\n",
    "print(prod)\n",
    "print(cumprod)\n",
    "print('-'*40)\n",
    "\n",
    "print(np.prod(a, axis=0)) # (4, )\n",
    "print(np.prod(a, axis=0, keepdims=True)) # (4, 1)\n",
    "print(np.cumprod(a, axis=0)) # (3,4)\n",
    "print('-'*40)\n",
    "\n",
    "print(np.prod(a, axis=1)) # (3, )\n",
    "print(np.cumprod(a, axis=1)) # (3,4)"
   ]
  },
  {
   "cell_type": "code",
   "execution_count": 23,
   "id": "d9976526",
   "metadata": {},
   "outputs": [
    {
     "name": "stdout",
     "output_type": "stream",
     "text": [
      "[4 2 6 0 3] \n",
      "\n",
      "(4,) [-2  4 -6  3]\n"
     ]
    }
   ],
   "source": [
    "# np.diff\n",
    "import numpy as np\n",
    "a = np.random.randint(0,10, (5,))\n",
    "print(a, '\\n')\n",
    "\n",
    "diff = np.diff(a)\n",
    "print(diff.shape, diff) # (4,) a[n+1] - a[n]\n",
    "# 결과가 하나 줄어들게 된다. 혹은 맨 앞에 0을 집어넣어주어 줄어드는 것을 방지한다. "
   ]
  },
  {
   "cell_type": "code",
   "execution_count": 25,
   "id": "e8af8206",
   "metadata": {},
   "outputs": [
    {
     "name": "stdout",
     "output_type": "stream",
     "text": [
      "(4, 4) [[1 7 3 6]\n",
      " [6 3 9 4]\n",
      " [2 5 5 3]\n",
      " [4 2 7 8]]\n",
      "----------------------------------------\n",
      "(3, 4) [[ 5 -4  6 -2]\n",
      " [-4  2 -4 -1]\n",
      " [ 2 -3  2  5]]\n"
     ]
    }
   ],
   "source": [
    "a = np.random.randint(0,10,(4,4))\n",
    "print(a.shape, a)\n",
    "print('-'*40)\n",
    "\n",
    "diff = np.diff(a,axis=0)\n",
    "print(diff.shape, diff) # 컬럼이 하나 줄어들고 행 하나가 줄어들고 "
   ]
  },
  {
   "cell_type": "markdown",
   "id": "76c98422",
   "metadata": {},
   "source": [
    "## statistics"
   ]
  },
  {
   "cell_type": "code",
   "execution_count": 26,
   "id": "9e88d7a1",
   "metadata": {},
   "outputs": [
    {
     "name": "stdout",
     "output_type": "stream",
     "text": [
      "5.066666666666666\n",
      "5.066666666666666\n"
     ]
    }
   ],
   "source": [
    "# np.mean \n",
    "# mean vs. average\n",
    "# average ==> mean보다는 좀더 넓은 의미를 가지고 있음. (무게 중심)\n",
    "# weight(가중치)가 들어간 것이 average \n",
    "# 1 2 3 4 5\n",
    "# .1 .2 .3 .2 .2 => 1 (가중치)\n",
    "# 이렇게 곱하고 더한 것의 평균을 구하는 것이 average\n",
    "\n",
    "import numpy as np\n",
    "np.random.seed(0)\n",
    "\n",
    "x = np.random.randint(1,10,(5,))\n",
    "w = np.array([1,2,3,4,5])\n",
    "\n",
    "print(np.average(x, weights=w))\n",
    "print(np.sum(w*x)/np.sum(w))"
   ]
  },
  {
   "cell_type": "code",
   "execution_count": 31,
   "id": "ea6cc5ad",
   "metadata": {},
   "outputs": [
    {
     "name": "stdout",
     "output_type": "stream",
     "text": [
      "[0 1 2 3 4 5 6 7 8] \n",
      "\n",
      "홀수개 숫자 중간값:  4.0\n",
      "----------------------------------------\n",
      "[0 1 2 3 4 5 6 7 8 9] \n",
      "\n",
      "짝수개 숫자 중간값 :  4.5\n"
     ]
    }
   ],
   "source": [
    "# numpy.median\n",
    "x = np.arange(9)\n",
    "print(x, '\\n')\n",
    "median = np.median(x)\n",
    "print('홀수개 숫자 중간값: ',median)\n",
    "print('-'*40)\n",
    "\n",
    "x = np.arange(10)\n",
    "print(x, '\\n')\n",
    "print('짝수개 숫자 중간값 : ', np.median(x))"
   ]
  },
  {
   "cell_type": "code",
   "execution_count": 34,
   "id": "2e8b21e6",
   "metadata": {},
   "outputs": [
    {
     "name": "stdout",
     "output_type": "stream",
     "text": [
      "4.83 / 5.0\n",
      "14.683168316831683 / 5.0\n"
     ]
    }
   ],
   "source": [
    "x =np.random.randint(1,10,(100,))\n",
    "mean = np.mean(x)\n",
    "median = np.median(x)\n",
    "print(mean,'/', median)\n",
    "\n",
    "x = np.append(x, 1000)\n",
    "print(np.mean(x), '/', np.median(x)) # 중간값은 크게 변하지 않음. "
   ]
  },
  {
   "cell_type": "code",
   "execution_count": 40,
   "id": "514bb83f",
   "metadata": {},
   "outputs": [
    {
     "name": "stdout",
     "output_type": "stream",
     "text": [
      "24.061935154129145 4.905296642826929\n"
     ]
    }
   ],
   "source": [
    "# numpy.var\n",
    "# numpy.std\n",
    "\n",
    "scores = np.random.normal(loc=10, scale=5, size=(100,))\n",
    "var = scores.var() # scale 제곱\n",
    "std = scores.std() # scale\n",
    "print(var, std)"
   ]
  },
  {
   "cell_type": "code",
   "execution_count": 53,
   "id": "7dd40ac5",
   "metadata": {},
   "outputs": [
    {
     "name": "stdout",
     "output_type": "stream",
     "text": [
      "(100, 3) float32\n",
      "means before stdz: [50.14153  60.381104 67.612946]\n",
      "stds before stdz: [2.9854004 4.945724  9.883386 ]\n",
      "----------------------------------------\n",
      "means after stdz:  [2.0495056e-06 3.4332277e-07 6.1392785e-07]\n",
      "stds after stdz:  [0.9999998 0.9999998 1.0000001]\n"
     ]
    }
   ],
   "source": [
    "# standardization\n",
    "import matplotlib.pyplot as plt\n",
    "import seaborn as sns\n",
    "%matplotlib inline\n",
    "\n",
    "means = [50, 60, 70]\n",
    "stds = [3,5,10]\n",
    "n_student, n_class = 100, 3\n",
    "scores = np.random.normal(\n",
    "    loc=means,\n",
    "    scale=stds,\n",
    "    size=(n_student, n_class)\n",
    ")\n",
    "scores = scores.astype(np.float32)\n",
    "print(scores.shape, scores.dtype) # 중간중간에 계속 확인하기 \n",
    "\n",
    "means = scores.mean(axis=0) # (3,) 각 과목별 평균\n",
    "stds = scores.std(axis=0) # (3,) 각 과목별 std\n",
    "\n",
    "print('means before stdz:', means)\n",
    "print('stds before stdz:', stds)\n",
    "print('-'*40)\n",
    "\n",
    "# broadcasting 가능\n",
    "# 아니면 keepdims=True를 넣어주도 됨\n",
    "score_stdz = (scores - means)/stds # standardization\n",
    "means_stdz = score_stdz.mean(axis=0)\n",
    "stds_stdz = score_stdz.std(axis=0)\n",
    "\n",
    "print('means after stdz: ', means_stdz)\n",
    "print('stds after stdz: ', stds_stdz)\n",
    "\n",
    "# sns.displot(scores, kind='kde')"
   ]
  },
  {
   "cell_type": "markdown",
   "id": "c088cb91",
   "metadata": {},
   "source": [
    "## 최댓값, 최솟값"
   ]
  },
  {
   "cell_type": "code",
   "execution_count": 54,
   "id": "7b1d36d0",
   "metadata": {},
   "outputs": [
    {
     "name": "stdout",
     "output_type": "stream",
     "text": [
      "[32 32 28 12 93 74 55 73 49 19] \n",
      "\n",
      "93\n",
      "4\n"
     ]
    }
   ],
   "source": [
    "# numpy.amax\n",
    "# numpy.argmax\n",
    "\n",
    "a = np.random.randint(0,100,(10,))\n",
    "\n",
    "M = np.max(a)\n",
    "M_idx = np.argmax(a)\n",
    "\n",
    "print(a, '\\n')\n",
    "print(M)\n",
    "print(M_idx) # 최댓값의 인덱스 "
   ]
  },
  {
   "cell_type": "code",
   "execution_count": 56,
   "id": "d7d8f9e9",
   "metadata": {},
   "outputs": [
    {
     "name": "stdout",
     "output_type": "stream",
     "text": [
      "max scores :  [57.66335  72.482086 96.00672 ]\n",
      "max indices :  [11 92  2]\n"
     ]
    }
   ],
   "source": [
    "means = [50, 60, 70]\n",
    "stds = [3,5,10]\n",
    "n_student, n_class = 100, 3\n",
    "scores = np.random.normal(\n",
    "    loc=means,\n",
    "    scale=stds,\n",
    "    size=(n_student, n_class)\n",
    ")\n",
    "scores = scores.astype(np.float32)\n",
    "\n",
    "scores_max = np.max(scores, axis=0)\n",
    "scores_max_idx = np.argmax(scores, axis=0) # 최댓값을 맞은 학생의 index \n",
    "\n",
    "print('max scores : ', scores_max)\n",
    "print('max indices : ', scores_max_idx) # 데이터 포인트의 인덱스를 가지고 올 수 있음. "
   ]
  },
  {
   "cell_type": "code",
   "execution_count": 58,
   "id": "742e72eb",
   "metadata": {},
   "outputs": [
    {
     "name": "stdout",
     "output_type": "stream",
     "text": [
      "max scores :  (100,)\n",
      "max indices :  [2 2 2 1 2 1 1 2 2 1 2 2 2 2 2 2 2 2 1 2 2 2 2 2 2 1 2 2 2 1 2 2 2 2 2 1 2\n",
      " 2 2 2 2 2 2 2 2 2 1 2 2 2 2 2 2 2 1 2 2 2 1 2 2 2 2 2 1 2 2 1 1 2 2 2 2 2\n",
      " 2 2 2 1 1 2 1 2 2 1 2 2 2 2 2 1 2 1 2 2 2 2 2 2 2 2]\n"
     ]
    }
   ],
   "source": [
    "means = [50, 60, 70]\n",
    "stds = [3,5,10]\n",
    "n_student, n_class = 100, 3\n",
    "scores = np.random.normal(\n",
    "    loc=means,\n",
    "    scale=stds,\n",
    "    size=(n_student, n_class)\n",
    ")\n",
    "scores = scores.astype(np.float32)\n",
    "\n",
    "scores_max = np.max(scores, axis=1)\n",
    "scores_max_idx = np.argmax(scores, axis=1) # 학생마다 가장 잘본 과목\n",
    "\n",
    "print('max indices : ', scores_max_idx) # 2의 평균이 가장 크기 때문에 2의 값이 가장 많이 나타남.\n"
   ]
  },
  {
   "cell_type": "code",
   "execution_count": 60,
   "id": "90b973b0",
   "metadata": {},
   "outputs": [
    {
     "name": "stdout",
     "output_type": "stream",
     "text": [
      "[1. 1. 1.] [0. 0. 0.]\n"
     ]
    }
   ],
   "source": [
    "# MinMaxNormalization\n",
    "\n",
    "means = [50, 60, 70]\n",
    "stds = [3,5,10]\n",
    "n_student, n_class = 100, 3\n",
    "scores = np.random.normal(\n",
    "    loc=means,\n",
    "    scale=stds,\n",
    "    size=(n_student, n_class)\n",
    ")\n",
    "scores = scores.astype(np.float32)\n",
    "\n",
    "scores_max = np.amax(scores, axis=0)\n",
    "scores_min = np.amin(scores, axis=0)\n",
    "\n",
    "scores_mM_norm = (scores-scores_min)/(scores_max - scores_min)\n",
    "#                 (100,3)  (3,)         (3,)         (3,)\n",
    "\n",
    "scores_max = np.amax(scores_mM_norm, axis=0)\n",
    "scores_min = np.amin(scores_mM_norm, axis=0)\n",
    "print(scores_max, scores_min) # minMax로 해주었을 때의 최소, 최대 결괏값 "
   ]
  },
  {
   "cell_type": "code",
   "execution_count": 64,
   "id": "77cfea30",
   "metadata": {},
   "outputs": [
    {
     "name": "stdout",
     "output_type": "stream",
     "text": [
      "[1 0 3 9 5 5 2 1 7 2]\n",
      "[1 9 4 9 3 7 2 5 8 7]\n",
      "----------------------------------------\n",
      "[1 9 4 9 5 7 2 5 8 7]\n",
      "[1 0 3 9 3 5 2 1 7 2]\n"
     ]
    }
   ],
   "source": [
    "# np.maximum, np.minimum ==> 2개의 array를 비교\n",
    "u = np.random.randint(0,10,(10,))\n",
    "v = np.random.randint(0,10,(10,))\n",
    "print(u)\n",
    "print(v)\n",
    "print('-'*40)\n",
    "\n",
    "maximum = np.maximum(u,v) # 두 array를 비교\n",
    "minimum = np.minimum(u,v)\n",
    "\n",
    "print(maximum)\n",
    "print(minimum)"
   ]
  },
  {
   "cell_type": "code",
   "execution_count": 74,
   "id": "d9b08bd9",
   "metadata": {},
   "outputs": [
    {
     "name": "stdout",
     "output_type": "stream",
     "text": [
      "[3 6 8 2 4 2 6 8 9 9]\n",
      "[4 2 7 9 0 4 4 2 6 4]\n",
      "----------------------------------------\n",
      "maximum array :  [4 6 8 9 4 4 6 8 9 9]\n"
     ]
    }
   ],
   "source": [
    "# 직접 구현 \n",
    "u = np.random.randint(0,10,(10,))\n",
    "v = np.random.randint(0,10,(10,))\n",
    "print(u)\n",
    "print(v)\n",
    "print('-'*40)\n",
    "\n",
    "maximum = np.zeros_like(u)\n",
    "maximum[u>=v] = u[u>=v] # boolean indexing 사용\n",
    "maximum[u<v] = v[u<v]\n",
    "print('maximum array : ', maximum)"
   ]
  },
  {
   "cell_type": "code",
   "execution_count": 78,
   "id": "757889e3",
   "metadata": {},
   "outputs": [
    {
     "name": "stdout",
     "output_type": "stream",
     "text": [
      "[3 4 5 2 7 6 2 9 3 8]\n",
      "[8 3 0 8 9 6 7 4 0 1]\n",
      "----------------------------------------\n",
      "[-100  100  100 -100 -100 -100 -100  100  100  100]\n"
     ]
    }
   ],
   "source": [
    "# u가 더 큰 부분은 100으로 v가 더 큰 부분은 -100으로\n",
    "u = np.random.randint(0,10,(10,))\n",
    "v = np.random.randint(0,10,(10,))\n",
    "print(u)\n",
    "print(v)\n",
    "print('-'*40)\n",
    "\n",
    "up_vals = np.full_like(u, fill_value=100)\n",
    "down_vals = np.full_like(u, fill_value=-100)\n",
    "\n",
    "print(np.where(u>v, up_vals, down_vals)) # 원래는 만족시키는 index만 돌려주지만\n",
    "                                         # 값을 변환할때도 사용이 가능. "
   ]
  },
  {
   "cell_type": "code",
   "execution_count": 80,
   "id": "1dc4d6dc",
   "metadata": {},
   "outputs": [
    {
     "name": "stdout",
     "output_type": "stream",
     "text": [
      "[6 2 4 9 4 0 2 0 9 3]\n",
      "[5 6 4 7 9 9 5 6 7 7]\n",
      "----------------------------------------\n",
      "[6 6 4 9 9 9 5 6 9 7]\n"
     ]
    }
   ],
   "source": [
    "# np.where 활용 \n",
    "# max\n",
    "u = np.random.randint(0,10,(10,))\n",
    "v = np.random.randint(0,10,(10,))\n",
    "print(u)\n",
    "print(v)\n",
    "print('-'*40)\n",
    "\n",
    "print(np.where(u>v, u, v))\n"
   ]
  },
  {
   "cell_type": "code",
   "execution_count": 81,
   "id": "4c8d99d3",
   "metadata": {},
   "outputs": [
    {
     "name": "stdout",
     "output_type": "stream",
     "text": [
      "[4 0 4 7 9 6 3 7 3 8]\n",
      "[3 9 4 9 8 8 1 2 5 5]\n",
      "----------------------------------------\n",
      "[3 0 4 7 8 6 1 2 3 5]\n"
     ]
    }
   ],
   "source": [
    "# np.where 활용 \n",
    "# min\n",
    "u = np.random.randint(0,10,(10,))\n",
    "v = np.random.randint(0,10,(10,))\n",
    "print(u)\n",
    "print(v)\n",
    "print('-'*40)\n",
    "\n",
    "print(np.where(u>v, v, u)) # u, v ==> v, u\n"
   ]
  },
  {
   "cell_type": "code",
   "execution_count": null,
   "id": "3930e7e8",
   "metadata": {},
   "outputs": [],
   "source": []
  },
  {
   "cell_type": "markdown",
   "id": "cf052182",
   "metadata": {},
   "source": [
    "# 넘파이 API - Rounding과 정렬 (중반부)"
   ]
  },
  {
   "cell_type": "markdown",
   "id": "4f6cabd4",
   "metadata": {},
   "source": [
    "## Rounding 함수"
   ]
  },
  {
   "cell_type": "code",
   "execution_count": 87,
   "id": "802bcf16",
   "metadata": {},
   "outputs": [
    {
     "name": "stdout",
     "output_type": "stream",
     "text": [
      "[-1.1  -2.7  -4.04  0.71 -2.83]\n",
      "[-1.1  -2.7  -4.04  0.71 -2.83]\n",
      "[-1.1  -2.7  -4.04  0.71 -2.83]\n"
     ]
    }
   ],
   "source": [
    "# numpy.around\n",
    "# numpy.round_ 파이썬 안에서도 round를 제공하는데, 중복을 피하기 위해 round_\n",
    "# ndarray.round \n",
    "\n",
    "x = np.random.uniform(-5,5,(5,))\n",
    "np_around = np.around(x, decimals=2) # 반올림. 최종적으로 표기할 자리 \n",
    "np_round = np.round(x, decimals=2)\n",
    "x_round = x.round(decimals=2)\n",
    "print(np_around, np_round, x_round, sep='\\n')"
   ]
  },
  {
   "cell_type": "code",
   "execution_count": 89,
   "id": "2ef20cff",
   "metadata": {},
   "outputs": [
    {
     "name": "stdout",
     "output_type": "stream",
     "text": [
      "[ 1.61355384  3.60420833  3.69368927 -3.42604151 -0.32667348]\n",
      "----------------------------------------\n",
      "[ 2.  4.  4. -3. -0.]\n",
      "----------------------------------------\n",
      "[ 1.  3.  3. -4. -1.]\n"
     ]
    }
   ],
   "source": [
    "# 정수를 만들어주는 API\n",
    "# numpy.ceil 올림\n",
    "# numpu.floor 내림\n",
    "\n",
    "x =np.random.uniform(-5,5,(5,))\n",
    "ceil = np.ceil(x)\n",
    "floor = np.floor(x)\n",
    "\n",
    "print(x)\n",
    "print('-'*40)\n",
    "print(ceil)\n",
    "print('-'*40)\n",
    "print(floor)"
   ]
  },
  {
   "cell_type": "code",
   "execution_count": 90,
   "id": "a2a83e6e",
   "metadata": {},
   "outputs": [
    {
     "name": "stdout",
     "output_type": "stream",
     "text": [
      "[ 3.94563657  2.299262    3.66386378 -1.13106988 -0.00987336]\n",
      "----------------------------------------\n",
      "[ 3.  2.  3. -1. -0.]\n"
     ]
    }
   ],
   "source": [
    "# numpy.trunc\n",
    "\n",
    "x = np.random.uniform(-5,5,(5,))\n",
    "trunc = np.trunc(x)\n",
    "print(x)\n",
    "print('-'*40)\n",
    "print(trunc) # 그냥 소숫점 아래 날리기. 딥러닝에서 많이 이용됨"
   ]
  },
  {
   "cell_type": "code",
   "execution_count": 92,
   "id": "f0b63894",
   "metadata": {},
   "outputs": [
    {
     "name": "stdout",
     "output_type": "stream",
     "text": [
      "[ 1.13224816 -0.58396507  0.49021998  0.98148894  3.79058203]\n",
      "----------------------------------------\n",
      "[ 1. -0.  0.  0.  3.]\n"
     ]
    }
   ],
   "source": [
    "# np.trunc 구현 \n",
    "x = np.random.uniform(-5,5,(5,))\n",
    "trunc_where = np.where(x>=0, np.floor(x), np.ceil(x))\n",
    "print(x)\n",
    "print('-'*40)\n",
    "print(trunc_where)"
   ]
  },
  {
   "cell_type": "code",
   "execution_count": 93,
   "id": "bd31b06e",
   "metadata": {},
   "outputs": [
    {
     "name": "stdout",
     "output_type": "stream",
     "text": [
      "[ 1.76871189  2.13754473  4.69926592 -4.32338243 -3.12386437]\n",
      "----------------------------------------\n",
      "[ 1.7  2.1  4.6 -4.3 -3.1]\n"
     ]
    }
   ],
   "source": [
    "# trunc 구현 02\n",
    "x = np.random.uniform(-5,5,(5,))\n",
    "trunc = .1*np.trunc(10*x)\n",
    "print(x)\n",
    "print('-'*40)\n",
    "print(trunc) # 소숫점 둘째자리까지 truncate 하고 싶을 때"
   ]
  },
  {
   "cell_type": "code",
   "execution_count": 94,
   "id": "df475dc1",
   "metadata": {},
   "outputs": [
    {
     "name": "stdout",
     "output_type": "stream",
     "text": [
      "[-1.81877707  4.46067344 -2.71444974  0.65094573 -3.8223887 ]\n",
      "----------------------------------------\n",
      "[-1.  4. -2.  0. -3.]\n",
      "[-0.81877707  0.46067344 -0.71444974  0.65094573 -0.8223887 ]\n"
     ]
    }
   ],
   "source": [
    "# trunc 구현 03\n",
    "x = np.random.uniform(-5,5,(5,))\n",
    "int_part = np.trunc(x)\n",
    "frac_part = x - int_part\n",
    "print(x)\n",
    "print('-'*40)\n",
    "print(int_part, frac_part, sep='\\n') # integer part, fraction part 따로 가져오기. "
   ]
  },
  {
   "cell_type": "markdown",
   "id": "c56b03a2",
   "metadata": {},
   "source": [
    "## sorting"
   ]
  },
  {
   "cell_type": "markdown",
   "id": "91433f4c",
   "metadata": {},
   "source": [
    "***vector sorting***"
   ]
  },
  {
   "cell_type": "code",
   "execution_count": 97,
   "id": "7add4334",
   "metadata": {},
   "outputs": [
    {
     "name": "stdout",
     "output_type": "stream",
     "text": [
      "[40 27 43  3 17 47 48 76 47 31]\n",
      "[ 3 17 27 31 40 43 47 47 48 76]\n",
      "[3 4 1 9 0 2 5 8 6 7]\n"
     ]
    }
   ],
   "source": [
    "# numpy.sort\n",
    "# numpy.argsort 데이터 포인트의 위치가 중요할 때\n",
    "import numpy as np\n",
    "# 오름차순 \n",
    "x = np.random.randint(0,100,(10,))\n",
    "sort = np.sort(x)\n",
    "argsort = np.argsort(x)\n",
    "\n",
    "print(x,sort, argsort, sep='\\n')"
   ]
  },
  {
   "cell_type": "code",
   "execution_count": 98,
   "id": "d18d1197",
   "metadata": {},
   "outputs": [
    {
     "name": "stdout",
     "output_type": "stream",
     "text": [
      "[15 81 11 41  1 22 55  5 67 17]\n",
      "[81 67 55 41 22 17 15 11  5  1]\n",
      "[1 8 6 3 5 9 0 2 7 4]\n"
     ]
    }
   ],
   "source": [
    "# 내림차순\n",
    "x = np.random.randint(0,100,(10,))\n",
    "sort = np.sort(x)[::-1]\n",
    "argsort = np.argsort(x)[::-1]\n",
    "\n",
    "print(x,sort, argsort, sep='\\n')"
   ]
  },
  {
   "cell_type": "code",
   "execution_count": 103,
   "id": "bc1b26cf",
   "metadata": {},
   "outputs": [
    {
     "name": "stdout",
     "output_type": "stream",
     "text": [
      "[0.013 0.087 0.091 0.552 0.257]\n",
      "[0.552 0.257 0.091]\n",
      "[3 4 2]\n"
     ]
    }
   ],
   "source": [
    "pred = np.random.uniform(0,100,(5,))\n",
    "pred /= pred.sum()\n",
    "\n",
    "top3_pred = np.sort(pred)[::-1][:3]\n",
    "top3_indices = np.argsort(pred)[::-1][:3] # 인덱스를 돌려줌.\n",
    "\n",
    "print(pred.round(3))\n",
    "print(top3_pred.round(3))\n",
    "print(top3_indices)"
   ]
  },
  {
   "cell_type": "markdown",
   "id": "9a06b5f2",
   "metadata": {},
   "source": [
    "***matrices sorting***"
   ]
  },
  {
   "cell_type": "code",
   "execution_count": 105,
   "id": "3866b855",
   "metadata": {},
   "outputs": [
    {
     "name": "stdout",
     "output_type": "stream",
     "text": [
      "[[79 29 79  8 18]\n",
      " [95 72 59 94 47]\n",
      " [80  5 44 86 36]\n",
      " [46 13 15 72 31]]\n",
      "----------------------------------------\n",
      "[[46  5 15  8 18]\n",
      " [79 13 44 72 31]\n",
      " [80 29 59 86 36]\n",
      " [95 72 79 94 47]]\n",
      "----------------------------------------\n",
      "[[3 2 3 0 0]\n",
      " [0 3 2 3 3]\n",
      " [2 0 1 2 2]\n",
      " [1 1 0 1 1]]\n"
     ]
    }
   ],
   "source": [
    "x = np.random.randint(0,100,(4,5))\n",
    "\n",
    "sort = np.sort(x,axis=0)\n",
    "argsort = np.argsort(x, axis=0)\n",
    "\n",
    "print(x)\n",
    "print('-'*40)\n",
    "print(sort)\n",
    "print('-'*40)\n",
    "print(argsort)\n"
   ]
  },
  {
   "cell_type": "code",
   "execution_count": 106,
   "id": "b344924a",
   "metadata": {},
   "outputs": [
    {
     "name": "stdout",
     "output_type": "stream",
     "text": [
      "[[89 45 21 80 34]\n",
      " [ 9  9 93 30 10]\n",
      " [35 56 46 94 27]\n",
      " [53 68 81 57 45]]\n",
      "----------------------------------------\n",
      "[[89 68 93 94 45]\n",
      " [53 56 81 80 34]\n",
      " [35 45 46 57 27]\n",
      " [ 9  9 21 30 10]]\n",
      "----------------------------------------\n",
      "[[0 3 1 2 3]\n",
      " [3 2 3 0 0]\n",
      " [2 0 2 3 2]\n",
      " [1 1 0 1 1]]\n"
     ]
    }
   ],
   "source": [
    "x = np.random.randint(0,100,(4,5))\n",
    "\n",
    "sort = np.sort(x,axis=0)[::-1, :] # 열마다 내림차순 \n",
    "argsort = np.argsort(x, axis=0)[::-1, :] # 열마다 내림차순\n",
    "\n",
    "print(x)\n",
    "print('-'*40)\n",
    "print(sort)\n",
    "print('-'*40)\n",
    "print(argsort)\n"
   ]
  },
  {
   "cell_type": "code",
   "execution_count": 111,
   "id": "6af41027",
   "metadata": {},
   "outputs": [
    {
     "name": "stdout",
     "output_type": "stream",
     "text": [
      "[[22 28 88]\n",
      " [86  4 84]\n",
      " [84 62 93]\n",
      " [52 14 68]\n",
      " [87  3 57]]\n",
      "[[87 62 93]\n",
      " [86 28 88]]\n",
      "[[4 2 2]\n",
      " [1 0 0]]\n"
     ]
    }
   ],
   "source": [
    "# column sorting\n",
    "scores = np.random.randint(0,100,(5,3))\n",
    "sort = np.sort(scores, axis=0)[::-1, :]\n",
    "argsort = np.argsort(scores, axis=0)[::-1, :]\n",
    "top_2_scores = sort[:2, :]\n",
    "top_2_students = argsort[:2, :]\n",
    "\n",
    "print(scores)\n",
    "print(top_2_scores)\n",
    "print(top_2_students)\n"
   ]
  },
  {
   "cell_type": "code",
   "execution_count": 112,
   "id": "c397054f",
   "metadata": {},
   "outputs": [
    {
     "name": "stdout",
     "output_type": "stream",
     "text": [
      "[[10 44 23]\n",
      " [81 39 61]\n",
      " [54 26 57]\n",
      " [89 50 91]\n",
      " [23 33 30]]\n",
      "----------------------------------------\n",
      "[[10 23 44]\n",
      " [39 61 81]\n",
      " [26 54 57]\n",
      " [50 89 91]\n",
      " [23 30 33]]\n",
      "[[0 2 1]\n",
      " [1 2 0]\n",
      " [1 0 2]\n",
      " [1 0 2]\n",
      " [0 2 1]]\n",
      "----------------------------------------\n",
      "[[44 23 10]\n",
      " [81 61 39]\n",
      " [57 54 26]\n",
      " [91 89 50]\n",
      " [33 30 23]]\n",
      "[[1 2 0]\n",
      " [0 2 1]\n",
      " [2 0 1]\n",
      " [2 0 1]\n",
      " [1 2 0]]\n"
     ]
    }
   ],
   "source": [
    "scores = np.random.randint(0,100,(4,5))\n",
    "\n",
    "sort_ascending = np.sort(x, axis=1)\n",
    "argsort_ascending = np.argsort(x, axis=1)\n",
    "\n",
    "sort_descending = np.sort(x, axis=1)[:, ::-1]\n",
    "argsort_descending = np.argsort(x, axis=1)[:, ::-1]\n",
    "\n",
    "print(x)\n",
    "print('-'*40)\n",
    "print(sort_ascending)\n",
    "print(argsort_ascending)\n",
    "print('-'*40)\n",
    "print(sort_descending)\n",
    "print(argsort_descending)"
   ]
  },
  {
   "cell_type": "code",
   "execution_count": 114,
   "id": "2de67662",
   "metadata": {},
   "outputs": [
    {
     "name": "stdout",
     "output_type": "stream",
     "text": [
      "[[73 96 50]\n",
      " [59 51 89]\n",
      " [83 62 99]\n",
      " [64 35 89]\n",
      " [40 46 62]]\n",
      "----------------------------------------\n",
      "[[50 73]\n",
      " [51 59]\n",
      " [62 83]\n",
      " [35 64]\n",
      " [40 46]]\n",
      "----------------------------------------\n",
      "[[2 0]\n",
      " [1 0]\n",
      " [1 0]\n",
      " [1 0]\n",
      " [0 1]]\n"
     ]
    }
   ],
   "source": [
    "scores = np.random.randint(0,100,(5,3))\n",
    "\n",
    "sort = np.sort(scores, axis=1)\n",
    "argsort = np.argsort(scores, axis=1)\n",
    "\n",
    "bottom2_scores = sort[:, :2]\n",
    "bottom2_subjects = argsort[:, :2]\n",
    "\n",
    "print(scores)\n",
    "print('-'*40)\n",
    "print(bottom2_scores)\n",
    "print('-'*40)\n",
    "print(bottom2_subjects)"
   ]
  },
  {
   "cell_type": "markdown",
   "id": "96e977a3",
   "metadata": {},
   "source": [
    "# 수학함수"
   ]
  },
  {
   "cell_type": "markdown",
   "id": "8a8f8b6f",
   "metadata": {},
   "source": [
    "## 삼각함수와 쌍곡선 함수"
   ]
  },
  {
   "cell_type": "code",
   "execution_count": 120,
   "id": "77bffe2b",
   "metadata": {},
   "outputs": [
    {
     "name": "stdout",
     "output_type": "stream",
     "text": [
      "3.141592653589793 2.718281828459045\n",
      "----------------------------------------\n",
      "[0.52359878 0.78539816 1.04719755 1.57079633 3.14159265 6.28318531]\n",
      "----------------------------------------\n",
      "[ 30.  45.  60.  90. 180. 360.]\n"
     ]
    }
   ],
   "source": [
    "# constants 상수\n",
    "import numpy as np\n",
    "PI = np.pi # 3.14\n",
    "E = np.e # 자연 상수\n",
    "# 대문자로 표현함? ==> 수정이 되면 안되는 값. \n",
    "\n",
    "print(PI, E)\n",
    "print('-'*40)\n",
    "\n",
    "# numpy.rad2deg(x)\n",
    "# numpy.deg2rad(x)\n",
    "import numpy as np\n",
    "degree = np.array([30,45,60,90,180,360])\n",
    "rad = np.deg2rad(degree)\n",
    "degree = np.rad2deg(rad)\n",
    "print(rad)\n",
    "print('-'*40)\n",
    "print(degree)\n",
    "\n"
   ]
  },
  {
   "cell_type": "code",
   "execution_count": 126,
   "id": "e4ae15dc",
   "metadata": {},
   "outputs": [
    {
     "name": "stdout",
     "output_type": "stream",
     "text": [
      "[0.   0.63 1.26 1.88 2.51 3.14 3.77 4.4  5.03 5.65 6.28]\n",
      "----------------------------------------\n",
      "[ 0.    0.59  0.95  0.95  0.59  0.   -0.59 -0.95 -0.95 -0.59 -0.  ]\n",
      "[ 1.    0.81  0.31 -0.31 -0.81 -1.   -0.81 -0.31  0.31  0.81  1.  ]\n",
      "[ 0.    0.73  3.08 -3.08 -0.73 -0.    0.73  3.08 -3.08 -0.73 -0.  ]\n",
      "[ 0.    0.73  3.08 -3.08 -0.73 -0.    0.73  3.08 -3.08 -0.73 -0.  ]\n"
     ]
    }
   ],
   "source": [
    "# 삼각함수\n",
    "# Trigonometric Functions\n",
    "\n",
    "x = np.deg2rad(np.linspace(0,360,11))\n",
    "sin,cos = np.sin(x),np.cos(x)\n",
    "tan = np.tan(x)\n",
    "print(x.round(2))\n",
    "print('-'*40)\n",
    "print(sin.round(2),cos.round(2),tan.round(2), sep='\\n')\n",
    "print((sin/cos).round(2))"
   ]
  },
  {
   "cell_type": "code",
   "execution_count": 135,
   "id": "a988a857",
   "metadata": {},
   "outputs": [
    {
     "name": "stdout",
     "output_type": "stream",
     "text": [
      "[  1.     2.72   7.39  20.09  54.6  148.41 403.43]\n",
      "[  1.     2.72   7.39  20.09  54.6  148.41 403.43]\n"
     ]
    },
    {
     "data": {
      "text/plain": [
       "[<matplotlib.lines.Line2D at 0x143ab6850>]"
      ]
     },
     "execution_count": 135,
     "metadata": {},
     "output_type": "execute_result"
    },
    {
     "data": {
      "image/png": "[encoded data removed]",
      "text/plain": [
       "<Figure size 640x480 with 1 Axes>"
      ]
     },
     "metadata": {},
     "output_type": "display_data"
    }
   ],
   "source": [
    "# 지수 함수\n",
    "# numpy.exp()\n",
    "# base는 자연 상수이다 ==> E = np.e\n",
    "\n",
    "E = np.e\n",
    "x = np.arange(7)\n",
    "\n",
    "print((E**x).round(2))\n",
    "print(np.exp(x).round(2))\n",
    "\n",
    "plt.plot(np.exp(x))"
   ]
  },
  {
   "cell_type": "code",
   "execution_count": 139,
   "id": "69105a8a",
   "metadata": {},
   "outputs": [
    {
     "data": {
      "text/plain": [
       "[<matplotlib.lines.Line2D at 0x143bd4d90>]"
      ]
     },
     "execution_count": 139,
     "metadata": {},
     "output_type": "execute_result"
    },
    {
     "data": {
      "image/png": "[encoded data removed]",
      "text/plain": [
       "<Figure size 640x480 with 1 Axes>"
      ]
     },
     "metadata": {},
     "output_type": "display_data"
    }
   ],
   "source": [
    "# exponential Functions\n",
    "x = np.linspace(-5,5,100)\n",
    "sigmoid = 1/(1+np.exp(-x)) # (100,)\n",
    "plt.plot(x, sigmoid)"
   ]
  },
  {
   "cell_type": "code",
   "execution_count": 140,
   "id": "d5bf53a0",
   "metadata": {},
   "outputs": [
    {
     "name": "stdout",
     "output_type": "stream",
     "text": [
      "[0.   0.24 0.46 0.64 0.76]\n",
      "[0.   0.24 0.46 0.64 0.76]\n"
     ]
    }
   ],
   "source": [
    "# Hyperbolic Functions\n",
    "# numpy.sinh(x), numpy.cosh(x), numpy.tanh(x)\n",
    "\n",
    "x = np.linspace(0,1,5)\n",
    "\n",
    "sinh, cosh = np.sinh(x), np.cosh(x)\n",
    "tanh = np.tanh(x)\n",
    "\n",
    "print(tanh.round(2))\n",
    "print((sinh/cosh).round(2))"
   ]
  },
  {
   "cell_type": "code",
   "execution_count": 143,
   "id": "e3bd26b8",
   "metadata": {},
   "outputs": [
    {
     "name": "stdout",
     "output_type": "stream",
     "text": [
      "[0.         0.25261232 0.52109531 0.82231673 1.17520119]\n",
      "[0.         0.25261232 0.52109531 0.82231673 1.17520119]\n",
      "[1.         1.0314131  1.12762597 1.29468328 1.54308063]\n",
      "[1.         1.0314131  1.12762597 1.29468328 1.54308063]\n"
     ]
    }
   ],
   "source": [
    "x = np.linspace(0,1,5)\n",
    "\n",
    "sinh = np.sinh(x)\n",
    "sinh_exp = (np.exp(x) - np.exp(-x))/2\n",
    "\n",
    "cosh = np.cosh(x)\n",
    "cosh_exp = (np.exp(x) + np.exp(-x))/2\n",
    "\n",
    "print(sinh, sinh_exp, sep='\\n')\n",
    "print(cosh, cosh_exp, sep='\\n')"
   ]
  },
  {
   "cell_type": "markdown",
   "id": "04c5817f",
   "metadata": {},
   "source": [
    "***Activation Function***"
   ]
  },
  {
   "cell_type": "code",
   "execution_count": null,
   "id": "4c90af21",
   "metadata": {},
   "outputs": [],
   "source": [
    "# sigmoid\n",
    "# tanh\n",
    "# ReLU\n",
    "\n",
    "import numpy as np\n",
    "import matplolib.pyplot as plt\n",
    "\n",
    "x = np.linspace(-3,3,100)\n",
    "sigmoid = 1/(1+np.exp(-x))\n",
    "tanh = np.tanh(x)\n",
    "relu = np.maximum(x,0)"
   ]
  },
  {
   "cell_type": "code",
   "execution_count": 146,
   "id": "0e00a5e5",
   "metadata": {},
   "outputs": [
    {
     "name": "stdout",
     "output_type": "stream",
     "text": [
      "[ 0.363 -0.362  1.542  1.266  2.222  2.26  -0.598  0.592  2.548 -2.749]\n",
      "----------------------------------------\n",
      "[0.363 0.    1.542 1.266 2.222 2.26  0.    0.592 2.548 0.   ]\n"
     ]
    }
   ],
   "source": [
    "# np.max ==> 최댓값 하나만 뽑음\n",
    "# np.maximum ==> 행렬 끼리의 비교를 통해 큰 값 추출\n",
    "x = np.random.uniform(-3,3,(10,))\n",
    "print(x.round(3))\n",
    "print('-'*40)\n",
    "print(np.maximum(x,0).round(3))"
   ]
  },
  {
   "cell_type": "markdown",
   "id": "b63d0421",
   "metadata": {},
   "source": [
    "## 멱함수 (power function)"
   ]
  },
  {
   "cell_type": "code",
   "execution_count": 149,
   "id": "92d882a2",
   "metadata": {},
   "outputs": [
    {
     "name": "stdout",
     "output_type": "stream",
     "text": [
      "[ 1  4  4 36  0 36 81 81  9 81]\n",
      "[ 1  4  4 36  0 36 81 81  9 81]\n",
      "[ 1  4  4 36  0 36 81 81  9 81]\n"
     ]
    }
   ],
   "source": [
    "# numpy.square\n",
    "import numpy as np\n",
    "a = np.random.randint(0,10,(10,))\n",
    "square1 = a*a\n",
    "square2 = a**2\n",
    "square3 = np.square(a)\n",
    "print(square1, square2, square3, sep='\\n')"
   ]
  },
  {
   "cell_type": "code",
   "execution_count": 150,
   "id": "2c6a2a7f",
   "metadata": {},
   "outputs": [
    {
     "name": "stdout",
     "output_type": "stream",
     "text": [
      "[1.41421356 2.44948974 2.44948974 3.        ]\n",
      "[1.41421356 2.44948974 2.44948974 3.        ]\n"
     ]
    }
   ],
   "source": [
    "# numpy.sqrt, numpy.cbrt\n",
    "a = np.random.randint(0,10,(4,))\n",
    "sqrt1 = a**(1/2)\n",
    "sqrt2 = np.sqrt(a)\n",
    "\n",
    "cbrt1 = a**(1/3)\n",
    "cbrt2 = np.cbrt(a)\n",
    "\n",
    "print(sqrt1, sqrt2, sep='\\n')"
   ]
  },
  {
   "cell_type": "code",
   "execution_count": 151,
   "id": "5dabc7bc",
   "metadata": {},
   "outputs": [
    {
     "name": "stdout",
     "output_type": "stream",
     "text": [
      "[0.23485367 5.18134022 0.21860398 0.1122571 ]\n",
      "[0.23485367 5.18134022 0.21860398 0.1122571 ]\n",
      "[0.23485367 5.18134022 0.21860398 0.1122571 ]\n"
     ]
    }
   ],
   "source": [
    "# 분수함수 numpy.reciprocal(x)\n",
    "a = np.random.uniform(0,10,(4,))\n",
    "recip1 = 1/a\n",
    "recip2 = a**(-1)\n",
    "recip3 = np.reciprocal(a)\n",
    "\n",
    "print(recip1, recip2, recip3, sep='\\n')"
   ]
  },
  {
   "cell_type": "code",
   "execution_count": 153,
   "id": "2d29c9c3",
   "metadata": {},
   "outputs": [
    {
     "name": "stdout",
     "output_type": "stream",
     "text": [
      "[10.29 19.94  0.   14.98]\n",
      "[10.29 19.94  0.   14.98]\n",
      "[10.29 19.94  0.   14.98]\n"
     ]
    }
   ],
   "source": [
    "# numpy.power(x1, x2)\n",
    "a = np.random.uniform(0,5,(4,))\n",
    "s1 = np.square(a).round(2)\n",
    "s2 = (a**2).round(2)\n",
    "s3 = np.power(a, 2).round(2)\n",
    "\n",
    "print(s1, s2, s3, sep='\\n')"
   ]
  },
  {
   "cell_type": "code",
   "execution_count": 156,
   "id": "7977a3e7",
   "metadata": {},
   "outputs": [
    {
     "name": "stdout",
     "output_type": "stream",
     "text": [
      "[ -1.75677168  -2.7646379    5.78165179   2.14284384  23.26223018\n",
      "  24.67274818  -3.95238495  -1.48626431  37.17880136 -82.18962086]\n",
      "[ -1.75677168  -2.7646379    5.78165179   2.14284384  23.26223018\n",
      "  24.67274818  -3.95238495  -1.48626431  37.17880136 -82.18962086]\n"
     ]
    }
   ],
   "source": [
    "a = np.random.uniform(0,5,(4,))\n",
    "\n",
    "y1 = 3*x**3 - 2*x**2 + x -2\n",
    "y2 = 3*np.power(x, 3) - 2*np.power(x,2) + x - 2\n",
    "\n",
    "print(y1, y2, sep='\\n')"
   ]
  },
  {
   "cell_type": "code",
   "execution_count": 157,
   "id": "2405e7cc",
   "metadata": {},
   "outputs": [
    {
     "name": "stdout",
     "output_type": "stream",
     "text": [
      "[50.65 93.13  1.37 47.15]\n",
      "[50.65 93.13  1.37 47.15]\n"
     ]
    }
   ],
   "source": [
    "# exponentional function\n",
    "a = np.random.uniform(0,5,(4,))\n",
    "\n",
    "exp1 = np.exp(a).round(2)\n",
    "exp2 = np.power(np.e, a).round(2)\n",
    "print(exp1, exp2, sep='\\n')"
   ]
  },
  {
   "cell_type": "code",
   "execution_count": 161,
   "id": "abd7e721",
   "metadata": {},
   "outputs": [
    {
     "name": "stdout",
     "output_type": "stream",
     "text": [
      "[3.92491332 4.53400412 0.31516719 3.85330476]\n",
      "[1.59430668 1.71091163 0.2739638  1.57965987]\n",
      "[3.92491332 4.53400412 0.31516719 3.85330476]\n"
     ]
    }
   ],
   "source": [
    "log_a = np.log1p(a)\n",
    "exp_a = np.expm1(log_a)\n",
    "print(a)\n",
    "print(log_a)\n",
    "print(exp_a)"
   ]
  },
  {
   "cell_type": "markdown",
   "id": "ed934173",
   "metadata": {},
   "source": [
    "## 로그 함수"
   ]
  },
  {
   "cell_type": "code",
   "execution_count": 170,
   "id": "d4736192",
   "metadata": {},
   "outputs": [
    {
     "data": {
      "image/png": "[encoded data removed]",
      "text/plain": [
       "<Figure size 640x480 with 1 Axes>"
      ]
     },
     "metadata": {},
     "output_type": "display_data"
    }
   ],
   "source": [
    "x = np.linspace(0.001, 10, 300) # 정의역 포함\n",
    "log = np.log(x)\n",
    "plt.plot(log)\n",
    "plt.show()"
   ]
  },
  {
   "cell_type": "code",
   "execution_count": 171,
   "id": "9ae949b1",
   "metadata": {},
   "outputs": [
    {
     "name": "stdout",
     "output_type": "stream",
     "text": [
      "[4.05198885 3.32899152 1.93699499 3.74406376]\n",
      "[1.39920784 1.20266941 0.6611378  1.32017159]\n",
      "[4.05198885 3.32899152 1.93699499 3.74406376]\n"
     ]
    }
   ],
   "source": [
    "a = np.random.uniform(1,5,(4,))\n",
    "log = np.log(a)\n",
    "exp = np.exp(log)\n",
    "\n",
    "print(a)\n",
    "print(log)\n",
    "print(exp) # 역연산 "
   ]
  },
  {
   "cell_type": "code",
   "execution_count": 173,
   "id": "31f7eea5",
   "metadata": {},
   "outputs": [
    {
     "name": "stdout",
     "output_type": "stream",
     "text": [
      "[2.217 2.516 2.032 1.577]\n",
      "[2.217 2.516 2.032 1.577]\n"
     ]
    }
   ],
   "source": [
    "# log(a) + log(b) = log(ab)\n",
    "a = np.random.uniform(1,5,(4,))\n",
    "b = np.random.uniform(1,5,(4,))\n",
    "\n",
    "print((np.log(a) + np.log(b)).round(3))\n",
    "print(np.log(a*b).round(3))"
   ]
  },
  {
   "cell_type": "code",
   "execution_count": null,
   "id": "43c64fc6",
   "metadata": {},
   "outputs": [],
   "source": [
    "a = np.random.uniform(1,5,(4,))\n",
    "log2 = np.log(a)/np.log(2) # base를 2로 맞춘 것이구나! \n"
   ]
  },
  {
   "cell_type": "code",
   "execution_count": 175,
   "id": "770dff7e",
   "metadata": {},
   "outputs": [
    {
     "name": "stdout",
     "output_type": "stream",
     "text": [
      "probability :\n",
      " [0.19726723 0.50140223 0.02684466 0.53333406]\n",
      "base e :\n",
      " [0.49659058 0.69314325 0.12359668 0.69092321]\n",
      "base 2 :\n",
      " [0.71642877 0.99999433 0.17831232 0.99679149]\n"
     ]
    }
   ],
   "source": [
    "# binary entropy\n",
    "import numpy as np\n",
    "p = np.random.uniform(0,1,(4,)) # 4개의 확률\n",
    "# p = np.random.uniform(0.0001, 0.9999, (4,)) 0과 1을 빼고 설정할 때. \n",
    "be_e = -(p*np.log(p) + (1-p)*np.log(1-p))\n",
    "be_2 = -(p*np.log(p)/np.log(2) + (1-p)*np.log(1-p)/np.log(2)) # base가 2\n",
    "\n",
    "print('probability :\\n', p)\n",
    "print('base e :\\n', be_e)\n",
    "print('base 2 :\\n', be_2)\n"
   ]
  },
  {
   "cell_type": "markdown",
   "id": "79b7ccae",
   "metadata": {},
   "source": [
    "# 넘파이 API - 벡터, 행렬의 연산"
   ]
  },
  {
   "cell_type": "markdown",
   "id": "5572983d",
   "metadata": {},
   "source": [
    "## 벡터의 내적과 행렬의 곱셈"
   ]
  },
  {
   "cell_type": "code",
   "execution_count": 176,
   "id": "b1b42e4d",
   "metadata": {},
   "outputs": [],
   "source": [
    "# 강의 분량을 확 줄였음. "
   ]
  },
  {
   "cell_type": "code",
   "execution_count": 181,
   "id": "b31c3803",
   "metadata": {},
   "outputs": [
    {
     "name": "stdout",
     "output_type": "stream",
     "text": [
      "[0.88814109 2.50225409 2.44660246 0.95712758]\n",
      "[2.304371   0.00311441 0.38556391 2.38115826] \n",
      "\n",
      "[2.04660657 0.00779305 0.94332161 2.27907223]\n",
      "5.276793465173363\n",
      "5.276793465173363\n"
     ]
    }
   ],
   "source": [
    "# Dot Product\n",
    "# numpy.dot(a,b)\n",
    "# 원소별 곱셈을 해주고 다 더해주는 것. \n",
    "\n",
    "u = np.random.uniform(0,5,(4,))\n",
    "v = np.random.uniform(0,5,(4,))\n",
    "print(u)\n",
    "print(v, '\\n')\n",
    "sum_hadamard = np.sum(u*v)\n",
    "np_dot = np.dot(u,v)\n",
    "\n",
    "print(u*v)\n",
    "print(sum_hadamard)\n",
    "print(np_dot)"
   ]
  },
  {
   "cell_type": "code",
   "execution_count": 188,
   "id": "7725a14d",
   "metadata": {},
   "outputs": [
    {
     "name": "stdout",
     "output_type": "stream",
     "text": [
      "[[0.534 4.667 1.407 0.64 ]\n",
      " [0.628 3.952 3.914 3.364]\n",
      " [4.89  4.857 3.628 4.204]\n",
      " [3.882 0.386 3.157 2.07 ]\n",
      " [2.446 1.107 0.147 4.495]]\n",
      "[[4.614 3.706 3.718 4.169 1.559]\n",
      " [4.1   3.383 3.938 4.268 4.451]\n",
      " [0.106 2.309 4.744 2.885 3.58 ]\n",
      " [1.674 0.464 2.883 2.138 0.125]]\n"
     ]
    },
    {
     "data": {
      "text/plain": [
       "array([[22.819, 21.313, 28.882, 27.569, 26.722],\n",
       "       [25.147, 26.295, 46.166, 37.967, 33.002],\n",
       "       [49.899, 44.882, 66.643, 60.57 , 42.76 ],\n",
       "       [23.292, 23.942, 36.9  , 31.364, 19.333],\n",
       "       [23.366, 15.236, 27.114, 24.958,  9.834]])"
      ]
     },
     "execution_count": 188,
     "metadata": {},
     "output_type": "execute_result"
    }
   ],
   "source": [
    "# operations of a artifical neuron\n",
    "# vector에 대해서 np.dot()\n",
    "\n",
    "x = np.random.uniform(0,5,(4,))\n",
    "w = np.random.uniform(0,5,(4,))\n",
    "b = np.random.uniform(0,5,())\n",
    "\n",
    "affine = np.dot(x,w) + b\n",
    "activation = 1/(1+np.exp(-affine))\n"
   ]
  },
  {
   "cell_type": "code",
   "execution_count": 191,
   "id": "3c7081d0",
   "metadata": {},
   "outputs": [
    {
     "name": "stdout",
     "output_type": "stream",
     "text": [
      "[21.71 33.26 21.56]\n",
      "[21.71 33.26 21.56]\n"
     ]
    }
   ],
   "source": [
    "# matrices&vector np.dot\n",
    "\n",
    "M = np.random.uniform(0,5, (3,4))\n",
    "u = np.random.uniform(0,5, (4,))\n",
    "\n",
    "mat_vec_mul = np.empty(3,) # 빈공간 만들기\n",
    "for row_idx, row in enumerate(M):\n",
    "    mat_vec_mul[row_idx] = np.dot(row, u)\n",
    "    \n",
    "np_matmul = np.matmul(M,u)\n",
    "print(mat_vec_mul.round(2))\n",
    "print(np_matmul.round(2))"
   ]
  },
  {
   "cell_type": "code",
   "execution_count": 199,
   "id": "eaf02b15",
   "metadata": {},
   "outputs": [
    {
     "name": "stdout",
     "output_type": "stream",
     "text": [
      "[[20.67190379 21.68005392 17.66939818 16.72115942 28.97229069]\n",
      " [30.18765443 35.21358094 24.55447682 28.1021494  47.99077173]\n",
      " [37.48144231 37.5126268  30.12006552 29.51642993 52.38164793]]\n",
      "-----------------------------------------------------------------\n",
      "[[20.67190379 21.68005392 17.66939818 16.72115942 28.97229069]\n",
      " [30.18765443 35.21358094 24.55447682 28.1021494  47.99077173]\n",
      " [37.48144231 37.5126268  30.12006552 29.51642993 52.38164793]]\n",
      "-----------------------------------------------------------------\n",
      "[[20.67190379 21.68005392 17.66939818 16.72115942 28.97229069]\n",
      " [30.18765443 35.21358094 24.55447682 28.1021494  47.99077173]\n",
      " [37.48144231 37.5126268  30.12006552 29.51642993 52.38164793]]\n"
     ]
    }
   ],
   "source": [
    "# numpy.matmul 두개의 행렬을 곱함\n",
    "M = np.random.uniform(0,5,(3,4))\n",
    "N = np.random.uniform(0,5,(4,5))\n",
    "mat_mat_mul = np.empty((3,5))\n",
    "for M_row_idx in range(3):\n",
    "    for N_col_idx in range(5):\n",
    "        dot_prod = np.dot(M[M_row_idx, :], N[:,N_col_idx])\n",
    "        mat_mat_mul[M_row_idx, N_col_idx] = dot_prod\n",
    "        \n",
    "np_matmul = np.matmul(M, N)\n",
    "        \n",
    "print(mat_mat_mul)\n",
    "print('-'*65)\n",
    "print(np_matmul)\n",
    "print('-'*65)\n",
    "print(np.dot(M,N))"
   ]
  },
  {
   "cell_type": "code",
   "execution_count": 200,
   "id": "d74f435f",
   "metadata": {},
   "outputs": [],
   "source": [
    "# operations of Artificial Neurons\n",
    "import numpy as np\n",
    "\n",
    "X = np.random.uniform(0,5,(3,4))\n",
    "\n",
    "W = np.random.uniform(0,5,(4,5))\n",
    "b = np.random.uniform(0,5,())\n",
    "\n",
    "# affine = np.matmul(X, W) + b\n",
    "affine = np.dot(X,W) + b # 더해지는 것 자체가 broadcasting되어서 더해짐. \n",
    "activation = 1/(1+np.exp(-affine))\n",
    "\n"
   ]
  },
  {
   "cell_type": "code",
   "execution_count": null,
   "id": "32d2493f",
   "metadata": {},
   "outputs": [],
   "source": []
  },
  {
   "cell_type": "code",
   "execution_count": null,
   "id": "d0417aa0",
   "metadata": {},
   "outputs": [],
   "source": []
  },
  {
   "cell_type": "code",
   "execution_count": null,
   "id": "2bd371f4",
   "metadata": {},
   "outputs": [],
   "source": []
  },
  {
   "cell_type": "code",
   "execution_count": null,
   "id": "c5a4c8a3",
   "metadata": {},
   "outputs": [],
   "source": []
  },
  {
   "cell_type": "code",
   "execution_count": null,
   "id": "0397da2c",
   "metadata": {},
   "outputs": [],
   "source": []
  },
  {
   "cell_type": "code",
   "execution_count": null,
   "id": "120898de",
   "metadata": {},
   "outputs": [],
   "source": []
  },
  {
   "cell_type": "code",
   "execution_count": null,
   "id": "a4a2f07e",
   "metadata": {},
   "outputs": [],
   "source": []
  },
  {
   "cell_type": "code",
   "execution_count": null,
   "id": "2561e8e4",
   "metadata": {},
   "outputs": [],
   "source": []
  },
  {
   "cell_type": "code",
   "execution_count": null,
   "id": "fa91d9a5",
   "metadata": {},
   "outputs": [],
   "source": []
  },
  {
   "cell_type": "code",
   "execution_count": null,
   "id": "fcea5fa7",
   "metadata": {},
   "outputs": [],
   "source": []
  },
  {
   "cell_type": "code",
   "execution_count": null,
   "id": "cd3b679b",
   "metadata": {},
   "outputs": [],
   "source": []
  }
 ],
 "metadata": {
  "kernelspec": {
   "display_name": "Python 3 (ipykernel)",
   "language": "python",
   "name": "python3"
  },
  "language_info": {
   "codemirror_mode": {
    "name": "ipython",
    "version": 3
   },
   "file_extension": ".py",
   "mimetype": "text/x-python",
   "name": "python",
   "nbconvert_exporter": "python",
   "pygments_lexer": "ipython3",
   "version": "3.9.16"
  },
  "toc": {
   "base_numbering": 1,
   "nav_menu": {},
   "number_sections": true,
   "sideBar": true,
   "skip_h1_title": false,
   "title_cell": "Table of Contents",
   "title_sidebar": "Contents",
   "toc_cell": false,
   "toc_position": {},
   "toc_section_display": true,
   "toc_window_display": false
  },
  "varInspector": {
   "cols": {
    "lenName": 16,
    "lenType": 16,
    "lenVar": 40
   },
   "kernels_config": {
    "python": {
     "delete_cmd_postfix": "",
     "delete_cmd_prefix": "del ",
     "library": "var_list.py",
     "varRefreshCmd": "print(var_dic_list())"
    },
    "r": {
     "delete_cmd_postfix": ") ",
     "delete_cmd_prefix": "rm(",
     "library": "var_list.r",
     "varRefreshCmd": "cat(var_dic_list()) "
    }
   },
   "types_to_exclude": [
    "module",
    "function",
    "builtin_function_or_method",
    "instance",
    "_Feature"
   ],
   "window_display": false
  }
 },
 "nbformat": 4,
 "nbformat_minor": 5
}
