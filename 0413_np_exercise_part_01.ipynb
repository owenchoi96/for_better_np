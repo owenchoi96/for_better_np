{
 "cells": [
  {
   "cell_type": "markdown",
   "id": "bcd8ad88",
   "metadata": {},
   "source": [
    "# Exercise Group.1 Score Calculation"
   ]
  },
  {
   "cell_type": "markdown",
   "id": "333a2624",
   "metadata": {},
   "source": [
    "## exercise 1-1 : Data Generation"
   ]
  },
  {
   "cell_type": "code",
   "execution_count": 12,
   "id": "a8b963d6",
   "metadata": {},
   "outputs": [],
   "source": [
    "import numpy as np\n",
    "np.set_printoptions(precision=2) # .round(2)를 안해주어도 됨."
   ]
  },
  {
   "cell_type": "code",
   "execution_count": 33,
   "id": "64b09bc8",
   "metadata": {
    "scrolled": false
   },
   "outputs": [
    {
     "name": "stdout",
     "output_type": "stream",
     "text": [
      "means :  [41 42 43 41 49] shape :  (5,)\n",
      "stds :  [6.75 6.56 5.56 7.37 5.84] shape :  (5,)\n",
      "-----------------------------------------------------------------\n",
      "mean :  (5,)\n",
      "std :  [6.35 6.6  5.55 7.47 5.92]\n",
      "max :  [57.6  61.27 61.45 62.08 69.91]\n",
      "min :  [24.06 24.98 27.69 21.94 31.08]\n",
      "-----------------------------------------------------------------\n",
      "mean :  (500,)\n"
     ]
    }
   ],
   "source": [
    "n_student, n_class = 500, 5\n",
    "means = np.random.randint(40,60,(n_class,))\n",
    "stds = np.random.uniform(5,10,(n_class,))\n",
    "\n",
    "# generate data\n",
    "scores = np.random.normal(loc=means, scale=stds, size=(n_student, n_class))\n",
    "\n",
    "# print the setted scores params\n",
    "print(\"means : \", means, 'shape : ', means.shape)\n",
    "print(\"stds : \", stds, 'shape : ', stds.shape)\n",
    "print('-'*65)\n",
    "\n",
    "# print the calculated scores params\n",
    "print('mean : ', scores.mean(axis=0).shape)\n",
    "print('std : ', scores.std(axis=0))\n",
    "print('max : ', scores.max(axis=0))\n",
    "print('min : ', scores.min(axis=0))\n",
    "\n",
    "# 학생별\n",
    "print('-'*65)\n",
    "print('mean : ', scores.mean(axis=1).shape)\n",
    "# print('std : ', scores.std(axis=1))\n",
    "# print('max : ', scores.max(axis=1))\n",
    "# print('min : ', scores.min(axis=1))"
   ]
  },
  {
   "cell_type": "markdown",
   "id": "24f2d9cc",
   "metadata": {},
   "source": [
    "## Min-Max Normalization"
   ]
  },
  {
   "cell_type": "code",
   "execution_count": 35,
   "id": "4fd01d78",
   "metadata": {},
   "outputs": [],
   "source": [
    "import numpy as np\n",
    "def get_scores():\n",
    "    n_student, n_class = 500, 5\n",
    "    means = np.random.randint(40,60,(n_class,))\n",
    "    stds = np.random.uniform(5,10,(n_class,))\n",
    "    scores = np.random.normal(loc=means, scale=stds, size=(n_student, n_class))\n",
    "    return scores "
   ]
  },
  {
   "cell_type": "code",
   "execution_count": 50,
   "id": "708b827d",
   "metadata": {},
   "outputs": [
    {
     "name": "stdout",
     "output_type": "stream",
     "text": [
      "\u001b[32mBefore m-M normalization\u001b[0m\n",
      "[71.44 81.29 77.06 70.3  71.27]\n",
      "[30.06 37.28 36.89 19.39 25.1 ]\n",
      "-----------------------------------------------------------------\n",
      "(500, 5)\n",
      "(5,)\n",
      "(5,)\n",
      "(500, 5)\n",
      "-----------------------------------------------------------------\n",
      "\u001b[31mAfter m-M normalization\u001b[0m\n",
      "max scores [1. 1. 1. 1. 1.]\n",
      "min_scores [0. 0. 0. 0. 0.]\n"
     ]
    }
   ],
   "source": [
    "import numpy as np\n",
    "from termcolor import colored\n",
    "np.set_printoptions(precision=2)\n",
    "\n",
    "scores = get_scores()\n",
    "\n",
    "M_scores = scores.max(axis=0)\n",
    "m_scores = scores.min(axis=0)\n",
    "\n",
    "print(colored('Before m-M normalization', 'green'))\n",
    "print(M_scores)\n",
    "print(m_scores)\n",
    "print('-'*65)\n",
    "# min-Max normalization\n",
    "print(scores.shape) # broadcasting 가능\n",
    "print(M_scores.shape)\n",
    "print(m_scores.shape)\n",
    "\n",
    "scores = (scores - m_scores) / (M_scores - m_scores)\n",
    "print(scores.shape)\n",
    "print('-'*65)\n",
    "\n",
    "print(colored('After m-M normalization', 'red'))\n",
    "M_scores = scores.max(axis=0)\n",
    "m_scores = scores.min(axis=0)\n",
    "print('max scores',M_scores)\n",
    "print('min_scores', m_scores)"
   ]
  },
  {
   "cell_type": "markdown",
   "id": "aacc96d6",
   "metadata": {},
   "source": [
    "## standard deviation"
   ]
  },
  {
   "cell_type": "code",
   "execution_count": 54,
   "id": "1ec4bf04",
   "metadata": {},
   "outputs": [
    {
     "name": "stdout",
     "output_type": "stream",
     "text": [
      "(500, 5) \n",
      "\n",
      "[57.66 48.61 53.23 87.02 32.61]\n",
      "[7.59 6.97 7.3  9.33 5.71] \n",
      "\n",
      "[57.66 48.61 53.23 87.02 32.61]\n",
      "[7.59 6.97 7.3  9.33 5.71]\n"
     ]
    }
   ],
   "source": [
    "import numpy as np\n",
    "from termcolor import colored\n",
    "np.set_printoptions(precision=2)\n",
    "scores = get_scores()\n",
    "print(scores.shape, '\\n')\n",
    "# calculate the vars, stds with element-wise operations\n",
    "vars_ = (scores**2).mean(axis=0) - (scores.mean(axis=0)**2)\n",
    "stds = vars_**0.5\n",
    "print(vars_)\n",
    "print(stds, '\\n')\n",
    "\n",
    "# calculate the vars, stds with APIs\n",
    "vars_ = scores.var(axis=0)\n",
    "stds = scores.std(axis=0)\n",
    "print(vars_)\n",
    "print(stds)\n"
   ]
  },
  {
   "cell_type": "markdown",
   "id": "7ed7f1f1",
   "metadata": {},
   "source": [
    "## 1.4 stadardization"
   ]
  },
  {
   "cell_type": "code",
   "execution_count": 67,
   "id": "10d91a32",
   "metadata": {},
   "outputs": [
    {
     "name": "stdout",
     "output_type": "stream",
     "text": [
      "scores shape :  (500, 5) \n",
      "\n",
      "\u001b[32mBefore standardization\u001b[0m\n",
      "means :  [48.03 58.79 57.9  45.79 49.65]\n",
      "stds :  [8.51 5.75 7.03 8.02 5.21] \n",
      "\n",
      "\u001b[31mAfter standardization\u001b[0m\n",
      "means :  [ 5.25e-15 -6.37e-15 -2.80e-16 -2.24e-15  5.78e-15]\n",
      "stds :  [1. 1. 1. 1. 1.]\n"
     ]
    }
   ],
   "source": [
    "import numpy as np\n",
    "from termcolor import colored\n",
    "np.set_printoptions(precision=2)\n",
    "scores = get_scores()\n",
    "print('scores shape : ', scores.shape, '\\n')\n",
    "\n",
    "# calculate the means, stds\n",
    "means = scores.mean(axis=0)\n",
    "stds = scores.std(axis=0)\n",
    "\n",
    "# print the means, stds values before standardization\n",
    "print(colored('Before standardization', 'green'))\n",
    "print('means : ', means)\n",
    "print('stds : ', stds, '\\n')\n",
    "\n",
    "# stadardization (using broadcasting)\n",
    "scores = (scores - means) / stds\n",
    "\n",
    "# calculate the means, stds\n",
    "means = scores.mean(axis=0)\n",
    "stds = scores.std(axis=0)\n",
    "\n",
    "# print the means, stds values before standardization\n",
    "print(colored('After standardization', 'red'))\n",
    "print('means : ', means)\n",
    "print('stds : ', stds)"
   ]
  },
  {
   "cell_type": "markdown",
   "id": "63c65613",
   "metadata": {},
   "source": [
    "## Scores to Grades"
   ]
  },
  {
   "cell_type": "code",
   "execution_count": 72,
   "id": "58bebc6c",
   "metadata": {},
   "outputs": [
    {
     "name": "stdout",
     "output_type": "stream",
     "text": [
      "scores :  [60 96 76 61 42 47 42 75 34 12] scores shape :  (10,) \n",
      "\n",
      "custoffs :  [[20 40 60 80]] / shape :  (1, 4)\n"
     ]
    }
   ],
   "source": [
    "import numpy as np\n",
    "\n",
    "# generate data\n",
    "n_student = 10\n",
    "scores = np.random.randint(0,100, (n_student,))\n",
    "print('scores : ', scores, 'scores shape : ', scores.shape, '\\n')\n",
    "\n",
    "cutoffs = np.array([20,40,60,80]).reshape(1,-1)\n",
    "print('custoffs : ', cutoffs, '/ shape : ', cutoffs.shape)"
   ]
  },
  {
   "cell_type": "markdown",
   "id": "6278034e",
   "metadata": {},
   "source": [
    "***for loop 없이***"
   ]
  },
  {
   "cell_type": "code",
   "execution_count": 92,
   "id": "3464af98",
   "metadata": {},
   "outputs": [
    {
     "name": "stdout",
     "output_type": "stream",
     "text": [
      "[[60]\n",
      " [96]\n",
      " [76]\n",
      " [61]\n",
      " [42]\n",
      " [47]\n",
      " [42]\n",
      " [75]\n",
      " [34]\n",
      " [12]]\n",
      "[[20 40 60 80]]\n",
      "-----------------------------------------------------------------\n",
      "[2 4 3 3 2 2 2 3 1 0]\n"
     ]
    }
   ],
   "source": [
    "import warnings\n",
    "warnings.filterwarnings('ignore')\n",
    "scores, cutoffs = scores.reshape(-1,1), cutoffs.reshape(1,-1)\n",
    "print(scores)\n",
    "print(cutoffs) # broadcasting 가능한 상태\n",
    "print('-'*65)\n",
    "\n",
    "grades = (scores > cutoffs).astype(np.int).sum(axis=1)\n",
    "print(grades)"
   ]
  },
  {
   "cell_type": "code",
   "execution_count": 100,
   "id": "8c4e1801",
   "metadata": {},
   "outputs": [
    {
     "name": "stdout",
     "output_type": "stream",
     "text": [
      "Reinitialized existing Git repository in /Users/wonbinchoi/current_studying/for_better_np/.git/\n",
      "[master 78d7428] 0413 np exercise added\n",
      " 6 files changed, 2606 insertions(+), 128 deletions(-)\n",
      " create mode 100644 .ipynb_checkpoints/0413_np_exercise_part_01-checkpoint.ipynb\n",
      " create mode 100644 .ipynb_checkpoints/0413_np_exercise_part_02-checkpoint.ipynb\n",
      " create mode 100644 0413_np_exercise_part_01.ipynb\n",
      " create mode 100644 0413_np_exercise_part_02.ipynb\n",
      "Enumerating objects: 11, done.\n",
      "Counting objects: 100% (11/11), done.\n",
      "Delta compression using up to 8 threads\n",
      "Compressing objects: 100% (8/8), done.\n",
      "Writing objects: 100% (8/8), 7.88 KiB | 620.00 KiB/s, done.\n",
      "Total 8 (delta 6), reused 0 (delta 0), pack-reused 0\n",
      "remote: Resolving deltas: 100% (6/6), completed with 3 local objects.\u001b[K\n",
      "To https://github.com/owenchoi96/for_better_np.git\n",
      "   b3250a9..78d7428  master -> master\n"
     ]
    }
   ],
   "source": [
    "!git init\n",
    "!git add .\n",
    "!git commit -m \"0413 np exercise added\"\n",
    "!git push origin master"
   ]
  }
 ],
 "metadata": {
  "kernelspec": {
   "display_name": "Python 3 (ipykernel)",
   "language": "python",
   "name": "python3"
  },
  "language_info": {
   "codemirror_mode": {
    "name": "ipython",
    "version": 3
   },
   "file_extension": ".py",
   "mimetype": "text/x-python",
   "name": "python",
   "nbconvert_exporter": "python",
   "pygments_lexer": "ipython3",
   "version": "3.9.16"
  },
  "toc": {
   "base_numbering": 1,
   "nav_menu": {},
   "number_sections": true,
   "sideBar": true,
   "skip_h1_title": false,
   "title_cell": "Table of Contents",
   "title_sidebar": "Contents",
   "toc_cell": false,
   "toc_position": {},
   "toc_section_display": true,
   "toc_window_display": false
  },
  "varInspector": {
   "cols": {
    "lenName": 16,
    "lenType": 16,
    "lenVar": 40
   },
   "kernels_config": {
    "python": {
     "delete_cmd_postfix": "",
     "delete_cmd_prefix": "del ",
     "library": "var_list.py",
     "varRefreshCmd": "print(var_dic_list())"
    },
    "r": {
     "delete_cmd_postfix": ") ",
     "delete_cmd_prefix": "rm(",
     "library": "var_list.r",
     "varRefreshCmd": "cat(var_dic_list()) "
    }
   },
   "types_to_exclude": [
    "module",
    "function",
    "builtin_function_or_method",
    "instance",
    "_Feature"
   ],
   "window_display": false
  }
 },
 "nbformat": 4,
 "nbformat_minor": 5
}
